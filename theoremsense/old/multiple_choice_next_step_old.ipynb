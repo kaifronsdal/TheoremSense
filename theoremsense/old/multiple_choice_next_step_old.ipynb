{
 "cells": [
  {
   "cell_type": "code",
   "execution_count": 1,
   "id": "c957f87afd5a6763",
   "metadata": {
    "ExecuteTime": {
     "end_time": "2024-03-21T05:23:52.619372Z",
     "start_time": "2024-03-21T05:23:52.502924Z"
    },
    "collapsed": false
   },
   "outputs": [
    {
     "name": "stdout",
     "output_type": "stream",
     "text": [
      "/lfs/skampere1/0/kaif/conda/envs/TheoremSense/bin/python\r\n"
     ]
    }
   ],
   "source": [
    "!which python"
   ]
  },
  {
   "cell_type": "code",
   "execution_count": 14,
   "id": "e988d846e351560",
   "metadata": {
    "ExecuteTime": {
     "end_time": "2024-03-21T05:38:03.870172Z",
     "start_time": "2024-03-21T05:38:03.840060Z"
    },
    "collapsed": false
   },
   "outputs": [],
   "source": [
    "??model.generate_content"
   ]
  },
  {
   "cell_type": "code",
   "execution_count": 2,
   "id": "8a6d76371435bf11",
   "metadata": {
    "ExecuteTime": {
     "end_time": "2024-03-21T05:24:02.977326Z",
     "start_time": "2024-03-21T05:23:56.523854Z"
    },
    "collapsed": false
   },
   "outputs": [],
   "source": [
    "from openai import OpenAI\n",
    "\n",
    "client = OpenAI()\n",
    "\n",
    "response = client.chat.completions.create(\n",
    "    model=\"gpt-3.5-turbo\",\n",
    "    messages=messages\n",
    ")"
   ]
  },
  {
   "cell_type": "code",
   "execution_count": 10,
   "id": "c56dd9ce3dad3d0c",
   "metadata": {
    "ExecuteTime": {
     "end_time": "2024-03-21T05:25:20.039043Z",
     "start_time": "2024-03-21T05:25:20.026886Z"
    },
    "collapsed": false
   },
   "outputs": [
    {
     "name": "stdout",
     "output_type": "stream",
     "text": [
      "Plausible mistakes someone might make:\n",
      "\n",
      "1. Mistake: Rounding off $\\pi$ incorrectly.\n",
      "2. Mistake: Taking the absolute value of $8\\pi$.\n",
      "3. Mistake: Not considering the gap between consecutive integers properly.\n",
      "\n",
      "Multiple-choice responses:\n",
      "\n",
      "A. <step>The number $\\pi$ is between $3.14$ and $3.15$, so $-8\\pi$ is between $-8(3.15) = 25.2$ and $-8(3.14) = 25.12$.</step>\n",
      "B. <step>The number $\\pi$ is between $3.14$ and $3.15$, so $-8\\pi$ is between $-8(3.15) = -25.2$ and $-8(3.14) = -25.12$.</step>\n",
      "C. <step>The number $\\pi$ is between $3.14$ and $3.15$, so $-8\\pi$ is between $-8(3.14) = 25.12$ and $-8(3.15) = 25.2$.</step>\n",
      "D. <step>The number $\\pi$ is between $3.14$ and $3.15$, so $-8\\pi$ is between $-8(3.14) = -25.12$ and $-8(3.15) = -25.2$.</step>\n",
      "\n",
      "Correct Answer: A\n"
     ]
    }
   ],
   "source": [
    "print(response.choices[0].message.content)"
   ]
  },
  {
   "cell_type": "code",
   "execution_count": 13,
   "id": "8806a51c782b51cb",
   "metadata": {
    "ExecuteTime": {
     "end_time": "2024-03-21T05:37:12.379781Z",
     "start_time": "2024-03-21T05:37:07.257815Z"
    },
    "collapsed": false
   },
   "outputs": [
    {
     "name": "stdout",
     "output_type": "stream",
     "text": [
      "SPLIT:\n",
      "<step>We use the distributive property to expand the first two factors: $3(x+4)(x+5) = (3\\cdot x + 3 \\cdot 4) (x+5)$.</step>\n",
      "<step>Which results in $(3x+12)(x+5)$.</step>\n",
      "<step>We use the distributive property again by adding the product of $3x+12$ and $x$ to the product of $3x+12$ and 5, resulting in $(3x+12) \\cdot x +(3x+12) \\cdot 5$.</step>\n",
      "<step>Which further simplifies to $x(3x+12) + 5(3x+12)$.</step>\n",
      "<step>We use the distributive property again and combine like terms, resulting in $3x^2 + 12x + 15x+ 60$</step>\n",
      "<step>Which leads to the final result of $\\boxed{3x^2 + 27x + 60}$.</step>\n"
     ]
    }
   ],
   "source": [
    "import google.generativeai as genai\n",
    "import os\n",
    "\n",
    "genai.configure(api_key=os.environ[\"GOOGLE_AI_API_KEY\"])\n",
    "model = genai.GenerativeModel('gemini-pro')\n",
    "\n",
    "n_shot = \"\"\"\n",
    "Split this proof into steps surrounding each step by <step>...</step>.\n",
    "\n",
    "PROOF: Let $p$ be the number of pie crusts, and let $f$ be the amount of flour per crust. Because the total amount of flour needs to remain constant, we can express the relationship between pie crusts as $p\\\\cdot f = c$, where $c$ is a constant value.\n",
    "\n",
    "Since we know that 30 pie crusts each use up $\\\\frac16$ cup of flour, $30\\\\left(\\\\frac16\\\\right)=c$ or $c=5$. When $p=20$, the equation becomes $20\\\\cdot f=5$, or $f=\\\\frac5{20}=\\\\boxed{\\\\frac14}$\n",
    "\n",
    "SPLIT:\n",
    "<step>Let $p$ be the number of pie crusts, and let $f$ be the amount of flour per crust.</step>\n",
    "<step>Because the total amount of flour needs to remain constant, we can express the relationship between pie crusts as $p\\\\cdot f = c$, where $c$ is a constant value.</step>\n",
    "<step>Since we know that 30 pie crusts each use up $\\\\frac16$ cup of flour, $30\\\\left(\\\\frac16\\\\right)=c$ or $c=5$.</step>\n",
    "<step>When $p=20$, the equation becomes $20\\\\cdot f=5$.</step>\n",
    "<step>So solving for $f$, we get $f=\\\\frac5{20}=\\\\boxed{\\\\frac14}$.</step>\n",
    "\n",
    "PROOF: We begin by multiplying out the denominator and then  squaring both sides \\\\begin{align*}\n",
    "\\\\frac{\\\\sqrt{5x}}{\\\\sqrt{3(x-1)}}&=2\\\\\\\\\n",
    "(\\\\sqrt{5x})^2 &=\\\\left(2\\\\sqrt{3(x-1)}\\\\right)^2\\\\\\\\\n",
    "5x &= 12(x-1)\\\\\\\\\n",
    "12& =7x\\\\\\\\\n",
    "x&=\\\\boxed{\\\\frac{12}{7}}.\\\\\\\\\n",
    "\\\\end{align*}Checking, we see that this value of $x$ satisfies the original equation, so it is not an extraneous solution.\n",
    "\n",
    "SPLIT:\n",
    "<step>We begin by multiplying out the denominator and then squaring both sides, resulting in $\\\\frac{\\\\sqrt{5x}}{\\\\sqrt{3(x-1)}}=2$.</step>\n",
    "<step>The equation simplifies to $(\\\\sqrt{5x})^2 =\\\\left(2\\\\sqrt{3(x-1)}\\\\right)^2$.</step>\n",
    "<step>Which further simplifies to $5x = 12(x-1)$.</step>\n",
    "<step>From which we get $12 = 7x$.</step>\n",
    "<step>Solving for $x$ gives us $x=\\\\boxed{\\\\frac{12}{7}}$.</step>\n",
    "<step>Checking, we see that this value of $x$ satisfies the original equation, so it is not an extraneous solution.</step>\n",
    "\n",
    "PROOF: There is a point of intersection for each $x$ such that $f(x^2)=f(x^4)$. Since $f$ is invertible, this equation is satisfied only if $x^2=x^4$, so we simply count solutions to that equation. We can rearrange the equation $x^2=x^4$ as follows: \\\\begin{align*}\n",
    "0 &= x^4-x^2 \\\\\\\\\n",
    "0 &= x^2(x^2-1) \\\\\\\\\n",
    "0 &= x^2(x+1)(x-1)\n",
    "\\\\end{align*}The last factorization shows that the solutions are $x=-1,0,1$. Therefore, the graphs of $y=f(x^2)$ and $y=f(x^4)$ must intersect at exactly $\\\\boxed{3}$ points.\n",
    "\n",
    "SPLIT:\n",
    "<step>There is a point of intersection for each $x$ such that $f(x^2)=f(x^4)$.</step>\n",
    "<step>Since $f$ is invertible, this equation is satisfied only if $x^2=x^4$, so we simply count solutions to that equation.</step>\n",
    "<step>We can rearrange the equation $x^2=x^4$ as follows: $0 = x^4-x^2$.</step>\n",
    "<step>Factoring out $x^2$, we get $0 = x^2(x^2-1)$.</step>\n",
    "<step>Which leads to $0 = x^2(x+1)(x-1)$, showing that the solutions are $x=-1,0,1$.</step>\n",
    "<step>Therefore, the graphs of $y=f(x^2)$ and $y=f(x^4)$ must intersect at exactly $\\\\boxed{3}$ points.</step>\n",
    "\n",
    "PROOF: First, we use the distributive property to expand the first two factors:\n",
    "\\\\begin{align*}\n",
    "3(x+4)(x+5) &= (3\\\\cdot x + 3 \\\\cdot 4) (x+5)\\\\\\\\\n",
    "&=(3x+12)(x+5)\\\\\n",
    "end{align*}\n",
    "We use the distributive property again by adding the product of $3x+12$ and $x$ to the product of $3x+12$ and 5:\n",
    "\\\\begin{align*}\n",
    "(3x+12)(x+5) &= (3x+12) \\\\cdot x +(3x+12) \\\\cdot 5\\\\\\\\\n",
    "&= x(3x+12) + 5(3x+12)\\\\\n",
    "end{align*}\n",
    "We use the distributive property again and combine like terms:\n",
    "\\\\begin{align*}\n",
    "x(3x+12) + 5(3x+12) &= 3x^2 + 12x + 15x+ 60\\\\\\\\\n",
    "&= \\\\boxed{3x^2 + 27x + 60}\\\\\n",
    "end{align*}\n",
    "\"\"\"\n",
    "\n",
    "response = model.generate_content(n_shot)\n",
    "print(response.text)"
   ]
  },
  {
   "cell_type": "code",
   "execution_count": 26,
   "id": "initial_id",
   "metadata": {
    "ExecuteTime": {
     "end_time": "2024-03-21T05:53:38.646471Z",
     "start_time": "2024-03-21T05:53:31.393617Z"
    },
    "collapsed": true
   },
   "outputs": [],
   "source": [
    "%%capture\n",
    "from dataset import load_datasets, BOXED_ANSWERS_DATASETS\n",
    "import numpy as np\n",
    "import json\n",
    "\n",
    "# load the name maps\n",
    "with open('name_maps.json', 'r') as f:\n",
    "    name_maps = json.load(f)\n",
    "    DATASET_MAP = name_maps['DATASET_MAP']\n",
    "    MODEL_MAP = name_maps['MODEL_MAP']\n",
    "\n",
    "datasets_raw = load_datasets(BOXED_ANSWERS_DATASETS)\n",
    "datasets = {\n",
    "    DATASET_MAP[dataset['name']]: dataset['data']['train']\n",
    "    for dataset in datasets_raw\n",
    "}\n",
    "\n",
    "np.random.seed(0)\n",
    "num_samples = 100\n",
    "datasets_subset = {k: np.random.choice(v, num_samples, replace=False) for k, v in datasets.items()}"
   ]
  },
  {
   "cell_type": "code",
   "execution_count": 190,
   "id": "6944e4f9b7e03cf4",
   "metadata": {
    "ExecuteTime": {
     "end_time": "2024-03-22T01:07:00.372010Z",
     "start_time": "2024-03-22T01:07:00.316127Z"
    },
    "collapsed": false
   },
   "outputs": [
    {
     "data": {
      "text/plain": [
       "{'question': 'How many integers $n$ satisfy the inequality $-8\\\\pi\\\\le n\\\\le10\\\\pi$?',\n",
       " 'level': 'Level 5',\n",
       " 'type': 'Algebra',\n",
       " 'answer': 'The number $\\\\pi$ is between $3.14$ and $3.15$, so $-8\\\\pi$ is between $-8(3.15) = 25.2$ and $-8(3.14) = 25.12$. Likewise, $10\\\\pi$ is between $31.4$ and $31.5$. This suffices to establish that the integers $n$ between $-8\\\\pi$ and $10\\\\pi$ are precisely $$-25, -24, -23, -22, \\\\ldots, 28, 29, 30, 31.$$ There are $25$ negative integers in this list, $31$ positive integers, and one more integer ($0$), making $\\\\boxed{57}$ integers in total.',\n",
       " 'boxed': '57'}"
      ]
     },
     "execution_count": 190,
     "metadata": {},
     "output_type": "execute_result"
    }
   ],
   "source": [
    "datasets_subset['Algebra'][1]"
   ]
  },
  {
   "cell_type": "code",
   "execution_count": 2,
   "id": "cf2fb86aa18192fb",
   "metadata": {
    "ExecuteTime": {
     "end_time": "2024-03-24T06:40:47.567262Z",
     "start_time": "2024-03-24T06:40:42.451875Z"
    },
    "collapsed": false
   },
   "outputs": [
    {
     "name": "stdout",
     "output_type": "stream",
     "text": [
      "SPLIT: <step>First, we use the distributive property to expand the first two factors:\n",
      " \\begin{align*}\n",
      "3(x+4)(x+5) &= (3\\cdot x + 3 \\cdot 4) (x+5)\\\\\n",
      "&=(3x+12)(x+5)\\\\\n",
      "\\end{align*}\n",
      "</step>\n",
      "\n",
      "<step>We use the distributive property again by adding the product of $3x+12$ and $x$ to the product of $3x+12$ and 5:\n",
      "\\begin{align*}\n",
      "(3x+12)(x+5) &= (3x+12) \\cdot x +(3x+12) \\cdot 5\\\\\n",
      "&= x(3x+12) + 5(3x+12)\n",
      "\\end{align*}\n",
      "</step>\n",
      "\n",
      "<step>We use the distributive property again and combine like terms:\n",
      "\\begin{align*}\n",
      "x(3x+12) + 5(3x+12) &= 3x^2 + 12x + 15x+ 60\\\\\n",
      "&= \\boxed{3x^2 + 27x + 60}\n",
      "\\end{align*}\n",
      "</step>\n"
     ]
    }
   ],
   "source": [
    "\"\"\"\n",
    "At the command line, only need to run once to install the package via pip:\n",
    "\n",
    "$ pip install google-generativeai\n",
    "\"\"\"\n",
    "import google.generativeai as genai\n",
    "import os\n",
    "\n",
    "genai.configure(api_key=os.environ[\"GOOGLE_AI_API_KEY\"])\n",
    "\n",
    "# Set up the model\n",
    "generation_config = {\n",
    "    \"temperature\": 0.9,\n",
    "    \"top_p\": 1,\n",
    "    \"max_output_tokens\": 2048,\n",
    "}\n",
    "\n",
    "safety_settings = [\n",
    "    {\n",
    "        \"category\": \"HARM_CATEGORY_HARASSMENT\",\n",
    "        \"threshold\": \"BLOCK_MEDIUM_AND_ABOVE\"\n",
    "    },\n",
    "    {\n",
    "        \"category\": \"HARM_CATEGORY_HATE_SPEECH\",\n",
    "        \"threshold\": \"BLOCK_MEDIUM_AND_ABOVE\"\n",
    "    },\n",
    "    {\n",
    "        \"category\": \"HARM_CATEGORY_SEXUALLY_EXPLICIT\",\n",
    "        \"threshold\": \"BLOCK_MEDIUM_AND_ABOVE\"\n",
    "    },\n",
    "    {\n",
    "        \"category\": \"HARM_CATEGORY_DANGEROUS_CONTENT\",\n",
    "        \"threshold\": \"BLOCK_MEDIUM_AND_ABOVE\"\n",
    "    },\n",
    "]\n",
    "\n",
    "model = genai.GenerativeModel(model_name=\"gemini-1.0-pro\",\n",
    "                              generation_config=generation_config,\n",
    "                              safety_settings=safety_settings)\n",
    "\n",
    "# prompt_parts = [\n",
    "#     \"PROOF: Let $p$ be the number of pie crusts, and let $f$ be the amount of flour per crust. Because the total amount of flour needs to remain constant, we can express the relationship between pie crusts as $p\\\\cdot f = c$, where $c$ is a constant value.Since we know that 30 pie crusts each use up $\\\\frac16$ cup of flour, $30\\\\left(\\\\frac16\\\\right)=c$ or $c=5$. When $p=20$, the equation becomes $20\\\\cdot f=5$, or $f=\\\\frac5{20}=\\\\boxed{\\\\frac14}$\",\n",
    "#     \"SPLIT: <step>Let $p$ be the number of pie crusts, and let $f$ be the amount of flour per crust.</step>\\n<step>Because the total amount of flour needs to remain constant, we can express the relationship between pie crusts as $p\\cdot f = c$, where $c$ is a constant value.</step>\\n<step>Since we know that 30 pie crusts each use up $\\\\frac16$ cup of flour, $30\\left(\\\\frac16\\\\right)=c$ or $c=5$.</step>\\n<step>When $p=20$, the equation becomes $20\\cdot f=5$.</step>\\n<step>So solving for $f$, we get $f=\\\\frac5{20}=\\\\boxed{\\\\frac14}$.</step>\\n\",\n",
    "#     \"PROOF: We begin by multiplying out the denominator and then  squaring both sides \\\\begin{align*}\\\\frac{\\\\sqrt{5x}}{\\\\sqrt{3(x-1)}}&=2\\\\\\\\(\\\\sqrt{5x})^2 &=\\\\left(2\\\\sqrt{3(x-1)}\\\\right)^2\\\\\\\\5x &= 12(x-1)\\\\\\\\12& =7x\\\\\\\\x&=\\\\boxed{\\\\frac{12}{7}}.\\\\\\\\\\\\end{align*}Checking, we see that this value of $x$ satisfies the original equation, so it is not an extraneous solution.\",\n",
    "#     \"SPLIT: <step>We begin by multiplying out the denominator and then squaring both sides, resulting in $\\\\frac{\\sqrt{5x}}{\\sqrt{3(x-1)}}=2$.</step>\\n<step>The equation simplifies to $(\\sqrt{5x})^2 =\\left(2\\sqrt{3(x-1)}\\\\right)^2$.</step>\\n<step>Which further simplifies to $5x = 12(x-1)$.</step>\\n<step>From which we get $12 = 7x$.</step>\\n<step>Solving for $x$ gives us $x=\\\\boxed{\\\\frac{12}{7}}$.</step>\\n<step>Checking, we see that this value of $x$ satisfies the original equation, so it is not an extraneous solution.</step>\\n\",\n",
    "#     \"PROOF: There is a point of intersection for each $x$ such that $f(x^2)=f(x^4)$. Since $f$ is invertible, this equation is satisfied only if $x^2=x^4$, so we simply count solutions to that equation. We can rearrange the equation $x^2=x^4$ as follows: \\\\begin{align*}0 &= x^4-x^2 \\\\\\\\0 &= x^2(x^2-1) \\\\\\\\0 &= x^2(x+1)(x-1)\\\\end{align*}The last factorization shows that the solutions are $x=-1,0,1$. Therefore, the graphs of $y=f(x^2)$ and $y=f(x^4)$ must intersect at exactly $\\\\boxed{3}$ points.\",\n",
    "#     \"SPLIT: <step>There is a point of intersection for each $x$ such that $f(x^2)=f(x^4)$.</step>\\n<step>Since $f$ is invertible, this equation is satisfied only if $x^2=x^4$, so we simply count solutions to that equation.</step>\\n<step>We can rearrange the equation $x^2=x^4$ as follows: $0 = x^4-x^2$.</step>\\n<step>Factoring out $x^2$, we get $0 = x^2(x^2-1)$.</step>\\n<step>Which leads to $0 = x^2(x+1)(x-1)$, showing that the solutions are $x=-1,0,1$.</step>\\n<step>Therefore, the graphs of $y=f(x^2)$ and $y=f(x^4)$ must intersect at exactly $\\\\boxed{3}$ points.</step>\\n\",\n",
    "#     \"PROOF: First, we use the distributive property to expand the first two factors:\\\\begin{align*}3(x+4)(x+5) &= (3\\\\cdot x + 3 \\\\cdot 4) (x+5)\\\\\\\\&=(3x+12)(x+5)\\\\end{align*}We use the distributive property again by adding the product of $3x+12$ and $x$ to the product of $3x+12$ and 5:\\\\begin{align*}(3x+12)(x+5) &= (3x+12) \\\\cdot x +(3x+12) \\\\cdot 5\\\\\\\\&= x(3x+12) + 5(3x+12)\\\\end{align*}We use the distributive property again and combine like terms:\\\\begin{align*}x(3x+12) + 5(3x+12) &= 3x^2 + 12x + 15x+ 60\\\\\\\\&= \\\\boxed{3x^2 + 27x + 60}\\\\end{align*}\",\n",
    "#     \"SPLIT: \",\n",
    "# ]\n",
    "\n",
    "split_proof_chat = [\n",
    "    {\n",
    "        \"role\": \"user\",\n",
    "        \"content\": \"PROOF: Let $p$ be the number of pie crusts, and let $f$ be the amount of flour per crust. Because the total amount of flour needs to remain constant, we can express the relationship between pie crusts as $p\\\\cdot f = c$, where $c$ is a constant value.Since we know that 30 pie crusts each use up $\\\\frac16$ cup of flour, $30\\\\left(\\\\frac16\\\\right)=c$ or $c=5$. When $p=20$, the equation becomes $20\\\\cdot f=5$, or $f=\\\\frac5{20}=\\\\boxed{\\\\frac14}$\",\n",
    "    },\n",
    "    {\n",
    "        \"role\": \"system\",\n",
    "        \"content\": \"SPLIT: <step>Let $p$ be the number of pie crusts, and let $f$ be the amount of flour per crust.</step>\\n<step>Because the total amount of flour needs to remain constant, we can express the relationship between pie crusts as $p\\cdot f = c$, where $c$ is a constant value.</step>\\n<step>Since we know that 30 pie crusts each use up $\\\\frac16$ cup of flour, $30\\left(\\\\frac16\\\\right)=c$ or $c=5$.</step>\\n<step>When $p=20$, the equation becomes $20\\cdot f=5$.</step>\\n<step>So solving for $f$, we get $f=\\\\frac5{20}=\\\\boxed{\\\\frac14}$.</step>\",\n",
    "    },\n",
    "    {\n",
    "        \"role\": \"user\",\n",
    "        \"content\": \"PROOF: We begin by multiplying out the denominator and then  squaring both sides \\\\begin{align*}\\\\frac{\\\\sqrt{5x}}{\\\\sqrt{3(x-1)}}&=2\\\\\\\\(\\\\sqrt{5x})^2 &=\\\\left(2\\\\sqrt{3(x-1)}\\\\right)^2\\\\\\\\5x &= 12(x-1)\\\\\\\\12& =7x\\\\\\\\x&=\\\\boxed{\\\\frac{12}{7}}.\\\\\\\\\\\\end{align*}Checking, we see that this value of $x$ satisfies the original equation, so it is not an extraneous solution.\",\n",
    "    },\n",
    "    {\n",
    "        \"role\": \"system\",\n",
    "        \"content\": \"SPLIT: <step>We begin by multiplying out the denominator and then squaring both sides, resulting in $\\\\frac{\\sqrt{5x}}{\\sqrt{3(x-1)}}=2$.</step>\\n<step>The equation simplifies to $(\\sqrt{5x})^2 =\\left(2\\sqrt{3(x-1)}\\\\right)^2$.</step>\\n<step>Which further simplifies to $5x = 12(x-1)$.</step>\\n<step>From which we get $12 = 7x$.</step>\\n<step>Solving for $x$ gives us $x=\\\\boxed{\\\\frac{12}{7}}$.</step>\\n<step>Checking, we see that this value of $x$ satisfies the original equation, so it is not an extraneous solution.</step>\",\n",
    "    },\n",
    "    {\n",
    "        \"role\": \"user\",\n",
    "        \"content\": \"PROOF: There is a point of intersection for each $x$ such that $f(x^2)=f(x^4)$. Since $f$ is invertible, this equation is satisfied only if $x^2=x^4$, so we simply count solutions to that equation. We can rearrange the equation $x^2=x^4$ as follows: \\\\begin{align*}0 &= x^4-x^2 \\\\\\\\0 &= x^2(x^2-1) \\\\\\\\0 &= x^2(x+1)(x-1)\\\\end{align*}The last factorization shows that the solutions are $x=-1,0,1$. Therefore, the graphs of $y=f(x^2)$ and $y=f(x^4)$ must intersect at exactly $\\\\boxed{3}$ points.\",\n",
    "    },\n",
    "    {\n",
    "        \"role\": \"system\",\n",
    "        \"content\": \"SPLIT: <step>There is a point of intersection for each $x$ such that $f(x^2)=f(x^4)$.</step>\\n<step>Since $f$ is invertible, this equation is satisfied only if $x^2=x^4$, so we simply count solutions to that equation.</step>\\n<step>We can rearrange the equation $x^2=x^4$ as follows: $0 = x^4-x^2$.</step>\\n<step>Factoring out $x^2$, we get $0 = x^2(x^2-1)$.</step>\\n<step>Which leads to $0 = x^2(x+1)(x-1)$, showing that the solutions are $x=-1,0,1$.</step>\\n<step>Therefore, the graphs of $y=f(x^2)$ and $y=f(x^4)$ must intersect at exactly $\\\\boxed{3}$ points.</step>\",\n",
    "    },\n",
    "    {\n",
    "        \"role\": \"user\",\n",
    "        \"content\": \"PROOF: Let $c$ equal the cost of a bouquet of 39 roses (in dollars). Since we know that the price of a bouquet is directly proportional to the number of roses it contains, we can set up the following proportion\\n \\\\begin{align*}\\n\\\\frac{c}{39}&=\\\\frac{20}{12}\\\\\\\\\\n\\\\Rightarrow \\\\qquad c&=\\\\left(\\\\frac{20}{12}\\\\right)(39)\\\\\\\\\\n\\\\Rightarrow \\\\qquad c&=\\\\boxed{65}\\n\\\\end{align*}\"\n",
    "    },\n",
    "    {\n",
    "        \"role\": \"system\",\n",
    "        \"content\": \"SPLIT: <step>Let $c$ equal the cost of a bouquet of 39 roses (in dollars).</step>\\n<step>Since we know that the price of a bouquet is directly proportional to the number of roses it contains, we can set up the proportion $\\\\frac{c}{39}&=\\\\frac{20}{12}$.</step>\\n<step>Solving for $c$ yields $c=\\\\left(\\\\frac{20}{12}\\\\right)(39)$ or $c=\\\\boxed{65}$</step>\",\n",
    "    },\n",
    "]\n",
    "\n",
    "\n",
    "def openai_to_google(messages):\n",
    "    return [\n",
    "        {\n",
    "            \"role\": \"user\" if message['role'] == \"user\" else \"model\",\n",
    "            \"parts\": [message['content']]\n",
    "        }\n",
    "        for message in messages\n",
    "    ]\n",
    "\n",
    "\n",
    "response = model.generate_content(openai_to_google(split_proof_chat + [{\n",
    "    \"role\": \"user\",\n",
    "    \"content\": \"PROOF: First, we use the distributive property to expand the first two factors:\\\\begin{align*}3(x+4)(x+5) &= (3\\\\cdot x + 3 \\\\cdot 4) (x+5)\\\\\\\\&=(3x+12)(x+5)\\\\end{align*}We use the distributive property again by adding the product of $3x+12$ and $x$ to the product of $3x+12$ and 5:\\\\begin{align*}(3x+12)(x+5) &= (3x+12) \\\\cdot x +(3x+12) \\\\cdot 5\\\\\\\\&= x(3x+12) + 5(3x+12)\\\\end{align*}We use the distributive property again and combine like terms:\\\\begin{align*}x(3x+12) + 5(3x+12) &= 3x^2 + 12x + 15x+ 60\\\\\\\\&= \\\\boxed{3x^2 + 27x + 60}\\\\end{align*}\",\n",
    "}]))\n",
    "print(response.text)"
   ]
  },
  {
   "cell_type": "code",
   "execution_count": 128,
   "id": "ea3b17f44582ab91",
   "metadata": {
    "ExecuteTime": {
     "end_time": "2024-03-21T19:11:19.687142Z",
     "start_time": "2024-03-21T19:02:42.121920Z"
    },
    "collapsed": false
   },
   "outputs": [
    {
     "name": "stderr",
     "output_type": "stream",
     "text": [
      "\n",
      " 63%|███████████████████████████████████████                       | 63/100 [10:27<06:08,  9.96s/it]\u001b[A\n",
      "\n",
      "  1%|▋                                                              | 1/100 [00:02<03:52,  2.35s/it]\u001b[A\n",
      "  2%|█▎                                                             | 2/100 [00:05<04:53,  2.99s/it]\u001b[A\n",
      "  3%|█▉                                                             | 3/100 [00:10<05:58,  3.69s/it]\u001b[A\n",
      "  4%|██▌                                                            | 4/100 [00:24<12:34,  7.86s/it]\u001b[A\n",
      "  5%|███▏                                                           | 5/100 [00:33<13:12,  8.35s/it]\u001b[A\n",
      "  6%|███▊                                                           | 6/100 [00:37<10:43,  6.85s/it]\u001b[A\n",
      "  7%|████▍                                                          | 7/100 [00:41<09:02,  5.84s/it]\u001b[A\n",
      "  8%|█████                                                          | 8/100 [00:57<13:46,  8.99s/it]\u001b[A\n",
      "  9%|█████▋                                                         | 9/100 [01:01<11:25,  7.53s/it]\u001b[A\n",
      " 10%|██████▏                                                       | 10/100 [01:06<10:17,  6.86s/it]\u001b[A\n",
      " 11%|██████▊                                                       | 11/100 [01:09<08:02,  5.42s/it]\u001b[A\n",
      " 12%|███████▍                                                      | 12/100 [01:14<08:06,  5.53s/it]\u001b[A\n",
      " 13%|████████                                                      | 13/100 [01:17<06:46,  4.67s/it]\u001b[A\n",
      " 14%|████████▋                                                     | 14/100 [01:21<06:13,  4.35s/it]\u001b[A\n",
      " 15%|█████████▎                                                    | 15/100 [01:25<06:05,  4.29s/it]\u001b[A\n",
      " 16%|█████████▉                                                    | 16/100 [01:28<05:29,  3.92s/it]\u001b[A\n",
      " 17%|██████████▌                                                   | 17/100 [01:33<05:54,  4.27s/it]\u001b[A\n",
      " 18%|███████████▏                                                  | 18/100 [01:36<05:08,  3.76s/it]\u001b[A\n",
      " 19%|███████████▊                                                  | 19/100 [01:40<05:25,  4.02s/it]\u001b[A\n",
      " 20%|████████████▍                                                 | 20/100 [01:42<04:32,  3.41s/it]\u001b[A\n",
      " 21%|█████████████                                                 | 21/100 [01:45<04:12,  3.20s/it]\u001b[A\n",
      " 22%|█████████████▋                                                | 22/100 [01:48<03:59,  3.07s/it]\u001b[A\n",
      " 23%|██████████████▎                                               | 23/100 [01:50<03:46,  2.94s/it]\u001b[A\n",
      " 24%|██████████████▉                                               | 24/100 [01:55<04:19,  3.42s/it]\u001b[A\n",
      " 25%|███████████████▌                                              | 25/100 [01:59<04:44,  3.79s/it]\u001b[A\n",
      " 26%|████████████████                                              | 26/100 [02:02<04:12,  3.41s/it]\u001b[A\n",
      " 27%|████████████████▋                                             | 27/100 [02:08<05:09,  4.24s/it]\u001b[A\n",
      " 28%|█████████████████▎                                            | 28/100 [02:11<04:46,  3.97s/it]\u001b[A\n",
      " 29%|█████████████████▉                                            | 29/100 [02:19<05:49,  4.92s/it]\u001b[A\n",
      " 30%|██████████████████▌                                           | 30/100 [02:22<05:15,  4.51s/it]\u001b[A\n",
      " 31%|███████████████████▏                                          | 31/100 [02:26<04:52,  4.23s/it]\u001b[A\n",
      " 32%|███████████████████▊                                          | 32/100 [02:28<04:14,  3.74s/it]\u001b[A\n",
      " 33%|████████████████████▍                                         | 33/100 [02:31<03:47,  3.39s/it]\u001b[A\n",
      " 34%|█████████████████████                                         | 34/100 [02:35<04:01,  3.65s/it]\u001b[A\n",
      " 35%|█████████████████████▋                                        | 35/100 [02:54<08:48,  8.12s/it]\u001b[A\n",
      " 36%|██████████████████████▎                                       | 36/100 [02:56<06:55,  6.49s/it]\u001b[A\n",
      " 37%|██████████████████████▉                                       | 37/100 [03:01<06:11,  5.90s/it]\u001b[A\n",
      " 38%|███████████████████████▌                                      | 38/100 [03:04<05:08,  4.98s/it]\u001b[A\n",
      " 39%|████████████████████████▏                                     | 39/100 [03:09<05:06,  5.03s/it]\u001b[A\n",
      " 40%|████████████████████████▊                                     | 40/100 [03:12<04:31,  4.52s/it]\u001b[A\n",
      " 41%|█████████████████████████▍                                    | 41/100 [03:16<04:13,  4.30s/it]\u001b[A\n",
      " 42%|██████████████████████████                                    | 42/100 [03:42<10:29, 10.86s/it]\u001b[A\n",
      " 43%|██████████████████████████▋                                   | 43/100 [03:50<09:27,  9.95s/it]\u001b[A\n",
      " 44%|███████████████████████████▎                                  | 44/100 [03:52<07:09,  7.66s/it]\u001b[A\n",
      " 45%|███████████████████████████▉                                  | 45/100 [03:56<05:53,  6.43s/it]\u001b[A\n",
      " 46%|████████████████████████████▌                                 | 46/100 [04:01<05:30,  6.12s/it]\u001b[A\n",
      " 47%|█████████████████████████████▏                                | 47/100 [04:05<04:45,  5.39s/it]\u001b[A\n",
      " 48%|█████████████████████████████▊                                | 48/100 [04:09<04:24,  5.08s/it]\u001b[A\n",
      " 49%|██████████████████████████████▍                               | 49/100 [04:16<04:37,  5.45s/it]\u001b[A\n",
      " 50%|███████████████████████████████                               | 50/100 [04:21<04:32,  5.45s/it]\u001b[A\n",
      " 51%|███████████████████████████████▌                              | 51/100 [04:24<03:48,  4.67s/it]\u001b[A\n",
      " 52%|████████████████████████████████▏                             | 52/100 [04:31<04:12,  5.26s/it]\u001b[A\n",
      " 53%|████████████████████████████████▊                             | 53/100 [04:34<03:41,  4.72s/it]\u001b[A\n",
      " 54%|█████████████████████████████████▍                            | 54/100 [04:38<03:26,  4.48s/it]\u001b[A\n",
      " 55%|██████████████████████████████████                            | 55/100 [04:42<03:18,  4.41s/it]\u001b[A\n",
      " 56%|██████████████████████████████████▋                           | 56/100 [04:54<04:51,  6.61s/it]\u001b[A\n",
      " 57%|███████████████████████████████████▎                          | 57/100 [05:05<05:40,  7.92s/it]\u001b[A\n",
      " 58%|███████████████████████████████████▉                          | 58/100 [05:09<04:40,  6.68s/it]\u001b[A\n",
      " 59%|████████████████████████████████████▌                         | 59/100 [05:13<03:59,  5.83s/it]\u001b[A\n",
      " 60%|█████████████████████████████████████▏                        | 60/100 [05:16<03:22,  5.07s/it]\u001b[A\n",
      " 61%|█████████████████████████████████████▊                        | 61/100 [05:19<02:57,  4.55s/it]\u001b[A\n",
      " 62%|██████████████████████████████████████▍                       | 62/100 [05:25<03:08,  4.96s/it]\u001b[A\n",
      " 63%|███████████████████████████████████████                       | 63/100 [05:29<02:50,  4.62s/it]\u001b[A\n",
      " 64%|███████████████████████████████████████▋                      | 64/100 [05:33<02:45,  4.59s/it]\u001b[A\n",
      " 65%|████████████████████████████████████████▎                     | 65/100 [05:36<02:21,  4.04s/it]\u001b[A\n",
      " 66%|████████████████████████████████████████▉                     | 66/100 [06:01<05:47, 10.21s/it]\u001b[A\n",
      " 67%|█████████████████████████████████████████▌                    | 67/100 [06:05<04:41,  8.54s/it]\u001b[A\n",
      " 68%|██████████████████████████████████████████▏                   | 68/100 [06:10<03:53,  7.30s/it]\u001b[A\n",
      " 69%|██████████████████████████████████████████▊                   | 69/100 [06:13<03:08,  6.08s/it]\u001b[A\n",
      " 70%|███████████████████████████████████████████▍                  | 70/100 [06:16<02:33,  5.12s/it]\u001b[A\n",
      " 71%|████████████████████████████████████████████                  | 71/100 [06:20<02:14,  4.65s/it]\u001b[A\n",
      " 72%|████████████████████████████████████████████▋                 | 72/100 [06:24<02:06,  4.50s/it]\u001b[A\n",
      " 73%|█████████████████████████████████████████████▎                | 73/100 [06:27<01:54,  4.23s/it]\u001b[A\n",
      " 74%|█████████████████████████████████████████████▉                | 74/100 [06:32<01:52,  4.33s/it]\u001b[A\n",
      " 75%|██████████████████████████████████████████████▌               | 75/100 [06:35<01:42,  4.08s/it]\u001b[A\n",
      " 76%|███████████████████████████████████████████████               | 76/100 [06:37<01:21,  3.38s/it]\u001b[A\n",
      " 77%|███████████████████████████████████████████████▋              | 77/100 [06:40<01:13,  3.20s/it]\u001b[A\n",
      " 78%|████████████████████████████████████████████████▎             | 78/100 [06:42<01:04,  2.93s/it]\u001b[A\n",
      " 79%|████████████████████████████████████████████████▉             | 79/100 [06:45<01:02,  2.97s/it]\u001b[A\n",
      " 80%|█████████████████████████████████████████████████▌            | 80/100 [06:51<01:15,  3.75s/it]\u001b[A\n",
      " 81%|██████████████████████████████████████████████████▏           | 81/100 [06:54<01:09,  3.64s/it]\u001b[A\n",
      " 82%|██████████████████████████████████████████████████▊           | 82/100 [06:59<01:12,  4.05s/it]\u001b[A\n",
      " 83%|███████████████████████████████████████████████████▍          | 83/100 [07:03<01:05,  3.85s/it]\u001b[A\n",
      " 84%|████████████████████████████████████████████████████          | 84/100 [07:06<00:57,  3.60s/it]\u001b[A\n",
      " 85%|████████████████████████████████████████████████████▋         | 85/100 [07:07<00:45,  3.03s/it]\u001b[A\n",
      " 86%|█████████████████████████████████████████████████████▎        | 86/100 [07:10<00:42,  3.01s/it]\u001b[A\n",
      " 87%|█████████████████████████████████████████████████████▉        | 87/100 [07:16<00:49,  3.78s/it]\u001b[A\n",
      " 88%|██████████████████████████████████████████████████████▌       | 88/100 [07:33<01:32,  7.74s/it]\u001b[A\n",
      " 89%|███████████████████████████████████████████████████████▏      | 89/100 [07:37<01:12,  6.56s/it]\u001b[A\n",
      " 90%|███████████████████████████████████████████████████████▊      | 90/100 [07:39<00:52,  5.29s/it]\u001b[A\n",
      " 91%|████████████████████████████████████████████████████████▍     | 91/100 [07:42<00:40,  4.49s/it]\u001b[A\n",
      " 92%|█████████████████████████████████████████████████████████     | 92/100 [07:59<01:07,  8.38s/it]\u001b[A\n",
      " 93%|█████████████████████████████████████████████████████████▋    | 93/100 [08:06<00:55,  7.96s/it]\u001b[A\n",
      " 94%|██████████████████████████████████████████████████████████▎   | 94/100 [08:09<00:39,  6.55s/it]\u001b[A\n",
      " 95%|██████████████████████████████████████████████████████████▉   | 95/100 [08:14<00:29,  5.85s/it]\u001b[A\n",
      " 96%|███████████████████████████████████████████████████████████▌  | 96/100 [08:18<00:21,  5.32s/it]\u001b[A\n",
      " 97%|████████████████████████████████████████████████████████████▏ | 97/100 [08:25<00:17,  5.80s/it]\u001b[A\n",
      " 98%|████████████████████████████████████████████████████████████▊ | 98/100 [08:28<00:10,  5.07s/it]\u001b[A\n",
      " 99%|█████████████████████████████████████████████████████████████▍| 99/100 [08:33<00:05,  5.22s/it]\u001b[A\n",
      "100%|█████████████████████████████████████████████████████████████| 100/100 [08:37<00:00,  4.73s/it]\u001b[A"
     ]
    }
   ],
   "source": [
    "# split the dataset proofs into steps\n",
    "import re\n",
    "import time\n",
    "from tqdm import tqdm\n",
    "\n",
    "\n",
    "def split_proof(proof):\n",
    "    steps = re.findall(r'<step>(.*?)</step>', proof, re.DOTALL)\n",
    "    # validate that the proof was split correctly\n",
    "    # assumes number of steps is at least 2\n",
    "    if len(steps) < 2:\n",
    "        raise ValueError(f\"Not enough steps in proof found.\\n{proof}\")\n",
    "    # make sure there is nothing before or after the steps\n",
    "    if not proof.endswith(\"</step>\"):\n",
    "        raise ValueError(f\"Proof does not end with a step.\\n{proof}\")\n",
    "    return steps\n",
    "\n",
    "\n",
    "splits2 = {k: [None] * num_samples for k in datasets_subset.keys()}\n",
    "\n",
    "attempts = 0\n",
    "i = 0\n",
    "progress_bar = tqdm(total=len(datasets_subset['Algebra']))\n",
    "while i < len(datasets_subset['Algebra']):\n",
    "    try:\n",
    "        data = datasets_subset['Algebra'][i]\n",
    "        proof = data['answer']\n",
    "        chat = openai_to_google(split_proof_chat + [{\"role\": \"user\", \"content\": proof}])\n",
    "        response = model.generate_content(chat)\n",
    "        splits2['Algebra'][i] = split_proof(response.text)\n",
    "        attempts = 0\n",
    "        i += 1\n",
    "        progress_bar.update(1)\n",
    "    except Exception as e:\n",
    "        # print(e)\n",
    "        # sleep for a bit to avoid rate limiting\n",
    "        # time.sleep(5)\n",
    "        attempts += 1\n",
    "        if attempts > 30:\n",
    "            print(f\"Failed after {attempts} attempts. Exiting.\")\n",
    "            break"
   ]
  },
  {
   "cell_type": "code",
   "execution_count": 103,
   "id": "27c08a5b9e599250",
   "metadata": {
    "ExecuteTime": {
     "end_time": "2024-03-21T18:27:53.409902Z",
     "start_time": "2024-03-21T18:21:29.263405Z"
    },
    "collapsed": false
   },
   "outputs": [
    {
     "name": "stderr",
     "output_type": "stream",
     "text": [
      "\n",
      "  0%|                                                                       | 0/100 [00:07<?, ?it/s]\u001b[A\n",
      "\n",
      "  1%|▋                                                              | 1/100 [00:02<04:09,  2.52s/it]\u001b[A"
     ]
    },
    {
     "name": "stdout",
     "output_type": "stream",
     "text": [
      "The proof splits are of good quality. They are clear, concise, and each step meaningfully contributes to the proof. There are no redundant steps, and all parts of the proof are included in the steps.\n",
      "\n",
      "One possible improvement would be to explicitly state the fact that the absolute value of a number is always non-negative. This would help to justify the splitting of the expression $|x-5|=12$ into two separate cases. However, this is not strictly necessary, as the proof is still valid without this explicit statement.\n"
     ]
    },
    {
     "name": "stderr",
     "output_type": "stream",
     "text": [
      "\n",
      "  2%|█▎                                                             | 2/100 [00:05<04:59,  3.05s/it]\u001b[A"
     ]
    },
    {
     "name": "stdout",
     "output_type": "stream",
     "text": [
      "The proof splits are of good quality. They are clear, concise, and each step builds on the previous one. No steps are redundant, and all parts of the proof are included.\n",
      "\n",
      "Here is one suggestion for improvement:\n",
      "\n",
      "* Step 3 could be split into two steps:\n",
      "    * Step 3a: The integers between $-25.2$ and $-25.12$ are precisely $$-25, -24, -23, -22, \\ldots, -1.$$\n",
      "    * Step 3b: The integers between $31.4$ and $31.5$ are precisely $$28, 29, 30, 31.$$\n",
      "    This would make the proof more detailed and easier to follow.\n",
      "\n",
      "Overall, the proof splits are well-written and effectively convey the steps of the proof.\n"
     ]
    },
    {
     "name": "stderr",
     "output_type": "stream",
     "text": [
      "\n",
      "  3%|█▉                                                             | 3/100 [00:09<05:27,  3.37s/it]\u001b[A"
     ]
    },
    {
     "name": "stdout",
     "output_type": "stream",
     "text": [
      "The proof splits are of good quality. They meaningfully contribute to the proof and are not redundant. \n",
      "\n",
      "The first step establishes that there is a point of intersection for each $x$ such that $f(x^2)=f(x^4)$.\n",
      "\n",
      "The second step uses the invertibility of $f$ to show that this equation is satisfied only if $x^2=x^4$.\n",
      "\n",
      "The third, fourth, and fifth steps rearrange and factor the equation $x^2=x^4$ to show that the solutions are $x=-1,0,1$.\n",
      "\n",
      "The final step concludes that the graphs of $y=f(x^2)$ and $y=f(x^4)$ must intersect at exactly $3$ points.\n",
      "\n",
      "Each step is necessary and builds on the previous steps to lead to the final conclusion. There are no redundant steps or unnecessary information included in the proof.\n"
     ]
    },
    {
     "name": "stderr",
     "output_type": "stream",
     "text": [
      "\n",
      "  4%|██▌                                                            | 4/100 [00:15<06:36,  4.13s/it]\u001b[A"
     ]
    },
    {
     "name": "stdout",
     "output_type": "stream",
     "text": [
      "The proof splits are not good because step 3 is redundant. Step 3 can be combined with step 2 to form a single step:\n",
      "\n",
      "<step>Because the total amount of flour needs to remain constant, we can express the relationship between pie crusts as $p\\cdot f = c$, where $c$ is a constant value. Since we know that 30 pie crusts each use up $\\frac16$ cup of flour, we have $30\\left(\\frac16\\right)=c$, or $c=5$.</step>\n",
      "\n",
      "The new proof splits are:\n",
      "<step>Let $p$ be the number of pie crusts, and let $f$ be the amount of flour per crust.</step>\n",
      "<step>Because the total amount of flour needs to remain constant, we can express the relationship between pie crusts as $p\\cdot f = c$, where $c$ is a constant value. Since we know that 30 pie crusts each use up $\\frac16$ cup of flour, we have $30\\left(\\frac16\\right)=c$, or $c=5$.</step>\n",
      "<step>When $p=20$, the equation becomes $20\\cdot f=5$, or $f=\\frac5{20}=\\boxed{\\frac14}$.</step>\n",
      "\n",
      "These proof splits are better because each step meaningfully contributes to the proof, and there are no redundant steps.\n"
     ]
    },
    {
     "name": "stderr",
     "output_type": "stream",
     "text": [
      "\n",
      "  5%|███▏                                                           | 5/100 [00:19<07:02,  4.45s/it]\u001b[A"
     ]
    },
    {
     "name": "stdout",
     "output_type": "stream",
     "text": [
      "The proof splits are generally good. However, Step 2 can be improved by providing more details on how the equation simplifies to $5x = 12(x-1)$. Here is an improved version of the proof splits:\n",
      "\n",
      "Step 1: We begin by multiplying out the denominator and then squaring both sides, resulting in $\\frac{\\sqrt{5x}}{\\sqrt{3(x-1)}}=2$.\n",
      "\n",
      "Step 2: Squaring both sides of the equation, we get $(\\sqrt{5x})^2 =\\left(2\\sqrt{3(x-1)}\\right)^2$. Simplifying the left-hand side, we have $5x$. On the right-hand side, we have $4\\cdot3(x-1)=12(x-1)$. Therefore, the equation simplifies to $5x = 12(x-1)$.\n",
      "\n",
      "Step 3: From Step 2, we have $5x = 12(x-1)$. Simplifying further, we get $5x = 12x-12$. Subtracting $12x$ from both sides, we get $-7x=-12$.\n",
      "\n",
      "Step 4: Solving for $x$ in Step 3, we get $x=\\boxed{\\frac{12}{7}}$.\n",
      "\n",
      "Step 5: Checking, we see that this value of $x$ satisfies the original equation, so it is not an extraneous solution.\n"
     ]
    },
    {
     "name": "stderr",
     "output_type": "stream",
     "text": [
      "\n",
      "  6%|███▊                                                           | 6/100 [00:25<07:22,  4.70s/it]\u001b[A"
     ]
    },
    {
     "name": "stdout",
     "output_type": "stream",
     "text": [
      "The proof splits are of good quality. \n",
      "\n",
      "Each step is meaningful and contributes to the proof. There are no redundant steps, and all parts of the proof are included in the steps. However, one possible improvement would be to add a brief explanation of why the distributive property is being used in each step. For example, in step 2, it could be helpful to add the phrase \"to expand the product of two binomials\" after \"We use the distributive property again\".\n",
      "\n",
      "Here is a revised version of the proof splits with the added explanations:\n",
      "\n",
      "Proof Splits: \n",
      "<step>First, we use the distributive property to expand the first two factors, resulting in $3(x+4)(x+5) = (3\\cdot x + 3 \\cdot 4) (x+5)={(3x+12)(x+5}$.</step>\n",
      "<step>We use the distributive property again to expand the product of two binomials, which yields  $(3x+12) \\cdot x +(3x+12) \\cdot 5=x(3x+12) + 5(3x+12)$.</step>\n",
      "<step>Once more, we use the distributive property to get $3x^2 + 12x + 15x+ 60$.</step>\n",
      "<step>Finally, combining like terms, we arrive at the simplified form, which is $\\boxed{3x^2 + 27x + 60}$</step>\n"
     ]
    },
    {
     "name": "stderr",
     "output_type": "stream",
     "text": [
      "\n",
      "  7%|████▍                                                          | 7/100 [00:26<05:37,  3.62s/it]\u001b[A"
     ]
    },
    {
     "name": "stdout",
     "output_type": "stream",
     "text": [
      "The proof splits are of good quality. They are clear and concise, and they accurately reflect the steps of the proof.\n"
     ]
    },
    {
     "name": "stderr",
     "output_type": "stream",
     "text": [
      "\n",
      "  8%|█████                                                          | 8/100 [00:29<05:00,  3.26s/it]\u001b[A"
     ]
    },
    {
     "name": "stdout",
     "output_type": "stream",
     "text": [
      "The proof splits are of good quality. Each step meaningfully contributes to the proof, and there are no redundant steps. Every part of the proof is included in the steps. \n",
      "\n",
      "One possible improvement would be to add more detail to the first step. For example, you could say \"Let $c$ equal the cost of a bouquet of 39 roses (in dollars), where $c$ is a variable representing the cost of the bouquet.\" This would make the proof more explicit and easier to follow.\n",
      "\n",
      "Overall, the proof splits are well-written and effectively convey the steps of the proof.\n"
     ]
    },
    {
     "name": "stderr",
     "output_type": "stream",
     "text": [
      "\n",
      "  9%|█████▋                                                         | 9/100 [00:33<05:22,  3.55s/it]\u001b[A"
     ]
    },
    {
     "name": "stdout",
     "output_type": "stream",
     "text": [
      "The proof splits are of good quality. Each step meaningfully contributes to the proof, and there are no redundant steps. Every part of the proof is included in the steps.\n",
      "\n",
      "Here are some suggestions for improvement:\n",
      "\n",
      "* In step 1, it would be helpful to explicitly state that $-2x$ is in the domain of $f$ if and only if $x$ is in the domain of $g(x)$.\n",
      "* In step 2, it would be helpful to explain why we can divide all expressions in the chain of inequalities by $-2$. (The reason is that $-2$ is negative, so dividing by $-2$ reverses the direction of the inequalities.)\n",
      "* In step 3, it would be helpful to explain why $g(x)$ is defined if and only if $-2\\le x\\le 4$. (The reason is that $-2x$ is in the domain of $f$ if and only if $-8 \\le -2x \\le 4$, which is equivalent to $4\\ge x\\ge -2$.)\n",
      "\n",
      "Overall, the proof splits are of good quality and provide a clear and concise explanation of the proof.\n"
     ]
    },
    {
     "name": "stderr",
     "output_type": "stream",
     "text": [
      "\n",
      " 10%|██████▏                                                       | 10/100 [00:35<04:50,  3.23s/it]\u001b[A"
     ]
    },
    {
     "name": "stdout",
     "output_type": "stream",
     "text": [
      "The proof splits are good. Each step meaningfully contributes to the proof and there are no redundant steps. All parts of the proof are included in the steps.\n",
      "\n",
      "One possible improvement would be to add a step that explains why the investment will have grown by a factor of $1.06^5$ after five years at a six percent annual interest rate. This could be done by adding the following step after step 1:\n",
      "\n",
      "<step>Since the interest is compounded annually, the investment will grow by a factor of $(1 + 0.06)^5 = 1.06^5$ after five years.</step>\n"
     ]
    },
    {
     "name": "stderr",
     "output_type": "stream",
     "text": [
      "\n",
      " 11%|██████▊                                                       | 11/100 [00:39<04:53,  3.30s/it]\u001b[A"
     ]
    },
    {
     "name": "stdout",
     "output_type": "stream",
     "text": [
      "The proof splits are of good quality. Each step meaningfully contributes to the proof, and there are no redundant steps. Every part of the proof is included in the steps. However, the last step can be improved by including the simplification of $15 +10i +3$.\n",
      "\n",
      "Here is an improved version of the proof splits:\n",
      "\n",
      "<step>Start by distributing the $5$ and $3i$: $5(3-i) + 3i(5-i) = 15-5i + 15i - 3i^2$.</step>\n",
      "<step>Simplify the terms: $15-5i + 15i - 3i^2 = 15 +10i -3(-1)$.</step>\n",
      "<step>Evaluate the square of the imaginary unit: $15 +10i -3(-1) = 15 +10i +3 = \\boxed{18+10i}$.</step>\n"
     ]
    },
    {
     "name": "stderr",
     "output_type": "stream",
     "text": [
      "\n",
      " 12%|███████▍                                                      | 12/100 [00:41<04:31,  3.09s/it]\u001b[A"
     ]
    },
    {
     "name": "stdout",
     "output_type": "stream",
     "text": [
      "The proof splits are of good quality. Each step meaningfully contributes to the proof, and there are no redundant steps. Every part of the proof is included in the steps.\n",
      "\n",
      "One possible improvement would be to add a brief explanation of why we are completing the square in step 5. This would help to make the proof more accessible to readers who may not be familiar with this technique.\n",
      "\n",
      "Overall, the proof splits are well-written and effectively convey the steps of the proof.\n"
     ]
    },
    {
     "name": "stderr",
     "output_type": "stream",
     "text": [
      "\n",
      " 13%|████████                                                      | 13/100 [00:45<04:39,  3.21s/it]\u001b[A"
     ]
    },
    {
     "name": "stdout",
     "output_type": "stream",
     "text": [
      "The proof splits are of good quality. Each step meaningfully contributes to the proof, and there are no redundant steps. Every part of the proof is included in the steps.\n",
      "\n",
      "Here are some suggestions for improving the proof splits:\n",
      "\n",
      "* Step 1 could be split into two steps:\n",
      "\n",
      "    * Factor $2^8-1$ using difference squares to obtain $(2^4+1)(2^4-1)$.\n",
      "    * Factor $2^4+1$ and $2^4-1$ using difference squares to obtain $(2^4+1)(2^2+1)(2^2-1)$.\n",
      "\n",
      "* Step 2 could be split into two steps:\n",
      "\n",
      "    * This results in $17\\cdot5\\cdot3$.\n",
      "    * The sum of the 3 prime factors of $2^8-1$ is $17+5+3=\\boxed{25}$.\n",
      "\n",
      "These changes would make the proof splits more detailed and easier to follow.\n"
     ]
    },
    {
     "name": "stderr",
     "output_type": "stream",
     "text": [
      "\n",
      " 14%|████████▋                                                     | 14/100 [00:50<05:36,  3.92s/it]\u001b[A"
     ]
    },
    {
     "name": "stdout",
     "output_type": "stream",
     "text": [
      "**Proof Splits with Feedback:**\n",
      "\n",
      "<step>**Simplify the denominator first to obtain $\\frac{5}{\\sqrt{125}}$.**</step>\n",
      "**Feedback:** This step is unnecessary as it is already part of the proof.\n",
      "\n",
      "<step>**Factor the denominator as $5\\sqrt{5}\\cdot\\sqrt{5}$.**</step>\n",
      "**Feedback:** This step is also unnecessary as it is implied in the next step.\n",
      "\n",
      "<step>**Simplify the fraction using the properties of radicals, resulting in $\\frac{5}{5\\sqrt{5}} = \\frac{1}{\\sqrt{5}}$.**</step>\n",
      "**Feedback:** This step is correct and should be kept.\n",
      "\n",
      "<step>**Rationalize the denominator by multiplying and dividing by $\\sqrt{5}$, giving us $\\frac{1}{\\sqrt{5}} = \\boxed{\\frac{\\sqrt{5}}{5}}$.**</step>\n",
      "**Feedback:** This step is correct and should be kept.\n",
      "\n",
      "**Improved Proof Splits:**\n",
      "\n",
      "<step>**Simplify the fraction using the properties of radicals to obtain $\\frac{1}{\\sqrt{5}}$.**</step>\n",
      "<step>**Rationalize the denominator by multiplying and dividing by $\\sqrt{5}$, giving us $\\frac{1}{\\sqrt{5}} = \\boxed{\\frac{\\sqrt{5}}{5}}$.**</step>\n"
     ]
    },
    {
     "name": "stderr",
     "output_type": "stream",
     "text": [
      "\n",
      " 15%|█████████▎                                                    | 15/100 [00:53<05:09,  3.65s/it]\u001b[A"
     ]
    },
    {
     "name": "stdout",
     "output_type": "stream",
     "text": [
      "The proof splits are of good quality. Each step meaningfully contributes to the overall proof, and there are no redundant steps. Every part of the proof is included in the steps. One potential improvement would be to add more detail to Step 4. For example, you could explain why the graph of $f(x)$ is symmetric with respect to the line $y=x-2$. Overall, the proof splits are clear and concise, and they accurately reflect the flow of the proof.\n"
     ]
    },
    {
     "name": "stderr",
     "output_type": "stream",
     "text": [
      "\n",
      " 16%|█████████▉                                                    | 16/100 [00:55<04:13,  3.01s/it]\u001b[A"
     ]
    },
    {
     "name": "stdout",
     "output_type": "stream",
     "text": [
      "The proof splits are good and meet the quality requirements. Each step meaningfully contributes to the proof and there are no redundant steps. Every part of the proof is included in the steps.\n"
     ]
    },
    {
     "name": "stderr",
     "output_type": "stream",
     "text": [
      "\n",
      " 17%|██████████▌                                                   | 17/100 [01:05<06:58,  5.05s/it]\u001b[A"
     ]
    },
    {
     "name": "stdout",
     "output_type": "stream",
     "text": [
      "The proof splits are generally good, as each step meaningfully contributes to the proof and there are no redundant steps. However, there are a few minor improvements that could be made:\n",
      "\n",
      "- In step 1, it would be helpful to explicitly state that $r_1$ and $r_2$ are the roots of $x^2+px+m=0$. This would make it clearer what these variables represent.\n",
      "- In step 2, it would be helpful to explain why the given relationships hold true. This could be done by showing that the relationships satisfy the quadratic equations $x^2+px+m=0$ and $x^2+mx+n=0$.\n",
      "- In step 3, it would be helpful to show the steps involved in simplifying the expression for $n/p$. This would make it clearer how the final answer of 8 is obtained.\n",
      "\n",
      "Here is a revised version of the proof splits that incorporates these improvements:\n",
      "\n",
      "<step>Let $r_1$ and $r_2$ be the roots of the equation $x^2+px+m=0$.</step>\n",
      "<step>Since the roots of the equation $x^2+mx+n=0$ are $2r_1$ and $2r_2$, we have the following relationships: \\[\n",
      "m=r_1 r_2,\\quad n=4r_1 r_2,\\quad p=-(r_1+r_2), \\quad\\text{and}\\quad\n",
      "m=-2(r_1+r_2).\n",
      "\\] This can be shown by substituting $x=r_1$ and $x=r_2$ into the quadratic equations $x^2+px+m=0$ and $x^2+mx+n=0$, respectively.</step>\n",
      "<step>So \\[\n",
      "n = 4m, \\quad p = \\frac{1}{2}m,\n",
      "\\quad\\text{and}\\quad\n",
      "\\frac{n}{p}=\\frac{4m}{\\frac{1}{2}m}=\\boxed{8}.\n",
      "\\]</step>\n",
      "<step>Alternatively, the roots of the equation \\[\n",
      "\\left(\\frac{x}{2}\\right)^2 + p\\left(\\frac{x}{2}\\right) + m = 0\n",
      "\\] are twice those of the equation $x^2 + px + m = 0$. This can be shown by substituting $x=2y$ into the equation $x^2 + px + m = 0$.</step>\n",
      "<step>Since the first equation is equivalent to $x^2 + 2px + 4m = 0$, we have \\[\n",
      "m = 2p \\quad\\text{and}\\quad n = 4m, \\quad\\text{so}\\quad \\frac{n}{p} = \\boxed{8}.\\]</step>\n"
     ]
    },
    {
     "name": "stderr",
     "output_type": "stream",
     "text": [
      "\n",
      " 18%|███████████▏                                                  | 18/100 [01:11<07:13,  5.29s/it]\u001b[A"
     ]
    },
    {
     "name": "stdout",
     "output_type": "stream",
     "text": [
      "The proof splits are clear and concise, and they accurately reflect the steps involved in the proof. However, there are two minor improvements that could be made:\n",
      "\n",
      "1. In step 2, it would be helpful to explicitly state the formula for squaring a binomial. This would make the proof more self-contained and easier to follow for readers who may not be familiar with the formula.\n",
      "2. In step 4, it would be helpful to include the values of the terms that are being added. This would make the proof more transparent and easier to verify.\n",
      "\n",
      "Here is a revised version of the proof splits that incorporates these improvements:\n",
      "\n",
      "<step>Starting with the left-hand side of the equation, we have $(90 + 5)^2$.</step>\n",
      "<step>Using the formula for squaring a binomial, $(a + b)^2 = a^2 + 2ab + b^2$, we have $(90 + 5)^2 = 90^2 + 2(90)(5) + 5^2$.</step>\n",
      "<step>Substituting the values, we get $(90 + 5)^2 = 8100 + 900 + 25$.</step>\n",
      "<step>Adding the terms, we get $(90 + 5)^2 = 8100 + 900 + 25 = 9025$.</step>\n",
      "<step>Therefore, we have shown that $(90 + 5)^2 = 9025$, which proves the statement.</step>\n",
      "<step>Thus, the answer is $\\boxed{9025}$.</step>\n"
     ]
    },
    {
     "name": "stderr",
     "output_type": "stream",
     "text": [
      "\n",
      " 19%|███████████▊                                                  | 19/100 [01:16<07:15,  5.37s/it]\u001b[A"
     ]
    },
    {
     "name": "stdout",
     "output_type": "stream",
     "text": [
      "The proof splits are of poor quality:\n",
      "\n",
      "- Most steps are redundant and oversimplified\n",
      "- Step 1 does not split the proof, it restates the first given equation. \n",
      "- Step 2 is not meaningful. It simplifies the equation to itself.\n",
      "- Step 3 is not meaningful. It simply restates the equation from Step 2.\n",
      "- Step 4 is not meaningful. It simply repeats the equation from Step 3.\n",
      "- Step 5 should be combined with Step 1 into a single step.\n",
      "- Step 6 should be combined with Step 2 into a single step.\n",
      "- Step 7 should be combined with Step 4 into a single step.\n",
      "- Step 8 is the only meaningful step, and it should be the only step.\n",
      "\n",
      "**Improved proof splits:**\n",
      "\n",
      "<step>Expanding the first and second given equations using the distributive property, we get $25=3xyz+x^2y+x^2z+xy^2+y^2z+xz^2+yz^2$ and $7=x^2y+x^2z+xy^2+y^2z+xz^2+yz^2$.</step>\n",
      "<step>Substituting the equation $7=x^2y+x^2z+xy^2+y^2z+xz^2+yz^2$  into the expanded form of the first given equation, we get $25=3xyz+7$.</step>\n",
      "<step>Solving for $xyz$, we get $xyz=\\boxed{6}$.</step>\n"
     ]
    },
    {
     "name": "stderr",
     "output_type": "stream",
     "text": [
      "\n",
      " 20%|████████████▍                                                 | 20/100 [01:21<07:08,  5.36s/it]\u001b[A"
     ]
    },
    {
     "name": "stdout",
     "output_type": "stream",
     "text": [
      "The proof splits are generally good, as they follow the logical flow of the proof and each step meaningfully contributes to the overall argument. Here are a few suggestions for improvement:\n",
      "\n",
      "<li>Step 1 could be improved by clarifying the purpose of rearranging the equation. For example, you could say, \"We rearrange the given equation to $|x-7| = 1$ to isolate the absolute value term.\"</li>\n",
      "<li>Step 2 could be improved by explicitly stating that the two solutions ($x = 8$ and $x = 6$) are the only possible values of $x$ that satisfy the equation.</li>\n",
      "<li>Step 3 could be improved by using a more formal transition phrase, such as \"Therefore,\" or \"Thus,\" to connect it to the previous steps.</li>\n",
      "\n",
      "Here is an improved version of the proof splits:\n",
      "\n",
      "<step>We rearrange the given equation to $|x-7| = 1$ to isolate the absolute value term.</step>\n",
      "<step>This means that either $x-7 = 1$, which implies $x = 8$, or $x-7 = -1$, which implies $x=6$. These are the only possible values of $x$ that satisfy the equation.</step>\n",
      "<step>Therefore, the product of all possible values of $x$ is $6\\cdot 8 = \\boxed{48}$.</step>\n"
     ]
    },
    {
     "name": "stderr",
     "output_type": "stream",
     "text": [
      "\n",
      " 21%|█████████████                                                 | 21/100 [01:26<06:38,  5.05s/it]\u001b[A"
     ]
    },
    {
     "name": "stdout",
     "output_type": "stream",
     "text": [
      "The proof splits are of good quality. Each step meaningfully contributes to the proof, and there are no redundant steps. Every part of the proof is included in the steps.\n",
      "\n",
      "Here is a suggestion for improvement:\n",
      "\n",
      "In step 3, it might be helpful to explicitly state that 0.6 is equivalent to 60%. This would make it clearer that the final discount is 40%, as stated in step 4.\n",
      "\n",
      "Improved proof splits:\n",
      "\n",
      "<step>Applying a $20\\%$ discount is equivalent to multiplying by $1-20\\%=1-0.2=\\frac{4}{5}$.</step>\n",
      "<step>Applying a $25\\%$ discount is equivalent to multiplying by $\\frac{3}{4}$.</step>\n",
      "<step>Applying both discounts, we multiply by $\\frac{4}{5}\\cdot\\frac{3}{4}=\\frac{3}{5}=0.6$. (0.6 is equivalent to 60%)</step>\n",
      "<step>Since $1-0.6=0.4=40\\%$, multiplying by 0.6 gives a $\\boxed{40\\%}$ discount.</step>\n"
     ]
    },
    {
     "name": "stderr",
     "output_type": "stream",
     "text": [
      "\n",
      " 22%|█████████████▋                                                | 22/100 [01:27<05:12,  4.00s/it]\u001b[A"
     ]
    },
    {
     "name": "stdout",
     "output_type": "stream",
     "text": [
      "The proof splits are good. Each step meaningfully contributes to the proof, and there are no redundant steps. Every part of the proof is included in the steps.\n"
     ]
    },
    {
     "name": "stderr",
     "output_type": "stream",
     "text": [
      "\n",
      " 23%|██████████████▎                                               | 23/100 [01:31<04:54,  3.83s/it]\u001b[A"
     ]
    },
    {
     "name": "stdout",
     "output_type": "stream",
     "text": [
      "The proof splits are of good quality. Each step meaningfully contributes to the proof and there are no redundant steps. Every part of the proof is included in the steps.\n",
      "\n",
      "Here are some suggestions for improving the proof splits:\n",
      "\n",
      "* Step 1 could be rephrased to say \"Writing $\\sqrt{6}$ as $\\sqrt{2}\\cdot\\sqrt{3}$ reveals a common factor of $\\sqrt{3}$ in both the numerator and denominator, allowing for its cancellation.\"\n",
      "* Step 2 could be modified to say \"Simplifying $\\sqrt{4}$ to 2 and performing the cancellations yields $\\frac{4}{\\sqrt{35}}$.\"\n",
      "* Step 3 could be improved by adding \", which removes the square root in the denominator,\" after \"rationalize the denominator\".\n",
      "\n",
      "With these minor revisions, the proof splits would be even clearer and more informative.\n"
     ]
    },
    {
     "name": "stderr",
     "output_type": "stream",
     "text": [
      "\n",
      " 24%|██████████████▉                                               | 24/100 [01:33<04:24,  3.49s/it]\u001b[A"
     ]
    },
    {
     "name": "stdout",
     "output_type": "stream",
     "text": [
      "The proof splits are generally good. Each step meaningfully contributes to the proof, and there are no redundant steps. Every part of the proof is included in the steps.\n",
      "\n",
      "One possible improvement would be to combine steps 2 and 3 into a single step:\n",
      "\n",
      "<step>Next, we convert $$\\frac14\\%\\text{ to a decimal and multiply by 120:} \\frac14\\%\\times120=\\frac{1}{400}\\times120=\\frac{12}{40}.$$</step>\n",
      "\n",
      "This would make the proof slightly more concise.\n",
      "\n",
      "Overall, the proof splits are good and provide a clear and concise explanation of the proof.\n"
     ]
    },
    {
     "name": "stderr",
     "output_type": "stream",
     "text": [
      "\n",
      " 25%|███████████████▌                                              | 25/100 [01:37<04:11,  3.36s/it]\u001b[A"
     ]
    },
    {
     "name": "stdout",
     "output_type": "stream",
     "text": [
      "The proof splits are of good quality. Each step meaningfully contributes to the proof, and there are no redundant steps. Every part of the proof is included in the steps.\n",
      "\n",
      "Here is a possible improvement:\n",
      "\n",
      "<step>We know that $4\\oslash x = (\\sqrt{2(4)+x})^3=27$.</step>\n",
      "<step>Taking the cube root of both sides, we have $\\sqrt{8+x}=3$.</step>\n",
      "<step>Squaring both sides, we have $x=1$.</step>\n",
      "\n",
      "The last step can be simplified because we know that $\\sqrt{8+x}=3$ and $3^2=9$. Therefore, $x=1$.\n"
     ]
    },
    {
     "name": "stderr",
     "output_type": "stream",
     "text": [
      "\n",
      " 26%|████████████████                                              | 26/100 [01:39<03:57,  3.21s/it]\u001b[A"
     ]
    },
    {
     "name": "stdout",
     "output_type": "stream",
     "text": [
      "The proof splits are **good**.\n",
      "\n",
      "Each step in the proof contributes meaningfully to the overall proof, and there are no redundant steps. Every part of the proof is included in the steps.\n",
      "\n",
      "One possible improvement would be to add a brief explanation at the end of each step to explain why the step is necessary. For example, after step 2, one could add:\n",
      "\n",
      "> \"We substitute for $p$ in the first equation to eliminate $p$ and solve for $i$.\"\n",
      "\n",
      "This would help to make the proof even easier to follow.\n",
      "\n",
      "Overall, the proof splits are well-written and provide a clear and concise explanation of the proof.\n"
     ]
    },
    {
     "name": "stderr",
     "output_type": "stream",
     "text": [
      "\n",
      " 27%|████████████████▋                                             | 27/100 [01:44<04:20,  3.56s/it]\u001b[A"
     ]
    },
    {
     "name": "stdout",
     "output_type": "stream",
     "text": [
      "The proof splits are of good quality. Each step meaningfully contributes to the proof and there are no redundant steps. All parts of the proof are included in the steps.\n",
      "\n",
      "Here is a suggestion for improving the proof splits:\n",
      "\n",
      "- Step 3 could be split into two steps:\n",
      "  - Step 3a: Simplify to get $252=30\\Theta+2\\Theta^2$.\n",
      "  - Step 3b: Simplify further to get $0=2\\Theta^2+30\\Theta-252$.\n",
      "- Step 4 could be split into two steps:\n",
      "  - Step 4a: Use the quadratic formula to obtain $\\Theta=\\frac{-15\\pm\\sqrt{225-4\\cdot1\\cdot-126}}{2}=\\frac{-15\\pm\\sqrt{729}}{2}$.\n",
      "  - Step 4b: Simplify to get $\\Theta=\\frac{-15\\pm27}{2}$.\n",
      "\n",
      "This would result in a total of 6 steps, which is still a reasonable number of steps for a proof of this length and complexity.\n"
     ]
    },
    {
     "name": "stderr",
     "output_type": "stream",
     "text": [
      "\n",
      " 28%|█████████████████▎                                            | 28/100 [01:46<03:58,  3.31s/it]\u001b[A"
     ]
    },
    {
     "name": "stdout",
     "output_type": "stream",
     "text": [
      "The proof splits adequately capture each step in the proof. However, they could be improved by being more concise.\n",
      "\n",
      "Improved Proof Splits:\n",
      "\n",
      "<step>Find the $x$-intercept of the line $y = 0$</step>\n",
      "<step>Calculate the slope of the given line</step>\n",
      "<step>Use the slope and a given point to find the $x$-coordinate of the intercept</step>\n",
      "<step>Determine the $x$-intercept as $(x, 0)$</step>\n"
     ]
    },
    {
     "name": "stderr",
     "output_type": "stream",
     "text": [
      "\n",
      " 29%|█████████████████▉                                            | 29/100 [01:51<04:11,  3.54s/it]\u001b[A"
     ]
    },
    {
     "name": "stdout",
     "output_type": "stream",
     "text": [
      "The proof splits are of good quality. Each step meaningfully contributes to the proof and there are no redundant steps. Every part of the proof is included in the steps.\n",
      "\n",
      "Here are some suggestions for improvement:\n",
      "\n",
      "* In step 1, you could explicitly state that you are factoring the numerator of the left side of the inequality.\n",
      "* In step 2, you could note that the left side of the inequality is now a product of three terms.\n",
      "* In step 3, you could explain why you need to restrict $p$ to be non-negative.\n",
      "* In step 4, you could explain why you can cancel the $q$'s on both sides of the inequality.\n",
      "* In step 5, you could note that the quadratic inequality is equivalent to $2p^2-3p-9<0$.\n",
      "* In step 6, you could explain why the graph of the parabola $2p^2-3p-9$ opens upwards.\n",
      "\n",
      "Overall, the proof splits are well-written and easy to follow.\n"
     ]
    },
    {
     "name": "stderr",
     "output_type": "stream",
     "text": [
      "\n",
      " 30%|██████████████████▌                                           | 30/100 [01:56<04:46,  4.09s/it]\u001b[A"
     ]
    },
    {
     "name": "stdout",
     "output_type": "stream",
     "text": [
      "The proof splits are of good quality. Each step meaningfully contributes to the proof, and there are no redundant steps. Every part of the proof is included in the steps.\n",
      "\n",
      "Here is a suggestion for a minor improvement:\n",
      "\n",
      "* In step 3, it might be helpful to explicitly state that $63$ is odd. This would make it clearer why one of the primes must be $2$ and the other $61$.\n",
      "\n",
      "Revised proof splits:\n",
      "\n",
      "<step>Let $p$ and $q$ be two primes that are roots of $x^2 - 63 x + k = 0$.</step>\n",
      "<step>Then $$x^2 - 63 x + k = (x - p)(x - q) = x^2 - (p+q)x + p \\cdot q,$$ so $p + q = 63$ and $p\\cdot q=k$.</step>\n",
      "<step>Since $63$ is odd, one of the primes must be $2$ and the other $61$ $(\\text{since }2\\cdot61=122$ and $61 \\text{ is prime})$.</step>\n",
      "<step>Thus, there is exactly $\\boxed{1}$ possible value for $k$, namely $k = p\\cdot q = 2\\cdot 61=122$.</step>\n"
     ]
    },
    {
     "name": "stderr",
     "output_type": "stream",
     "text": [
      "\n",
      " 31%|███████████████████▏                                          | 31/100 [01:59<04:27,  3.88s/it]\u001b[A"
     ]
    },
    {
     "name": "stdout",
     "output_type": "stream",
     "text": [
      "The proof splits are not good. Here are the reasons:\n",
      "\n",
      "- Step 1 does not meaningfully contribute to the proof. It merely restates the question.\n",
      "- Step 2 is redundant because it essentially repeats the same idea as Step 1.\n",
      "- Step 3 is a valid and necessary conclusion but does not provide any meaningful insight into the proof.\n",
      "\n",
      "Here is a revised version of the proof splits:\n",
      "\n",
      "Step 1: Let $x = a - b$.\n",
      "\n",
      "Step 2: We know that $a - b + c = 11$ and $a - b - c = 3$.\n",
      "\n",
      "Step 3: Adding these two equations, we get $2(a - b) = 14$.\n",
      "\n",
      "Step 4: Dividing both sides by 2, we get $a - b = 7$.\n",
      "\n",
      "This revised version of the proof splits is more concise and each step meaningfully contributes to the proof.\n"
     ]
    },
    {
     "name": "stderr",
     "output_type": "stream",
     "text": [
      "\n",
      " 32%|███████████████████▊                                          | 32/100 [02:06<05:27,  4.82s/it]\u001b[A"
     ]
    },
    {
     "name": "stdout",
     "output_type": "stream",
     "text": [
      "The proof splits are generally good, but there are a few minor improvements that could be made:\n",
      "\n",
      "- Step 1 could be split into two steps:\n",
      "  - Step 1a: Since $27=3^3$, we know that $27^{\\frac13}=3$.\n",
      "  - Step 1b: This allows us to simplify the RHS of the equation as $\\log_{27} 3=\\frac13$.\n",
      "- Step 4 could be combined with Step 5, since checking the solution is a standard part of solving exponential equations.\n",
      "\n",
      "The revised proof splits would be as follows:\n",
      "\n",
      "<step>We begin by evaluating the RHS of the equation.</step>\n",
      "<step>Since $27=3^3$, we know that $27^{\\frac13}=3$.</step>\n",
      "<step>This allows us to simplify the RHS of the equation as $\\log_{27} 3=\\frac13$.</step>\n",
      "<step>This allows us to simplify the original equation as $\\log_x 4=\\frac13$.</step>\n",
      "<step>Writing this equation in exponential form, we get $x^{\\frac13}=4$.</step>\n",
      "<step>Solving for $x$ gives us $x=4^3=\\boxed{64}$.</step>\n",
      "<step>Checking, we see that this value of $x$ satisfies the original equation, so it is not an extraneous solution.</step>\n",
      "<step>Therefore, the solution to the equation $\\log_x 4=\\log_{27} 3$ is $x=\\boxed{64}$.</step>\n"
     ]
    },
    {
     "name": "stderr",
     "output_type": "stream",
     "text": [
      "\n",
      " 33%|████████████████████▍                                         | 33/100 [02:08<04:13,  3.78s/it]\u001b[A"
     ]
    },
    {
     "name": "stdout",
     "output_type": "stream",
     "text": [
      "The proof splits are of good quality.  Each step meaningfully contributes to the proof, and there are no redundant steps.  All parts of the proof are included in the steps.\n"
     ]
    },
    {
     "name": "stderr",
     "output_type": "stream",
     "text": [
      "\n",
      " 34%|█████████████████████                                         | 34/100 [02:14<05:05,  4.63s/it]\u001b[A"
     ]
    },
    {
     "name": "stdout",
     "output_type": "stream",
     "text": [
      "The proof splits are not good because they do not meaningfully contribute to the proof. The first step is unnecessary because it simply states what the sum is. The second step is also unnecessary because it simply multiplies the sum by $\\frac{1}{2}$, which does not change the value of the sum. The third step is the only step that actually contributes to the proof, but it is not clear why the subtraction is being performed.\n",
      "\n",
      "Here is a revised proof split that is more concise and clear:\n",
      "\n",
      "<step>Let the sum be $S$. This series looks almost geometric, but not quite. We can turn it into a geometric series by subtracting the second term from the first, the third term from the second, and so on.</step>\n",
      "<step>This gives us:\n",
      "$$\\begin{align*}\n",
      "S &= \\frac{1}{2^1} +\\frac{2}{2^2} + \\frac{3}{2^3} + \\frac{4}{2^4} + \\cdots \\\\\n",
      "\\frac{1}{2}S &= \\hspace{0.9 cm} \\frac{1}{2^2} + \\frac{2}{2^3} + \\frac{3}{2^4} + \\cdots\n",
      "\\end{align*}$$</step>\n",
      "<step>Now, we have a geometric series, so we can find $\\frac{1}{2}S = \\frac{\\frac{1}{2}}{1 - \\frac{1}{2}} = 1$, and $S = \\boxed{2}$.</step>\n"
     ]
    },
    {
     "name": "stderr",
     "output_type": "stream",
     "text": [
      "\n",
      " 35%|█████████████████████▋                                        | 35/100 [02:22<06:04,  5.61s/it]\u001b[A"
     ]
    },
    {
     "name": "stdout",
     "output_type": "stream",
     "text": [
      "The proof splits are not good because they are not meaningful and they do not contribute to the proof. \n",
      "\n",
      "The first proof splits are:\n",
      "<step>We have $5^4=625$ and $\\log_5 625 = x$, we solve for $x$</step>\n",
      "\n",
      "This step is not meaningful because it does not explain why we are solving for $x$. It also does not contribute to the proof because it does not provide any information that is used in the subsequent steps.\n",
      "\n",
      "The second proof splits are:\n",
      "<step>The definition of logarithm says that $5^x = 625$</step>\n",
      "\n",
      "This step is also not meaningful because it does not explain why we are using the definition of logarithm. It also does not contribute to the proof because it does not provide any information that is used in the subsequent steps.\n",
      "\n",
      "The third proof splits are:\n",
      "<step>Since $5^4 = 625$, we have $5^x = 5^4$</step>\n",
      "\n",
      "This step is meaningful because it explains why we can conclude that $5^x = 5^4$. It also contributes to the proof because it provides information that is used in the subsequent steps.\n",
      "\n",
      "The fourth proof splits are:\n",
      "<step>This means that $x=4</step>\n",
      "\n",
      "This step is also meaningful because it explains why we can conclude that $x=4$. It also contributes to the proof because it provides information that is used in the subsequent steps.\n",
      "\n",
      "The fifth proof splits are:\n",
      "<step>Therefore, $\\log_5 625 = \\boxed{4}$</step>\n",
      "\n",
      "This step is also meaningful because it explains why we can conclude that $\\log_5 625 = 4$. It also contributes to the proof because it provides the final answer to the question.\n",
      "\n",
      "Here are some suggestions on how to improve the proof splits:\n",
      "\n",
      "* Make the proof splits more meaningful by explaining why each step is necessary and how it contributes to the proof.\n",
      "* Avoid using unnecessary steps that do not contribute to the proof.\n",
      "* Ensure that each step provides information that is used in the subsequent steps.\n"
     ]
    },
    {
     "name": "stderr",
     "output_type": "stream",
     "text": [
      "\n",
      " 36%|██████████████████████▎                                       | 36/100 [02:24<04:39,  4.36s/it]\u001b[A"
     ]
    },
    {
     "name": "stdout",
     "output_type": "stream",
     "text": [
      "The proof splits are of good quality. Each step meaningfully contributes to the proof, and there are no redundant steps. Every part of the proof is included in the steps.\n"
     ]
    },
    {
     "name": "stderr",
     "output_type": "stream",
     "text": [
      "\n",
      " 37%|██████████████████████▉                                       | 37/100 [02:27<04:17,  4.09s/it]\u001b[A"
     ]
    },
    {
     "name": "stdout",
     "output_type": "stream",
     "text": [
      "The proof splits are good. Each step meaningfully contributes to the proof and there are no redundant steps. Every part of the proof is included in the steps.\n",
      "\n",
      "Here are some suggestions for improvement:\n",
      "\n",
      "* In step 1, you could mention that you are completing the square for $x$ first and then for $y$.\n",
      "* In step 2, you could explicitly state that you are adding $9$ to the expression and $2(1)$ to the expression.\n",
      "* In step 3, you could mention that the expression is now in the form of a perfect square trinomial.\n",
      "* In step 4, you could mention that the minimum value is when both squared terms are equal to $0$ because the sum of two squares is always non-negative.\n",
      "\n",
      "Overall, the proof splits are clear and concise, and they accurately reflect the steps of the proof.\n"
     ]
    },
    {
     "name": "stderr",
     "output_type": "stream",
     "text": [
      "\n",
      " 38%|███████████████████████▌                                      | 38/100 [02:31<04:14,  4.11s/it]\u001b[A"
     ]
    },
    {
     "name": "stdout",
     "output_type": "stream",
     "text": [
      "The proof splits are generally good. However, some minor improvements could be made:\n",
      "\n",
      "- Step 1 could be split into two steps:\n",
      "   - Factor $x^2 + 15x + 54$ to get $(x + 9)(x + 6)$.\n",
      "   - Factor $x^2 - 17x + 72$ to get $(x - 9)(x - 8)$.\n",
      "   - This would make it clearer that the two expressions are being factored separately.\n",
      "   \n",
      "- Step 2 could be combined with Step 3, as follows:\n",
      "   - Since $b = 9$, then $a = 6$ and $c = 8$, so $a + b + c = 23$.\n",
      "   - This would eliminate the unnecessary repetition of \"b = 9\".\n",
      "   \n",
      "- The final answer should be displayed as a separate step, as follows:\n",
      "   - Therefore, $a + b + c = \\boxed{23}$.\n",
      "   - This would make it clear that the answer is the final conclusion of the proof.\n"
     ]
    },
    {
     "name": "stderr",
     "output_type": "stream",
     "text": [
      "\n",
      " 39%|████████████████████████▏                                     | 39/100 [02:37<04:42,  4.63s/it]\u001b[A"
     ]
    },
    {
     "name": "stdout",
     "output_type": "stream",
     "text": [
      "The proof splits are good. Each step meaningfully contributes to the proof, and there are no redundant steps. Every part of the proof is included in the steps.\n",
      "\n",
      "Here are some suggestions for improvement:\n",
      "\n",
      "* Step 1 could be improved by providing more context. For example, you could say \"To find the sum of an arithmetic series, we use the formula $\\frac{n}{2}(a_1 + a_n)$, where $n$ is the number of terms, $a_1$ is the first term, and $a_n$ is the last term. This formula is derived from the fact that the sum of an arithmetic series is equal to the average of the first and last term, multiplied by the number of terms.\"\n",
      "* Step 3 could be improved by showing the calculation in more detail. For example, you could say \"Plugging these values into the formula, we get $\\frac{8}{2}(-2 + 33) = 4 \\cdot 31 = 124$.\"\n",
      "\n",
      "Overall, the proof splits are good, and the suggestions for improvement are minor.\n"
     ]
    },
    {
     "name": "stderr",
     "output_type": "stream",
     "text": [
      "\n",
      " 40%|████████████████████████▊                                     | 40/100 [02:40<04:08,  4.14s/it]\u001b[A"
     ]
    },
    {
     "name": "stdout",
     "output_type": "stream",
     "text": [
      "Your proof splits are clear and concise, and they accurately reflect the steps in the proof. Each step meaningfully contributes to the overall argument, and there is no redundancy. Here are some suggestions for how to improve them slightly:\n",
      "\n",
      "* In step 2, you could explicitly state that you are isolating $\\frac{12}{x}$ to solve for $x$.\n",
      "* In step 4, you could explicitly state that you are multiplying the two possible values of $x$ to find their product.\n",
      "\n",
      "Overall, your proof splits are of high quality and effectively guide the reader through the proof.\n"
     ]
    },
    {
     "name": "stderr",
     "output_type": "stream",
     "text": [
      "\n",
      " 41%|█████████████████████████▍                                    | 41/100 [02:47<05:00,  5.09s/it]\u001b[A"
     ]
    },
    {
     "name": "stdout",
     "output_type": "stream",
     "text": [
      "The provided proof splits are of good quality, as they effectively break down the proof into meaningful and concise steps. Each step contributes to the overall argument and follows logically from the previous step. Redundant information has been eliminated, and the proof flows coherently.\n",
      "\n",
      "However, a minor improvement could be made in step 3, where it states: \"These lines are $y=-3,$ $y=-4$\". While this statement is accurate, it could be more informative to explicitly mention that these are the horizontal grid lines previously referenced in step 2. By adding this connection, the reader can more easily follow the progression of the argument.\n",
      "\n",
      "Improved step 3:\n",
      "\n",
      "<step>These lines are the two horizontal grid lines mentioned in step 2: $y=-3,$ $y=-4$.</step>\n"
     ]
    },
    {
     "name": "stderr",
     "output_type": "stream",
     "text": [
      "\n",
      " 42%|██████████████████████████                                    | 42/100 [02:49<03:58,  4.12s/it]\u001b[A"
     ]
    },
    {
     "name": "stdout",
     "output_type": "stream",
     "text": [
      "The proof splits are good. Each step meaningfully contributes to the proof and there are no redundant steps. Every part of the proof is included in the steps.\n"
     ]
    },
    {
     "name": "stderr",
     "output_type": "stream",
     "text": [
      "\n",
      " 43%|██████████████████████████▋                                   | 43/100 [02:53<03:54,  4.12s/it]\u001b[A"
     ]
    },
    {
     "name": "stdout",
     "output_type": "stream",
     "text": [
      "The proof splits are generally good, but could be improved to be more concise and focused. Here is one possible way to improve them:\n",
      "\n",
      "<step>We may write $12 = x^2 - y^2 = (x+y)(x-y)$.</step>\n",
      "<step>We are also given that $12 = 6(x-y)$.</step>\n",
      "<step>Therefore $x-y = 2$.</step>\n",
      "\n",
      "The third step combines the previous two steps, since the only purpose of the second step is to show that $x-y = 2$. This makes the proof more concise and easier to follow.\n"
     ]
    },
    {
     "name": "stderr",
     "output_type": "stream",
     "text": [
      "\n",
      " 44%|███████████████████████████▎                                  | 44/100 [03:01<04:53,  5.25s/it]\u001b[A"
     ]
    },
    {
     "name": "stdout",
     "output_type": "stream",
     "text": [
      "**The proof splits are generally good, but they could be improved in a few ways:**\n",
      "\n",
      "* **Step 1:** This step is unnecessary. The fact that any two consecutive terms of an arithmetic sequence must have a common difference is a given, and it does not need to be proven.\n",
      "* **Step 2:** This step is also unnecessary. It is simply a restatement of the definition of an arithmetic sequence.\n",
      "* **Step 3:** This step is correct, but it could be simplified. We can simply say that the common difference is $d = 3x - \\frac{1}{2}$.\n",
      "* **Step 4:** This step is correct, but it could be simplified. We can simply say that the next term is $x-1 = \\frac{1}{2} + 2d$.\n",
      "* **Step 5:** This step is correct, but it could be simplified. We can simply say that $x - \\frac{3}{2} = 2x+1$.\n",
      "* **Step 6:** This step is correct, but it is unnecessary. We have already solved for $x$ in the previous step.\n",
      "* **Step 7:** This step is correct, but it is unnecessary. We have already found the common difference in Step 3.\n",
      "* **Step 8:** This step is correct, but it is unnecessary. We have already found the next two terms in Step 4.\n",
      "\n",
      "**Here is a revised version of the proof splits:**\n",
      "\n",
      "* **Step 1:** The common difference is $d = 3x - \\frac{1}{2}$.\n",
      "* **Step 2:** The next term is $x-1 = \\frac{1}{2} + 2d$.\n",
      "* **Step 3:** Simplifying the equation, we get $x - \\frac{3}{2} = 2x+1$.\n",
      "* **Step 4:** Solving for $x$ gives us $x = \\boxed{-\\frac{5}{2}}$.\n"
     ]
    },
    {
     "name": "stderr",
     "output_type": "stream",
     "text": [
      "\n",
      " 45%|███████████████████████████▉                                  | 45/100 [03:04<04:11,  4.57s/it]\u001b[A"
     ]
    },
    {
     "name": "stdout",
     "output_type": "stream",
     "text": [
      "The proof splits are good. Each step meaningfully contributes to the proof, and there are no redundant steps. Every part of the proof is included in the steps.\n"
     ]
    },
    {
     "name": "stderr",
     "output_type": "stream",
     "text": [
      "\n",
      " 46%|████████████████████████████▌                                 | 46/100 [03:07<03:33,  3.96s/it]\u001b[A"
     ]
    },
    {
     "name": "stdout",
     "output_type": "stream",
     "text": [
      "The proof splits are generally good. Each step meaningfully contributes to the proof, and there are no redundant steps. However, the last step could be split into two steps to make it more readable:\n",
      "\n",
      "<step>Then $1 + \\frac{r/2}{100} = \\frac{11130}{10600} = 1.05$, so $\\frac{r/2}{100} = 0.05$.</step>\n",
      "<step>Therefore, $r = \\boxed{10}$.</step>\n"
     ]
    },
    {
     "name": "stderr",
     "output_type": "stream",
     "text": [
      "\n",
      " 47%|█████████████████████████████▏                                | 47/100 [03:10<03:15,  3.68s/it]\u001b[A"
     ]
    },
    {
     "name": "stdout",
     "output_type": "stream",
     "text": [
      "The proof splits are good. Each step meaningfully contributes to the proof and there are no redundant steps. Every part of the proof is included in the steps.\n"
     ]
    },
    {
     "name": "stderr",
     "output_type": "stream",
     "text": [
      "\n",
      " 48%|█████████████████████████████▊                                | 48/100 [03:13<03:08,  3.63s/it]\u001b[A"
     ]
    },
    {
     "name": "stdout",
     "output_type": "stream",
     "text": [
      "The proof splits are of good quality. Each step meaningfully contributes to the proof, and there are no redundant steps. Every part of the proof is included in the steps.\n",
      "\n",
      "However, one minor improvement could be made. In step 2, it would be helpful to explicitly state that the slope is the change in y divided by the change in x. This would make the proof more complete and easier to follow for some readers.\n",
      "\n",
      "Here is the revised step 2:\n",
      "\n",
      "<step>Now, we need to find the slope of the line. Looking carefully, we can see that for every one unit to the right the line travels, it goes up by two units. This means that the slope of the line is 2, because the slope is the change in y divided by the change in x.</step>\n"
     ]
    },
    {
     "name": "stderr",
     "output_type": "stream",
     "text": [
      "\n",
      " 49%|██████████████████████████████▍                               | 49/100 [03:20<03:48,  4.49s/it]\u001b[A"
     ]
    },
    {
     "name": "stdout",
     "output_type": "stream",
     "text": [
      "The proof splits are generally good, but there are two minor improvements that could be made:\n",
      "\n",
      "1. **Step 2 could be split into two steps:**\n",
      "\n",
      "   - Step 2: Because 600 is divisible by 4, we know that if we start grouping the powers of $i$ as suggested by our first two groups above, we'll have an integer number of groups.\n",
      "   - Step 3: We won't have any `extra' powers of $i$ beyond $i^{600}$.\n",
      "\n",
      "   This would make it clearer that Step 2 is about the grouping of powers of $i$, and Step 3 is about the fact that there won't be any powers of $i$ left over after the grouping.\n",
      "\n",
      "2. **Step 4 could be combined with Step 3:**\n",
      "\n",
      "   - Step 3: We will, however, have the extra 1 before the $i$, so $i^{600} + i^{599} + \\cdots + i + 1 = (0) + (0) + \\cdots + (0) + 1 = \\boxed{1}$.\n",
      "\n",
      "   This would combine the statement that we have an extra 1 with the computation of the sum.\n",
      "\n",
      "Overall, the proof splits are clear and concise, and they effectively guide the reader through the proof.\n"
     ]
    },
    {
     "name": "stderr",
     "output_type": "stream",
     "text": [
      "\n",
      " 50%|███████████████████████████████                               | 50/100 [03:24<03:42,  4.46s/it]\u001b[A"
     ]
    },
    {
     "name": "stdout",
     "output_type": "stream",
     "text": [
      "Each of the specified steps meaningfully contributes to the proof and no steps are redundant. However, the proof split can be revised to more concisely describe each step.\n",
      "\n",
      "<step>**Observation:** If $a^2 < n ≤ (a+1)^2$ for some integer $a$, then $a < \\sqrt{n} ≤ a+1$. Consequently, $a$ is the least integer greater than or equal to $\\sqrt{n}$.</step>\n",
      "\n",
      "<step>**Strategy:** Break up the sum into blocks of integers between consecutive perfect squares.</step>\n",
      "\n",
      "<step>**Calculation:** Count the number of values in each block and sum the values of all the blocks.</step>\n",
      "\n",
      "These three steps clearly outline the logical flow of the proof and concisely describe each step's purpose.\n"
     ]
    },
    {
     "name": "stderr",
     "output_type": "stream",
     "text": [
      "\n",
      " 51%|███████████████████████████████▌                              | 51/100 [03:30<03:54,  4.79s/it]\u001b[A"
     ]
    },
    {
     "name": "stdout",
     "output_type": "stream",
     "text": [
      "The proof splits are of good quality. Each step meaningfully contributes to the proof, and there are no redundant steps. Every part of the proof is included in the steps.\n",
      "\n",
      "One suggestion for improvement would be to make the second step more explicit. Instead of saying \"The $n^{\\text{th}}$ term is given by $1 + 2(n - 1) = 2n - 1$\", it would be more clear to say \"The $n^{\\text{th}}$ term is given by the formula $1 + 2(n - 1)$, which simplifies to $2n - 1$.\" This would make it more clear to the reader how the formula for the $n^{\\text{th}}$ term is derived.\n"
     ]
    },
    {
     "name": "stderr",
     "output_type": "stream",
     "text": [
      "\n",
      " 52%|████████████████████████████████▏                             | 52/100 [03:31<03:02,  3.80s/it]\u001b[A"
     ]
    },
    {
     "name": "stdout",
     "output_type": "stream",
     "text": [
      "The proof splits are good as they: \n",
      "- Don't have redundant steps.\n",
      "- Each step meaningfully contributes to the proof.\n",
      "- Every part of the proof is included.\n"
     ]
    },
    {
     "name": "stderr",
     "output_type": "stream",
     "text": [
      "\n",
      " 53%|████████████████████████████████▊                             | 53/100 [03:34<02:50,  3.62s/it]\u001b[A"
     ]
    },
    {
     "name": "stdout",
     "output_type": "stream",
     "text": [
      "Step 1 and Step 2 are good. \n",
      "\n",
      "Step 3 is unnecessary because the question does not ask for the value of $x+y$. So the proof can be split as follows: \n",
      "\n",
      "<step>Notice that if we add $x(x+y)$ and $y(x+y)$, we can factor out a term of $(x+y)$ to obtain $x(x+y) + y(x+y) = (x+y)(x+y)$.</step>\n",
      "<step>Thus, $(x+y)^2 = x(x+y) + y(x+y)$, so $(x+y)^2 = 27 + 54 = \\boxed{81}$.</step>\n"
     ]
    },
    {
     "name": "stderr",
     "output_type": "stream",
     "text": [
      "\n",
      " 54%|█████████████████████████████████▍                            | 54/100 [03:42<03:46,  4.93s/it]\u001b[A"
     ]
    },
    {
     "name": "stdout",
     "output_type": "stream",
     "text": [
      "The provided proof splits are generally good and each step meaningfully contributes to the overall proof. However, there are a few minor improvements that could be made:\n",
      "\n",
      "* **Step 2:** The step mentions that $2x^2 -12x + 3 = 2(x^2 - 6x) + 3$ but it would be helpful to explain how this step is obtained. The equation $2x^2 -12x + 3$ can be rewritten as $2(x^2 - 6x) + 3$ by factoring out a 2. Including this explanation would make the proof more complete.\n",
      "\n",
      "* **Step 3:** Similarly, the step $2(x^2 -6x) +3 = 2(x^2 -6x + (6/2)^2 - (6/2)^2) + 3$ could be improved by providing a brief explanation of how the term $(6/2)^2 - (6/2)^2$ is added and subtracted. This step is essentially completing the square, but including a brief explanation would enhance the proof's clarity.\n",
      "\n",
      "The other steps in the proof split are clear and concise, and they logically progress towards the final conclusion. Overall, the proof splits are of good quality and provide a clear and structured breakdown of the proof.\n"
     ]
    },
    {
     "name": "stderr",
     "output_type": "stream",
     "text": [
      "\n",
      " 55%|██████████████████████████████████                            | 55/100 [03:48<03:49,  5.10s/it]\u001b[A"
     ]
    },
    {
     "name": "stdout",
     "output_type": "stream",
     "text": [
      "The proof splits are of good quality. Each step meaningfully contributes to the proof, and there are no redundant steps. Every part of the proof is included in the steps.\n",
      "\n",
      "Here is a possible improvement:\n",
      "\n",
      "<step>Since $|f(x)| \\le 5$ for all $x$ and $|g(x)| \\le 2$ for all $x$, we have $|f(x) g(x)| \\le 10$ for all $x$.</step>\n",
      "<step>It follows that $f(x) g(x) \\le 10$ for all $x$, so $b$ is at most 10.</step>\n",
      "<step>To show that $b$ can be equal to 10, we can consider the functions $f(x) = -5$ and $g(x) = -2$.  The range of $f$ is $[-5, -5]$ and the range of $g$ is $[-2, -2]$, so the range of $f(x) g(x)$ is $[-10, -10]$.  Therefore, $b$ can be equal to 10.</step>\n",
      "<step>Thus, the largest possible value of $b$ is $\\boxed{10}$.</step>\n",
      "\n",
      "This improvement adds a step to show that $b$ can be equal to 10. This is necessary to complete the proof, as it shows that the upper bound on $b$ is tight.\n"
     ]
    },
    {
     "name": "stderr",
     "output_type": "stream",
     "text": [
      "\n",
      " 56%|██████████████████████████████████▋                           | 56/100 [03:53<03:49,  5.20s/it]\u001b[A"
     ]
    },
    {
     "name": "stdout",
     "output_type": "stream",
     "text": [
      "The proof splits are generally good. Each step meaningfully contributes to the proof and there are no redundant steps. \n",
      "\n",
      "One possible improvement would be to combine steps 1 and 2 into a single step:\n",
      "\n",
      "\"By the definitions of direct variation and inverse proportion, we have $x=my^3$ and $y=\\frac{n}{\\sqrt{z}}$ for some constants $m$ and $n$.\"\n",
      "\n",
      "This would simplify the proof slightly and make it easier to read.\n",
      "\n",
      "Overall, the proof splits are of good quality and provide a clear and concise overview of the proof.\n"
     ]
    },
    {
     "name": "stderr",
     "output_type": "stream",
     "text": [
      "\n",
      " 57%|███████████████████████████████████▎                          | 57/100 [03:57<03:20,  4.66s/it]\u001b[A"
     ]
    },
    {
     "name": "stdout",
     "output_type": "stream",
     "text": [
      "The proof splits are of good quality. Each step meaningfully contributes to the proof and there are no redundant steps. Every part of the proof is included in the steps. \n",
      "\n",
      "One suggestion for improvement would be to make the first step more specific. Instead of saying \"Instead of expanding the entire product, we can look only at terms that will multiply to give $x^2$\", it would be more helpful to say \"Instead of expanding the entire product, we can look only at the terms $-5x^2$, $-7x$, and $1$ in the first polynomial and the terms $-x^2$ and $-6x$ in the second polynomial, since these are the only terms that can multiply to give $x^2$\". This would make it clearer to the reader what is being done in the proof.\n"
     ]
    },
    {
     "name": "stderr",
     "output_type": "stream",
     "text": [
      "\n",
      " 58%|███████████████████████████████████▉                          | 58/100 [04:02<03:22,  4.82s/it]\u001b[A"
     ]
    },
    {
     "name": "stdout",
     "output_type": "stream",
     "text": [
      "The proof splits are not of good quality. The first step is unnecessary, as the proof will work without it. The second step includes two separate ideas: substitution and simplification, which should be split into separate steps. The third step, while correct, is not very meaningful on its own. A better split would be:\n",
      "\n",
      "<step>Let $u=3x-1$.</step>\n",
      "<step>Substitute $u$ into the function: $f(u)=f(3x-1)=x^2+x+1$.</step>\n",
      "<step>Simplify the function: $f(u)=\\left(\\frac{u+1}{3}\\right)^2+\\frac{u+1}{3}+1=\\frac{u^2+5u+13}{9}$.</step>\n",
      "<step>Evaluate $f(5)$ by plugging in $u=5$: $f(5)=\\frac{5^2+5\\cdot5+13}{9}=\\frac{63}{9}=\\boxed{7}$.</step>\n"
     ]
    },
    {
     "name": "stderr",
     "output_type": "stream",
     "text": [
      "\n",
      " 59%|████████████████████████████████████▌                         | 59/100 [04:05<02:55,  4.28s/it]\u001b[A"
     ]
    },
    {
     "name": "stdout",
     "output_type": "stream",
     "text": [
      "The proof splits are good. Each step meaningfully contributes to the proof, and there are no redundant steps. Every part of the proof is included in the steps. \n",
      "\n",
      "One possible improvement would be to include more detail in the first step. For example, you could explicitly state that you are using the fact that $a/(-b) = -a/b$ to rewrite the expression $\\frac{2n-4}{2-n}$.\n",
      "\n",
      "Overall, the proof splits are well-written and easy to follow.\n"
     ]
    },
    {
     "name": "stderr",
     "output_type": "stream",
     "text": [
      "\n",
      " 60%|█████████████████████████████████████▏                        | 60/100 [04:09<02:45,  4.14s/it]\u001b[A"
     ]
    },
    {
     "name": "stdout",
     "output_type": "stream",
     "text": [
      "The proof splits are **good**.\n",
      "\n",
      "Each step meaningfully contributes to the proof. There are no redundant steps. Every part of the proof is included in the steps.\n",
      "\n",
      "Here are some suggestions for improving the proof splits:\n",
      "\n",
      "* Step 1 could be more concise by combining the two sentences into one: \"Since a square root is an exponent of $\\frac{1}{2}$ and exponents distribute across multiplication, we can combine the radicals.\"\n",
      "* Step 2 could be more specific by indicating that we are using the rule $\\sqrt{a}\\cdot \\sqrt{b}=\\sqrt{ab}$ to combine the radicals.\n",
      "* Step 3 could be more concise by combining the two sentences into one: \"We find $\\sqrt{8\\cdot50}=\\sqrt{(2\\cdot2)^2\\cdot5^2}=2\\cdot2\\cdot5=\\boxed{20}$.\"\n",
      "\n",
      "Overall, the proof splits are good and provide a clear and concise explanation of the steps involved in simplifying $\\sqrt{8} \\times \\sqrt{50}$.\n"
     ]
    },
    {
     "name": "stderr",
     "output_type": "stream",
     "text": [
      "\n",
      " 61%|█████████████████████████████████████▊                        | 61/100 [04:14<02:51,  4.40s/it]\u001b[A"
     ]
    },
    {
     "name": "stdout",
     "output_type": "stream",
     "text": [
      "The proof splits are of good quality. Each step meaningfully contributes to the proof, and there are no redundant steps. All parts of the proof are included in the steps.\n",
      "\n",
      "Here are some suggestions for improvement:\n",
      "\n",
      "* Step 1 could be improved by explicitly stating that the parabola is a vertical parabola.\n",
      "* Step 3 could be improved by explicitly stating that $a=-3$.\n",
      "* Step 4 could be improved by explicitly stating that the equation is in the form $y=ax^2+bx+c$.\n",
      "\n",
      "Here is the improved proof split:\n",
      "\n",
      "<step>Since the axis of symmetry is vertical and the vertex is $(2,4)$, the parabola is a vertical parabola that may also be written as $y=a(x-2)^2+4$ for some value of $a$.</step>\n",
      "<step>Plugging the point $(1,1)$ into this expression gives $1=a(1-2)^2+4=a+4$.</step>\n",
      "<step>This tells us $a=-3$, so our equation is $y=-3(x-2)^2+4$.</step>\n",
      "<step>Putting it in $y=ax^2+bx+c$ form requires expanding the square, so we get $y=-3(x^2-4x+4)+4=\\boxed{-3x^2+12x-8}$.</step>\n"
     ]
    },
    {
     "name": "stderr",
     "output_type": "stream",
     "text": [
      "\n",
      " 62%|██████████████████████████████████████▍                       | 62/100 [04:19<02:55,  4.62s/it]\u001b[A"
     ]
    },
    {
     "name": "stdout",
     "output_type": "stream",
     "text": [
      "The proof splits are of good quality. Each step meaningfully contributes to the proof and there are no redundant steps. Every part of the proof is included in the steps.\n",
      "\n",
      "One potential improvement would be to make the first step more concise by combining it with the second step. The combined step could read:\n",
      "\n",
      ">The graphs of $f(x),g(x),h(x)$ are all lines, and we can extend these segments to form the superimposed graphs of $f(x),$ $g(x),$ and $h(x)$ on one set of axes. The graph of $k(x)$ consists of the \"bottom surface\" of this tangle of lines, shown here in light blue.\n",
      "\n",
      "Overall, the proof splits are clear and concise, and they effectively guide the reader through the proof.\n"
     ]
    },
    {
     "name": "stderr",
     "output_type": "stream",
     "text": [
      "\n",
      " 63%|███████████████████████████████████████                       | 63/100 [04:21<02:23,  3.87s/it]\u001b[A"
     ]
    },
    {
     "name": "stdout",
     "output_type": "stream",
     "text": [
      "The proof splits are of good quality.\n",
      "\n",
      "Each step meaningfully contributes to the proof, and there are no redundant steps. Every part of the proof is included in the steps.\n",
      "\n",
      "Here is a suggestion for improvement:\n",
      "\n",
      "In step 2, it would be more explicit to say \"Thus $1200\\cdot .35 = s \\cdot 2400$, which simplifies to $s = \\frac{.35}2$.\"\n"
     ]
    },
    {
     "name": "stderr",
     "output_type": "stream",
     "text": [
      "\n",
      " 64%|███████████████████████████████████████▋                      | 64/100 [04:22<01:52,  3.12s/it]\u001b[A"
     ]
    },
    {
     "name": "stdout",
     "output_type": "stream",
     "text": [
      "The proof splits are good. Each step meaningfully contributes to the proof, and there are no redundant steps. Every part of the proof is included in the steps.\n"
     ]
    },
    {
     "name": "stderr",
     "output_type": "stream",
     "text": [
      "\n",
      " 65%|████████████████████████████████████████▎                     | 65/100 [04:26<01:48,  3.11s/it]\u001b[A"
     ]
    },
    {
     "name": "stdout",
     "output_type": "stream",
     "text": [
      "The proof splits are of good quality. Each step meaningfully contributes to the proof, and there are no redundant steps. Every part of the proof is included in the steps.\n",
      "\n",
      "One possible improvement would be to make the first step more concise by combining it with the second step:\n",
      "\n",
      "<step>Starting from the inside out, we have $f(2)=2^2=4$ since $2<4$, so $f(f(f(2)))=f(f(4))$.</step>\n",
      "\n",
      "This would reduce the number of steps from four to three, while still maintaining the clarity and precision of the proof.\n"
     ]
    },
    {
     "name": "stderr",
     "output_type": "stream",
     "text": [
      "\n",
      " 66%|████████████████████████████████████████▉                     | 66/100 [04:28<01:39,  2.91s/it]\u001b[A"
     ]
    },
    {
     "name": "stdout",
     "output_type": "stream",
     "text": [
      "The proof splits are of good quality. Each step meaningfully contributes to the proof, and there are no redundant steps. All parts of the proof are included in the steps. Here are some suggestions on how to improve the proof splits:\n",
      "\n",
      "* Step 1 could be more concise by stating \"Since $3 \\ge -2$, we use the second case.\"\n",
      "* Step 2 could be combined with step 3 to state \"Therefore, $f(3) = 5-2(3) = -1$ using the second case.\"\n",
      "\n",
      "Overall, the proof splits are clear and easy to follow.\n"
     ]
    },
    {
     "name": "stderr",
     "output_type": "stream",
     "text": [
      "\n",
      " 67%|█████████████████████████████████████████▌                    | 67/100 [04:31<01:40,  3.04s/it]\u001b[A"
     ]
    },
    {
     "name": "stdout",
     "output_type": "stream",
     "text": [
      "The proof splits are not of good quality and can be improved.\n",
      "\n",
      "The first step is unnecessary because the question already states that n is the second integer.\n",
      "\n",
      "The second step is correct but can be simplified.\n",
      "\n",
      "The third step is unnecessary because it simply restates the second step.\n",
      "\n",
      "The fourth step is correct.\n",
      "\n",
      "The fifth step is correct but can be simplified by removing the parentheses.\n",
      "\n",
      "The sixth step is correct.\n",
      "\n",
      "Here is a revised proof with improved proof splits:\n",
      "\n",
      "**Proof:**\n",
      "\n",
      "<step>The sum of the first and third integers is $2n$.</step>\n",
      "<step>We are given that the sum of the first and third integers is $118$, so $2n=118$.</step>\n",
      "<step>Solving for $n$, we get $n=118/2=\\boxed{59}$.</step>\n"
     ]
    },
    {
     "name": "stderr",
     "output_type": "stream",
     "text": [
      "\n",
      " 68%|██████████████████████████████████████████▏                   | 68/100 [04:37<01:58,  3.70s/it]\u001b[A"
     ]
    },
    {
     "name": "stdout",
     "output_type": "stream",
     "text": [
      "The proof splits are not good because they contain redundant information. For example, step 2 and step 3 both mention that $2f(4)=g(4)$. A better way to split the proof would be:\n",
      "\n",
      "<step>$2f(4)=g(4)$.</step>\n",
      "<step>Since $f(x)=8-2x+mx^2$ and $g(x)=16-8+4m$, we have $2f(4)=2(8-2(4)+m4^2)$ and $g(4)=16-8+4m$.</step>\n",
      "<step>Equating these two expressions, we get $2(8-2(4)+m4^2)=16-8+4m$, which simplifies to $16+2m=8+4m$.</step>\n",
      "<step>Solving for $m$, we get $8=2m$ and $m=\\boxed{4}$.</step>\n"
     ]
    },
    {
     "name": "stderr",
     "output_type": "stream",
     "text": [
      "\n",
      " 69%|██████████████████████████████████████████▊                   | 69/100 [04:41<02:00,  3.90s/it]\u001b[A"
     ]
    },
    {
     "name": "stdout",
     "output_type": "stream",
     "text": [
      "The proof splits are generally good. Each step contributes meaningfully to the proof, and there are no redundant steps. However, Step 4 is unnecessary. The ceiling function is defined in Step 3, and it is not used again in the proof. Therefore, Step 4 can be removed.\n",
      "\n",
      "Here are the improved proof splits:\n",
      "\n",
      "<step>First, we note that $x$ must be positive, since otherwise $\\lceil x \\rceil \\cdot x$ is nonpositive.</step>\n",
      "<step>Knowing that $\\lceil x \\rceil - 1 < x \\leq \\lceil x \\rceil,$ we see that $\\lceil x \\rceil$ must be $12,$ since $11 \\cdot 11 < 135 \\leq 12 \\cdot 12.$</step>\n",
      "<step>Now we see that $\\lceil x \\rceil \\cdot x = 12x = 135,$ so $x = \\frac{135}{12} = \\boxed{11.25}.$</step>\n"
     ]
    },
    {
     "name": "stderr",
     "output_type": "stream",
     "text": [
      "\n",
      " 70%|███████████████████████████████████████████▍                  | 70/100 [04:42<01:34,  3.14s/it]\u001b[A"
     ]
    },
    {
     "name": "stdout",
     "output_type": "stream",
     "text": [
      "The proof splits are of good quality. Each step meaningfully contributes to the proof and there are no redundant steps. Every part of the proof is included in the steps.\n"
     ]
    },
    {
     "name": "stderr",
     "output_type": "stream",
     "text": [
      "\n",
      " 71%|████████████████████████████████████████████                  | 71/100 [04:44<01:19,  2.73s/it]\u001b[A"
     ]
    },
    {
     "name": "stdout",
     "output_type": "stream",
     "text": [
      "The proof splits are of good quality. Each step meaningfully contributes to the proof, and there are no redundant steps. Every part of the proof is included in the steps.\n"
     ]
    },
    {
     "name": "stderr",
     "output_type": "stream",
     "text": [
      "\n",
      " 72%|████████████████████████████████████████████▋                 | 72/100 [04:48<01:23,  3.00s/it]\u001b[A"
     ]
    },
    {
     "name": "stdout",
     "output_type": "stream",
     "text": [
      "The proof splits are not of good quality because they are redundant and do not meaningfully contribute to the proof. Here is an improved version of the proof splits:\n",
      "\n",
      "Step 1: Square the equation provided, we get $m^2+2(m)\\left(\\frac{1}{m}\\right) +\\frac{1}{m^2}=64$.\n",
      "\n",
      "Step 2: Simplify the left-hand side of the equation $m^2+2+\\frac{1}{m^2}$, by finding a common denominator for the last two terms.\n",
      "\n",
      "Step 3: Simplify the expression $m^2+\\frac{1}{m^2}+4$ to get $66$.\n",
      "\n",
      "This proof split is more concise and each step meaningfully contributes to the proof.\n"
     ]
    },
    {
     "name": "stderr",
     "output_type": "stream",
     "text": [
      "\n",
      " 73%|█████████████████████████████████████████████▎                | 73/100 [04:50<01:15,  2.78s/it]\u001b[A"
     ]
    },
    {
     "name": "stdout",
     "output_type": "stream",
     "text": [
      "The proof splits are of good quality. Each step meaningfully contributes to the proof and there are no redundant steps. Every part of the proof is included in the steps.\n"
     ]
    },
    {
     "name": "stderr",
     "output_type": "stream",
     "text": [
      "\n",
      " 74%|█████████████████████████████████████████████▉                | 74/100 [05:01<02:17,  5.27s/it]\u001b[A"
     ]
    },
    {
     "name": "stdout",
     "output_type": "stream",
     "text": [
      "The proof splits provided are of good quality. Each step meaningfully contributes to the proof and there are no redundant steps. Every part of the proof is included in the steps.\n",
      "\n",
      "However, one possible improvement would be to combine steps 3 and 4 into a single step. This would make the proof slightly more concise without sacrificing any clarity or detail.\n",
      "\n",
      "Here is the revised proof with the combined step:\n",
      "\n",
      "**Proof:**\n",
      "\n",
      "<step>**Factor the original equation:** $3x^2+10x-25=(3x-5)(x+5)=0$</step>\n",
      "\n",
      "<step>**Therefore, the two solutions are $3x-5=0$ and $x+5=0$.**</step>\n",
      "\n",
      "<step>**Solving for $x$ in both equations, we get $x=\\frac{5}{3}$ and $x=-5$.**</step>\n",
      "\n",
      "<step>**Therefore, either $d$ or $e$ could equal either $\\frac{5}{3}$ or $-5$.**</step>\n",
      "\n",
      "<step>**However, $(d-e)^2=(e-d)^2$ as shown below:**</step>\n",
      "\n",
      "<step>$(d-e)^2=\\{(-1)(e-d)\\}^2=(-1)^2(e-d)^2=(e-d)^2$</step>\n",
      "\n",
      "<step>**Setting $\\frac{5}{3}=d$ and $-5=e$:**</step>\n",
      "\n",
      "<step>$(d-e)^2=\\left(\\frac{5}{3}-(-5)\\right)^2=\\left(\\frac{5}{3}+5\\right)^2=\\left(\\frac{20}{3}\\right)^2=\\boxed{\\frac{400}{9}}$</step>\n",
      "\n",
      "**Proof Splits:**\n",
      "\n",
      "<step>Factoring the original equation: $3x^2+10x-25=(3x-5)(x+5)=0$</step>\n",
      "<step>Therefore, the two solutions are $3x-5=0$ and $x+5=0$.</step>\n",
      "<step>Solving for $x$ in both equations, we get $x=\\frac{5}{3}$ and $x=-5$.</step>\n",
      "<step>Therefore, either $d$ or $e$ could equal either $\\frac{5}{3}$ or $-5$.</step>\n",
      "<step>However, $(d-e)^2=(e-d)^2$ as shown below.</step>\n",
      "<step>$(d-e)^2=\\{(-1)(e-d)\\}^2=(-1)^2(e-d)^2=(e-d)^2$</step>\n",
      "<step>Setting $\\frac{5}{3}=d$ and $-5=e$:</step>\n",
      "<step>$(d-e)^2=\\left(\\frac{5}{3}-(-5)\\right)^2=\\left(\\frac{5}{3}+5\\right)^2=\\left(\\frac{20}{3}\\right)^2=\\boxed{\\frac{400}{9}}$</step>\n"
     ]
    },
    {
     "name": "stderr",
     "output_type": "stream",
     "text": [
      "\n",
      " 75%|██████████████████████████████████████████████▌               | 75/100 [05:04<01:56,  4.66s/it]\u001b[A"
     ]
    },
    {
     "name": "stdout",
     "output_type": "stream",
     "text": [
      "The proof splits are good because each step meaningfully contributes to the proof and there are no redundant steps. Every part of the proof is included in the steps.\n",
      "\n",
      "Here is a suggestion for improvement:\n",
      "\n",
      "**Proof Splits:**\n",
      "<step>The only way $|3x+5|$ is not positive is if it is 0, because the absolute value of any number is always positive or 0.</step>\n",
      "<step>We have $|3x+5| = 0$ if and only if $3x+5 = 0$, by the definition of absolute value.</step>\n",
      "<step>Solving this equation gives $x = \\boxed{-\\frac{5}{3}}$.</step>\n"
     ]
    },
    {
     "name": "stderr",
     "output_type": "stream",
     "text": [
      "\n",
      " 76%|███████████████████████████████████████████████               | 76/100 [05:06<01:27,  3.65s/it]\u001b[A"
     ]
    },
    {
     "name": "stdout",
     "output_type": "stream",
     "text": [
      "The proof splits are good. Each step meaningfully contributes to the proof, and there are no redundant steps. Every part of the proof is included in the steps.\n"
     ]
    },
    {
     "name": "stderr",
     "output_type": "stream",
     "text": [
      "\n",
      " 77%|███████████████████████████████████████████████▋              | 77/100 [05:09<01:22,  3.60s/it]\u001b[A"
     ]
    },
    {
     "name": "stdout",
     "output_type": "stream",
     "text": [
      "The proof splits are good. Each step meaningfully contributes to the proof, and there are no redundant steps. Every part of the proof is included in the steps.\n",
      "\n",
      "Here are some suggestions for improving the proof splits:\n",
      "\n",
      "* Step 1 could be split into two steps:\n",
      "    * Step 1a: Find the greatest common factor of the coefficients.\n",
      "    * Step 1b: Find the greatest power of $z$ that divides both terms.\n",
      "* Step 2 could be written as:\n",
      "    * Step 2: Factor $11z^{17}$ out of both terms.\n",
      "* Step 3 could be written as:\n",
      "    * Step 3: Simplify the expression.\n",
      "\n",
      "Overall, the proof splits are good and provide a clear and concise explanation of the factoring process.\n"
     ]
    },
    {
     "name": "stderr",
     "output_type": "stream",
     "text": [
      "\n",
      " 78%|████████████████████████████████████████████████▎             | 78/100 [05:13<01:21,  3.70s/it]\u001b[A"
     ]
    },
    {
     "name": "stdout",
     "output_type": "stream",
     "text": [
      "The proof splits are adequate but can be improved to make each step more meaningful and contribute more to the overall proof. Here are some suggestions to improve the proof splits:\n",
      "\n",
      "- **Step 1: Apply the Distributive Property:** Introduce the distributive property as the primary tool for expanding the product.\n",
      "- **Step 2: Expand the First Term:** Apply the distributive property to the first term, which involves multiplying $\\frac{2}{5}$ by $\\frac{5}{x}$.\n",
      "- **Step 3: Expand the Second Term:** Repeat the same process for the second term, multiplying $\\frac{2}{5}$ by $10x^2$.\n",
      "- **Step 4: Simplify the Result:** Combine the expanded terms to obtain the final simplified expression.\n",
      "\n",
      "Revised Proof Splits:\n",
      "\n",
      "- **Step 1: Apply the Distributive Property**\n",
      "- **Step 2: Expand the First Term**\n",
      "- **Step 3: Expand the Second Term**\n",
      "- **Step 4: Simplify**\n",
      "\n",
      "This breakdown ensures that each step has a clear purpose and contributes directly to the overall proof.\n"
     ]
    },
    {
     "name": "stderr",
     "output_type": "stream",
     "text": [
      "\n",
      " 79%|████████████████████████████████████████████████▉             | 79/100 [05:15<01:09,  3.33s/it]\u001b[A"
     ]
    },
    {
     "name": "stdout",
     "output_type": "stream",
     "text": [
      "The proof splits are of good quality. Each step meaningfully contributes to the proof and is not redundant. All parts of the proof are included in the steps. \n",
      "\n",
      "One potential improvement would be to explicitly state the fact that the ball is caught when it reached the high point after hitting the ground for the third time in the first step. This would help to clarify the context of the problem and make the proof easier to follow.\n"
     ]
    },
    {
     "name": "stderr",
     "output_type": "stream",
     "text": [
      "\n",
      " 80%|█████████████████████████████████████████████████▌            | 80/100 [05:20<01:11,  3.57s/it]\u001b[A"
     ]
    },
    {
     "name": "stdout",
     "output_type": "stream",
     "text": [
      "The provided proof splits are clear and concise. Each step contributes to the overall proof in a meaningful way, and there are no redundant steps.\n",
      "\n",
      "One potential improvement would be to add a brief explanation to the first step, stating why we are solving for $y$ in terms of $x$. This would help to make the proof more self-contained and easier to follow.\n",
      "\n",
      "For example, the first step could be revised as follows:\n",
      "\n",
      "<step>We solve for $y$ in terms of $x$ to express $xy$ as a function of $x$ only. This will allow us to find the maximum value of $xy$ by finding the vertex of the resulting parabola.</step>\n",
      "\n",
      "Overall, the proof splits are of good quality and provide a clear and logical progression of the proof.\n"
     ]
    },
    {
     "name": "stderr",
     "output_type": "stream",
     "text": [
      "\n",
      " 81%|██████████████████████████████████████████████████▏           | 81/100 [05:22<00:59,  3.14s/it]\u001b[A"
     ]
    },
    {
     "name": "stdout",
     "output_type": "stream",
     "text": [
      "The proof splits are of good quality. Each step meaningfully contributes to the proof, and there are no redundant steps. Every part of the proof is included in the steps.\n",
      "\n",
      "One possible improvement would be to add a brief explanation to each step. For example, in step 3, it could be helpful to add \"We can square the second term of the geometric progression and set it equal to the product of the first and third terms of the geometric progression.\"\n"
     ]
    },
    {
     "name": "stderr",
     "output_type": "stream",
     "text": [
      "\n",
      " 82%|██████████████████████████████████████████████████▊           | 82/100 [05:26<01:00,  3.38s/it]\u001b[A"
     ]
    },
    {
     "name": "stdout",
     "output_type": "stream",
     "text": [
      "The proof splits are generally good, but there are a few minor improvements that could be made:\n",
      "\n",
      "* Step 1: The step \"We have $f(g(2))=f(2^2-6)$\" is a bit redundant since it is simply restating the given expression. It would be better to combine this step with step 2, which substitutes $2^2=4$.\n",
      "* Step 4: The step \"Now, we know that $f(-2)=-2+3=1$\" is also a bit redundant since it is simply restating the result of step 3. It would be better to combine this step with step 5, which concludes the proof.\n",
      "\n",
      "Here is a revised version of the proof splits:\n",
      "\n",
      "1. Substituting $2^2=4$, we get $f(g(2))=f(4-6)$.\n",
      "2. Simplifying further, we have $f(g(2))=f(-2)$.\n",
      "3. Therefore, $f(g(2))=f(-2)=-2+3=\\boxed{1}$.\n"
     ]
    },
    {
     "name": "stderr",
     "output_type": "stream",
     "text": [
      "\n",
      " 83%|███████████████████████████████████████████████████▍          | 83/100 [05:29<00:56,  3.30s/it]\u001b[A"
     ]
    },
    {
     "name": "stdout",
     "output_type": "stream",
     "text": [
      "The proof splits are of good quality and can be used to help someone understand the steps involved in the proof. One suggestion is to reword step 5 to make it clearer that we are finding the value of the expression, rather than just simplifying it. For example, step 5 could be reworded as: \"Finally, we evaluate $[f^{-1}(2)]^{-2}$ to find that it equals $1^{-2} = \\boxed{1}$.\"\n"
     ]
    },
    {
     "name": "stderr",
     "output_type": "stream",
     "text": [
      "\n",
      " 84%|████████████████████████████████████████████████████          | 84/100 [05:30<00:43,  2.71s/it]\u001b[A"
     ]
    },
    {
     "name": "stdout",
     "output_type": "stream",
     "text": [
      "The proof splits are good. Each step meaningfully contributes to the proof and there are no redundant steps. Every part of the proof is included in the steps.\n"
     ]
    },
    {
     "name": "stderr",
     "output_type": "stream",
     "text": [
      "\n",
      " 85%|████████████████████████████████████████████████████▋         | 85/100 [05:33<00:43,  2.89s/it]\u001b[A"
     ]
    },
    {
     "name": "stdout",
     "output_type": "stream",
     "text": [
      "The proof splits are of good quality. Each step meaningfully contributes to the proof, and there are no redundant steps. Every part of the proof is included in the steps.\n",
      "\n",
      "Here are some possible improvements:\n",
      "\n",
      "* Step 1 could be more specific about the rearrangement. For example, it could say \"We can rearrange the equation as $x^2 + 4x = 0$ by subtracting $4x$ from both sides and adding $4$ to both sides.\"\n",
      "* Step 2 could be more specific about the zero product property. For example, it could say \"Factoring gives $x(x+4)=0$, using the zero product property, which states that if the product of two factors is zero, then at least one of the factors must be zero.\"\n",
      "\n",
      "Overall, the proof splits are of good quality and provide a clear and concise explanation of the proof.\n"
     ]
    },
    {
     "name": "stderr",
     "output_type": "stream",
     "text": [
      "\n",
      " 86%|█████████████████████████████████████████████████████▎        | 86/100 [05:35<00:35,  2.50s/it]\u001b[A"
     ]
    },
    {
     "name": "stdout",
     "output_type": "stream",
     "text": [
      "The proof splits are of good quality. \n",
      "\n",
      "Each step meaningfully contributes to the proof and there are no redundant steps. Every part of the proof is included in the steps.\n",
      "\n",
      "No feedback is necessary.\n"
     ]
    },
    {
     "name": "stderr",
     "output_type": "stream",
     "text": [
      "\n",
      " 87%|█████████████████████████████████████████████████████▉        | 87/100 [05:42<00:49,  3.79s/it]\u001b[A"
     ]
    },
    {
     "name": "stdout",
     "output_type": "stream",
     "text": [
      "The proof splits are generally good, but some of them could be combined to make the proof more concise. For example, steps 1 and 2 could be combined into a single step:\n",
      "```\n",
      "We multiply both the top and bottom by the conjugate of the denominator: $$\\frac{5}{2+\\sqrt{6}} \\cdot \\frac{2-\\sqrt{6}}{2-\\sqrt{6}}=\\frac{5(2-\\sqrt{6})}{(2+\\sqrt{6})(2-\\sqrt{6})}=\\frac{10-5\\sqrt{6}}{4-6}$$\n",
      "```\n",
      "Similarly, steps 4 and 5 could be combined into a single step:\n",
      "```\n",
      "And finally, we simplify the numerator by combining like terms and multiplying the fraction by $\\frac{-1}{-1}$ to get $$\\frac{10-5\\sqrt{6}}{-2} = \\frac{-5\\sqrt{6}+10}{2}$$\n",
      "```\n",
      "With these changes, the proof splits would be:\n",
      "```\n",
      "1. We multiply both the top and bottom by the conjugate of the denominator: $$\\frac{5}{2+\\sqrt{6}} \\cdot \\frac{2-\\sqrt{6}}{2-\\sqrt{6}}=\\frac{10-5\\sqrt{6}}{4-6}$$\n",
      "2. We simplify the denominator using the difference of squares formula: $$(2+\\sqrt{6})(2-\\sqrt{6})=2^2-(\\sqrt{6})^2=4-6=-2$$\n",
      "3. Which gives us $$\\frac{10-5\\sqrt{6}}{-2}$$\n",
      "4. And finally, we simplify the numerator by combining like terms and multiplying the fraction by $\\frac{-1}{-1}$ to get $$\\frac{10-5\\sqrt{6}}{-2} = \\frac{-5\\sqrt{6}+10}{2}$$\n",
      "5. Therefore, $A+B+C+D=5+6-10+2=\\boxed{3}$.\n",
      "```\n"
     ]
    },
    {
     "name": "stderr",
     "output_type": "stream",
     "text": [
      "\n",
      " 88%|██████████████████████████████████████████████████████▌       | 88/100 [05:46<00:45,  3.76s/it]\u001b[A"
     ]
    },
    {
     "name": "stdout",
     "output_type": "stream",
     "text": [
      "The proof splits are of good quality. Each step meaningfully contributes to the proof and there are no redundant steps. Every part of the proof is included in the steps. Here are some suggestions for improvement:\n",
      "\n",
      "* Step 1 could be improved by explaining why we multiply by the conjugate of the denominator. This would make the proof more accessible to readers who are not familiar with this technique.\n",
      "* Step 2 could be improved by explaining why we multiply the numerator and denominator by 2. This would help readers understand the purpose of this step.\n",
      "* Step 3 could be improved by explaining why we end up with $\\sqrt{3}-1$ after multiplying the numerator and denominator by $\\sqrt{3}-1$. This would help readers understand the final result.\n",
      "\n",
      "Overall, the proof splits are of good quality and provide a clear and concise explanation of the proof.\n"
     ]
    },
    {
     "name": "stderr",
     "output_type": "stream",
     "text": [
      "\n",
      " 89%|███████████████████████████████████████████████████████▏      | 89/100 [05:47<00:33,  3.02s/it]\u001b[A"
     ]
    },
    {
     "name": "stdout",
     "output_type": "stream",
     "text": [
      "The proof splits are good. Each step meaningfully contributes to the proof, and there are no redundant steps. Every part of the proof is included in the steps.\n"
     ]
    },
    {
     "name": "stderr",
     "output_type": "stream",
     "text": [
      "\n",
      " 90%|███████████████████████████████████████████████████████▊      | 90/100 [05:48<00:25,  2.51s/it]\u001b[A"
     ]
    },
    {
     "name": "stdout",
     "output_type": "stream",
     "text": [
      "The proof splits are good. They are concise and each step meaningfully contributes to the proof. There are no redundant steps and every part of the proof is included in the steps.\n"
     ]
    },
    {
     "name": "stderr",
     "output_type": "stream",
     "text": [
      "\n",
      " 91%|████████████████████████████████████████████████████████▍     | 91/100 [05:52<00:25,  2.82s/it]\u001b[A"
     ]
    },
    {
     "name": "stdout",
     "output_type": "stream",
     "text": [
      "The proof splits are generally of good quality. Each step meaningfully contributes to the proof and there are no redundant steps. All parts of the proof are included in the steps.\n",
      "\n",
      "Here is one possible improvement:\n",
      "\n",
      "* Step 1 could be split into two steps:\n",
      "    * Step 1: Turn the division sign into multiplication.\n",
      "    * Step 2: Simplify the expression.\n",
      "\n",
      "This would make the proof a bit more detailed and easier to follow.\n",
      "\n",
      "Overall, the proof splits are good and provide a clear and concise explanation of the proof.\n"
     ]
    },
    {
     "name": "stderr",
     "output_type": "stream",
     "text": [
      "\n",
      " 92%|█████████████████████████████████████████████████████████     | 92/100 [05:55<00:23,  2.88s/it]\u001b[A"
     ]
    },
    {
     "name": "stdout",
     "output_type": "stream",
     "text": [
      "The proof splits are good. Each step meaningfully contributes to the proof and there are no redundant steps. Every part of the proof is included in the steps.\n",
      "\n",
      "Here is a possible improvement:\n",
      "\n",
      "<step>First, evaluate $h(-1):$</step>\n",
      "<step>$h(-1) = 4(-1)^3 + 1 = -3$.</step>\n",
      "<step>Next, evaluate $g(-3):$</step>\n",
      "<step>$g(-3) = 2(-3)^2 - 3 = 15$.</step>\n",
      "<step>Therefore, $g(h(-1)) = g(-3) = \\boxed{15}$.</step>\n",
      "\n",
      "This improvement makes the split between evaluating $h(-1)$ and $g(-3)$ more explicit.\n"
     ]
    },
    {
     "name": "stderr",
     "output_type": "stream",
     "text": [
      "\n",
      " 93%|█████████████████████████████████████████████████████████▋    | 93/100 [06:01<00:26,  3.78s/it]\u001b[A"
     ]
    },
    {
     "name": "stdout",
     "output_type": "stream",
     "text": [
      "The proof splits can be improved by making each step more concise and focused on a specific part of the proof. Here is an improved version of the proof splits:\n",
      "\n",
      "<step>First, plug in the given values into the definition of the operation &: $6\\& 3 = (6 + 3)(6-3) = 9\\cdot 3$</step>\n",
      "<step>Next, simplify the expression by multiplying the terms: $6\\& 3 = 27$</step>\n",
      "<step>Therefore, we have $6\\& 3 = \\boxed{27}$</step>\n",
      "\n",
      "The first step focuses on plugging in the given values into the definition of the operation &. The second step focuses on simplifying the resulting expression. The third step states the final result. Each step is concise and contributes meaningfully to the overall proof.\n"
     ]
    },
    {
     "name": "stderr",
     "output_type": "stream",
     "text": [
      "\n",
      " 94%|██████████████████████████████████████████████████████████▎   | 94/100 [06:02<00:18,  3.08s/it]\u001b[A"
     ]
    },
    {
     "name": "stdout",
     "output_type": "stream",
     "text": [
      "The proof splits are of good quality. They are clear and concise, and they accurately reflect the steps of the proof. There is no redundancy, and each step meaningfully contributes to the overall proof.\n"
     ]
    },
    {
     "name": "stderr",
     "output_type": "stream",
     "text": [
      "\n",
      " 95%|██████████████████████████████████████████████████████████▉   | 95/100 [06:09<00:21,  4.23s/it]\u001b[A"
     ]
    },
    {
     "name": "stdout",
     "output_type": "stream",
     "text": [
      "The proof splits are good. Each step in the proof meaningfully contributes to the proof, and there are no redundant steps. All parts of the proof are included in the steps.\n",
      "\n",
      "Here are some suggestions for improving the proof splits:\n",
      "\n",
      "* Step 1 could be improved by noting that we are factoring out $(x+1)$ because it is a common factor of all three terms in the original expression.\n",
      "* Step 2 could be improved by grouping the like terms together before combining them.\n",
      "* Step 3 is unnecessary because it is already clear from Step 2 that the factored expression is $4x^3+4x^2$.\n",
      "\n",
      "Here is a revised version of the proof splits:\n",
      "\n",
      "<step>Factor out $(x+1)$:</step>\n",
      "<step>\n",
      "$$(x+1)((2x^2+3x+7)-(x^2+4x-63)+(3x-14)(x+5))$$\n",
      "$$\\newline$$\n",
      "$$=(x+1)(2x^2+3x+7-x^2-4x+63+3x^2+x-70)$$\n",
      "$$\\newline$$\n",
      "$$=\\text{ }(x+1)(2x^2-x^2+3x^2+3x-4x+x+7+63-70)$$\n",
      "$$\\newline$$\n",
      "$$=\\text{ }(x+1)(4x^2+0x+0)$$\n",
      "$$\\newline$$\n",
      "$$=\\text{ }4x^2(x+1)$$\n",
      "$$\\newline$$\n",
      "$$=\\text{ }\\boxed{4x^3+4x^2}$$\n",
      "$$\\newline$$\n",
      "</step>\n"
     ]
    },
    {
     "name": "stderr",
     "output_type": "stream",
     "text": [
      "\n",
      " 96%|███████████████████████████████████████████████████████████▌  | 96/100 [06:14<00:17,  4.44s/it]\u001b[A"
     ]
    },
    {
     "name": "stdout",
     "output_type": "stream",
     "text": [
      "The proof splits are of good quality. Each step meaningfully contributes to the proof and there are no redundant steps. Every part of the proof is included in the steps.\n",
      "\n",
      "Here is a suggestion on how to slightly improve the proof splits:\n",
      "\n",
      "<step>Factor out $-6$ from the quadratic and linear terms: $-6x^2 + 36x = -6(x^2-6x)$.</step>\n",
      "<step>Use the identity $(x-3)^2 = x^2 - 6x + 9$ to rewrite $-6(x-3)^2 = -6x^2 + 36x - 54$.</step>\n",
      "<step>Note that this quadratic agrees with the given $-6x^2 + 36x + 216$ in all but the constant term.</step>\n",
      "<step>Add 270 to both sides to get $-6x^2 + 36x + 216 = -6(x-3)^2 + 270$.</step>\n",
      "<step>Therefore, $a=-6$, $b=-3$, $c=270$, and $a+b+c = -6-3+270 = \\boxed{261}$.</step>\n"
     ]
    },
    {
     "name": "stderr",
     "output_type": "stream",
     "text": [
      "\n",
      " 97%|████████████████████████████████████████████████████████████▏ | 97/100 [06:17<00:12,  4.13s/it]\u001b[A"
     ]
    },
    {
     "name": "stdout",
     "output_type": "stream",
     "text": [
      "The proof splits are of good quality. They are clear and concise, and they accurately reflect the steps of the proof. Each step meaningfully contributes to the overall proof, and there are no redundant steps. The final step also includes an important note about the importance of the parentheses around $2x+5$.\n",
      "\n",
      "Here are some suggestions for improvement:\n",
      "\n",
      "* Step 1 could be rephrased to be more precise: \"We start with the expression $16(2x+5)$, where $2x+5$ is the quantity inside the parentheses.\"\n",
      "* Step 5 could be rephrased to be more concise: \"Therefore, $16(2x+5) = 32x+80$.\"\n",
      "\n",
      "Overall, the proof splits are well-written and communicate the proof effectively.\n"
     ]
    },
    {
     "name": "stderr",
     "output_type": "stream",
     "text": [
      "\n",
      " 98%|████████████████████████████████████████████████████████████▊ | 98/100 [06:19<00:07,  3.56s/it]\u001b[A"
     ]
    },
    {
     "name": "stdout",
     "output_type": "stream",
     "text": [
      "The proof splits are of good quality.\n",
      "\n",
      "However, a minor improvement could be made: In step 2, it is mentioned that \"$h(2a)=2j(a)= b$.\" This needs a bit more explanation. It should be mentioned that $h(2a)$ is the y-coordinate and $2j(a)$ is also the y-coordinate of the point of intersection. So, $h(2a)=2j(a)= b.$\n"
     ]
    },
    {
     "name": "stderr",
     "output_type": "stream",
     "text": [
      "\n",
      " 99%|█████████████████████████████████████████████████████████████▍| 99/100 [06:21<00:02,  2.91s/it]\u001b[A"
     ]
    },
    {
     "name": "stdout",
     "output_type": "stream",
     "text": [
      "The proof splits are good. They are clear and concise, and each step meaningfully contributes to the proof. There are no redundant steps, and every part of the proof is included in the steps.\n"
     ]
    },
    {
     "name": "stderr",
     "output_type": "stream",
     "text": [
      "\n",
      "100%|█████████████████████████████████████████████████████████████| 100/100 [06:24<00:00,  2.88s/it]\u001b[A"
     ]
    },
    {
     "name": "stdout",
     "output_type": "stream",
     "text": [
      "The proof splits are of good quality. Each step meaningfully contributes to the proof, and there are no redundant steps. Every part of the proof is included in the steps. However, one minor improvement could be to combine the first two steps into one step, as follows:\n",
      "\n",
      "<step>Since the perpendicular bisector of $AB$ must meet $AB$ at its midpoint, we can use the midpoint formula to find that $C = \\left(\\frac{24 + 3}{2}, \\frac{7 + 4}{2} \\right) = \\left(\\frac{27}{2}, \\frac{11}{2} \\right).$</step>\n"
     ]
    }
   ],
   "source": [
    "# check the splits for quality\n",
    "\n",
    "quality_check_message_header = \"Below is a question, and proof, and the proof splits into a series of steps. Each step should meaningfully contribute to the proof. There should not be redundant steps. Every part of the proof should be included in the steps.\"\n",
    "\n",
    "quality_check_message_footer = \"Please check the proof splits for quality. If the proof splits are not good, please provide feedback on how to improve them.\"\n",
    "\n",
    "responses = []\n",
    "i = 0\n",
    "progress_bar = tqdm(total=len(datasets_subset['Algebra']))\n",
    "while i < len(datasets_subset['Algebra']):\n",
    "    try:\n",
    "        data = datasets_subset['Algebra'][i]\n",
    "        question = data['question']\n",
    "        proof = data['answer']\n",
    "        steps = splits['Algebra'][i]\n",
    "        chat = openai_to_google([\n",
    "            {\n",
    "                \"role\": \"user\",\n",
    "                \"content\": quality_check_message + \"\\n\\nQuestion: \" + question + \"\\n\\nProof: \" + proof + \"\\n\\nProof Splits: \" + \"\\n\".join(\n",
    "                    [f\"<step>{step}</step>\" for step in steps]) + \"\\n\\n\" + quality_check_message_footer\n",
    "            }\n",
    "        ])\n",
    "        response = model.generate_content(chat)\n",
    "        responses.append(response.text)\n",
    "        print(response.text)\n",
    "        i += 1\n",
    "        progress_bar.update(1)\n",
    "    except Exception as e:\n",
    "        print(e)"
   ]
  },
  {
   "cell_type": "code",
   "execution_count": 135,
   "id": "6b28f0edb0bbd7d4",
   "metadata": {
    "ExecuteTime": {
     "end_time": "2024-03-21T19:23:01.362659Z",
     "start_time": "2024-03-21T19:23:01.357473Z"
    },
    "collapsed": false
   },
   "outputs": [
    {
     "name": "stdout",
     "output_type": "stream",
     "text": [
      "Evaluate $\\log_5625$.\n",
      "==================================================\n",
      "We have $5^4=625$, so $\\log_5 625 = \\boxed{4}$.\n",
      "==================================================\n",
      "We are given that $5^4=625$, which is true.\n",
      "--------------------------------------------------\n",
      "Taking the log base 5 of both sides, we get $\\log_5 625 = \\log_5 5^4$.\n",
      "--------------------------------------------------\n",
      "Using the property that $\\log_a a^b = b$, we have $\\log_5 625 = 4$.\n",
      "--------------------------------------------------\n",
      "Therefore, $\\log_5 625 = \\boxed{4}$.\n",
      "--------------------------------------------------\n",
      "==================================================\n",
      "The proof splits are not good because they are not meaningful and they do not contribute to the proof. \n",
      "\n",
      "The first proof splits are:\n",
      "<step>We have $5^4=625$ and $\\log_5 625 = x$, we solve for $x$</step>\n",
      "\n",
      "This step is not meaningful because it does not explain why we are solving for $x$. It also does not contribute to the proof because it does not provide any information that is used in the subsequent steps.\n",
      "\n",
      "The second proof splits are:\n",
      "<step>The definition of logarithm says that $5^x = 625$</step>\n",
      "\n",
      "This step is also not meaningful because it does not explain why we are using the definition of logarithm. It also does not contribute to the proof because it does not provide any information that is used in the subsequent steps.\n",
      "\n",
      "The third proof splits are:\n",
      "<step>Since $5^4 = 625$, we have $5^x = 5^4$</step>\n",
      "\n",
      "This step is meaningful because it explains why we can conclude that $5^x = 5^4$. It also contributes to the proof because it provides information that is used in the subsequent steps.\n",
      "\n",
      "The fourth proof splits are:\n",
      "<step>This means that $x=4</step>\n",
      "\n",
      "This step is also meaningful because it explains why we can conclude that $x=4$. It also contributes to the proof because it provides information that is used in the subsequent steps.\n",
      "\n",
      "The fifth proof splits are:\n",
      "<step>Therefore, $\\log_5 625 = \\boxed{4}$</step>\n",
      "\n",
      "This step is also meaningful because it explains why we can conclude that $\\log_5 625 = 4$. It also contributes to the proof because it provides the final answer to the question.\n",
      "\n",
      "Here are some suggestions on how to improve the proof splits:\n",
      "\n",
      "* Make the proof splits more meaningful by explaining why each step is necessary and how it contributes to the proof.\n",
      "* Avoid using unnecessary steps that do not contribute to the proof.\n",
      "* Ensure that each step provides information that is used in the subsequent steps.\n"
     ]
    }
   ],
   "source": [
    "i = 34\n",
    "print(datasets_subset['Algebra'][i]['question'])\n",
    "print('=' * 50)\n",
    "print(datasets_subset['Algebra'][i]['answer'])\n",
    "print('=' * 50)\n",
    "for step in splits2['Algebra'][i]:\n",
    "    print(step)\n",
    "    print('-' * 50)\n",
    "print('=' * 50)\n",
    "print(responses[i])"
   ]
  },
  {
   "cell_type": "markdown",
   "id": "fbf963249172dd81",
   "metadata": {
    "collapsed": false
   },
   "source": [
    "# issue indexs\n",
    "7: contains steps that don't meaningfully split the proof\n",
    "14: missing a lot of important steps\n",
    "17: effectively repeats a lot of steps/lots of redundancy\n",
    "28: each step is bulky\n",
    "31: overfit to nshot\n",
    "34: actual solution is too short"
   ]
  },
  {
   "cell_type": "code",
   "execution_count": 129,
   "id": "5fd4162a74de7ac6",
   "metadata": {
    "ExecuteTime": {
     "end_time": "2024-03-21T19:21:58.452032Z",
     "start_time": "2024-03-21T19:21:58.439838Z"
    },
    "collapsed": false
   },
   "outputs": [],
   "source": [
    "import pickle\n",
    "\n",
    "with open('splits2.pkl', 'wb') as f:\n",
    "    pickle.dump(splits2, f)"
   ]
  },
  {
   "cell_type": "code",
   "execution_count": 188,
   "id": "11b3bd66783e7d94",
   "metadata": {
    "ExecuteTime": {
     "end_time": "2024-03-22T00:02:08.218210Z",
     "start_time": "2024-03-22T00:02:08.201501Z"
    },
    "collapsed": false
   },
   "outputs": [],
   "source": [
    "with open('mc_questions.pkl', 'wb') as f:\n",
    "    pickle.dump(mc_questions, f)"
   ]
  },
  {
   "cell_type": "code",
   "execution_count": null,
   "id": "cceeb31055a3d75c",
   "metadata": {
    "collapsed": false
   },
   "outputs": [],
   "source": [
    "generate_multiple_choice_messages = [\n",
    "    # {\n",
    "    #     \"role\": \"system\",\n",
    "    #     \"content\": \"You are a helpful assistant. You are a pedagogical expert who is very good at writing challenging and meaningful tests.\"\n",
    "    # },\n",
    "    {\n",
    "        \"role\": \"user\",\n",
    "        \"content\": \"Below is a question and partial solution, split into steps.\\n\\nQuestion: Suppose $f(x)$ is a function defined for all real $x$, and suppose $f$ is invertible (that is, $f^{-1}(x)$ exists for all $x$ in the range of $f$). If the graphs of $y=f(x^2)$ and $y=f(x^4)$ are drawn, at how many points do they intersect?\\n\\nProof: <step>There is a point of intersection for each $x$ such that $f(x^2)=f(x^4)$.</step>\\n<step>Since $f$ is invertible, this equation is satisfied only if $x^2=x^4$, so we simply count solutions to that equation.</step>\\n<step>We can rearrange the equation $x^2=x^4$ as follows: $0 = x^4-x^2$.</step>\\n\\nCreate a multiple-choice question for the next step. The wrong answers should make subtle, but reasonable mistakes. Brainstorm a few plausible mistakes someone might make first. Then give the multiple-choice responses. The correct next step is\\n<step>Factoring out $x^2$, we get $0 = x^2(x^2-1)$.</step>\"\n",
    "    },\n",
    "    {\n",
    "        \"role\": \"system\",\n",
    "        \"content\": \"Plausible mistakes someone might make:\\n\\n1. Mistake: Factoring out $x^2$ incorrectly.\\n2. Mistake: Ignoring the possibility of $x=0$ as a solution.\\n3. Mistake: Rearranging the solution incorrectly.\\n\\nMultiple-choice responses:\\n\\nA. <step>Factoring out $x^2$, we get $0 = x^2(x^2-1)$.</step>\\nB <step>Factoring out $x$, we get $0 = x(x^3-x)$</step>\\nC. <step>Factoring out $x^2$, we get $0 = x^2-1$.</step>\\nD. <step>Rearranging, we get $|x| = x^2$ </step>\\n\\nCorrect Answer: A\"\n",
    "    },\n",
    "    {\n",
    "        \"role\": \"user\",\n",
    "        \"content\": \"Question: How many integers $n$ satisfy the inequality $-8\\pi\\le n\\le10\\pi$?\\n\\nProof:\\n\\nCreate a multiple-choice question for the next step. The wrong answers should make subtle, but reasonable mistakes. Brainstorm a few plausible mistakes someone might make first. Then give the multiple-choice responses. The correct next step is\\n<step>The number $\\pi$ is between $3.14$ and $3.15$, so $-8\\pi$ is between $-8(3.15) = -25.2$ and $-8(3.14) = -25.12$.</step>\"\n",
    "    },\n",
    "    {\n",
    "        \"role\": \"system\",\n",
    "        \"content\": \"Plausible mistakes someone might make:\\n\\n1. Using an incorrect approximation of $\\pi$.\\n2. Incorrectly multiplying $-8$ by $\\pi$.\\n3. Forgetting to consider the endpoints of the inequality.\\n\\nMultiple-choice responses:\\n\\nA. <step>The number $\\pi$ is between $3.14$ and $3.15$, so $-8\\pi$ is between $-8(3.15) = -25.2$ and $-8(3.14) = -25.12$.</step>\\n\\nB. <step>The number $\\pi$ is between $3$ and $4$, so $-8\\pi$ is between $-8(4) = -32$ and $-8(3) = -24$.</step>\\n\\nC. <step>The number $\\pi$ is approximately $3$, so $-8\\pi$ is approximately $-8(3) = 24$.</step>\\n\\nD. <step>Since $-8\\pi$ is negative, it is less than $10\\pi$. Therefore, there are no integers $n$ that satisfy the inequality.</step>\\n\\nCorrect Answer: A\"\n",
    "    }\n",
    "]\n",
    "\n",
    "\n",
    "# response = model.generate_content(openai_to_google(generate_multiple_choice_messages))\n",
    "# print(response.text)\n",
    "\n",
    "\n",
    "def format_splits(splits: list[str]) -> str:\n",
    "    return \"\\n\".join([f\"<step>{step}</step>\" for step in splits])\n",
    "\n",
    "\n",
    "def split_multiple_choice(mc):\n",
    "    choices = re.findall(r'([A-Z])\\. <step>(.*?)</step>', mc, re.DOTALL | re.IGNORECASE)\n",
    "    assert len(choices) >= 3, \"Not enough choices.\"\n",
    "    choice_letters = [c[0] for c in choices]\n",
    "    assert sorted(choice_letters) == choice_letters, \"Choices are not in alphabetical order.\"\n",
    "    assert choice_letters[0] == \"A\", \"First choice is not A.\"\n",
    "    assert ord(choice_letters[-1]) - ord(choice_letters[0]) == len(choices) - 1, \"Choices are not consecutive.\"\n",
    "    correct_answer = re.search(r'Correct Answer: ([A-Z])', mc, re.IGNORECASE)\n",
    "    assert correct_answer is not None, \"Correct answer not found.\"\n",
    "    correct_answer = correct_answer.group(1)\n",
    "    assert correct_answer in choice_letters, \"Correct answer not in choices.\"\n",
    "    return choices, correct_answer\n",
    "\n",
    "\n",
    "def parse_multiple_choice_response(response: str) -> dict:\n",
    "    # the format is:\n",
    "    # Plausible mistakes someone might make:\n",
    "    # ...\n",
    "    # Multiple-choice responses:\n",
    "    # A.\n",
    "    # B.\n",
    "    # C.\n",
    "    # D.\n",
    "    # ...\n",
    "    # Correct Answer: ...\n",
    "    response = response.replace(\"**\", \"\")\n",
    "    mistakes_start = response.find(\"Plausible mistakes someone might make:\")\n",
    "    if mistakes_start == -1:\n",
    "        raise ValueError(\"Mistakes not found in response.\")\n",
    "    mistakes_end = response.find(\"Multiple-choice responses:\")\n",
    "    if mistakes_end == -1:\n",
    "        raise ValueError(\"Multiple-choice responses not found in response.\")\n",
    "\n",
    "    choices_start = mistakes_end\n",
    "    choices, correct_answer = split_multiple_choice(response[choices_start:])\n",
    "    return {\n",
    "        \"mistakes\": response[mistakes_start:mistakes_end],\n",
    "        \"choices\": choices,\n",
    "        \"correct_answer\": correct_answer\n",
    "    }\n",
    "\n",
    "\n",
    "# for each set of splits, generate a multiple choice question\n",
    "mc_questions = {k: None for k in datasets_subset.keys()}\n",
    "for dataset, splits in splits2.items():\n",
    "    mc_questions[dataset] = []\n",
    "    if splits[0] is None:\n",
    "        continue\n",
    "    progress_bar = tqdm(total=sum([len(s) for s in splits]))\n",
    "    for j in range(len(splits)):\n",
    "        question = datasets_subset[dataset][j]['question']\n",
    "        steps = splits[j]\n",
    "        i = 0\n",
    "        mc_questions_steps = []\n",
    "        while i < len(steps):\n",
    "            partial_split = steps[:i]\n",
    "            if i == 0:\n",
    "                chat = openai_to_google(generate_multiple_choice_messages + [\n",
    "                    {\n",
    "                        \"role\": \"user\",\n",
    "                        \"content\": f\"Below is a question.\\n\\nQuestion: {question}\\n\\nCreate a multiple-choice question for the first step to take when answering the question. The wrong answers should make subtle, but reasonable mistakes. Brainstorm a few plausible mistakes someone might make first. Then give the multiple-choice responses. The correct first step is\\n<step>{steps[0]}</step>\"\n",
    "                    }\n",
    "                ])\n",
    "            else:\n",
    "                chat = openai_to_google(generate_multiple_choice_messages + [\n",
    "                    {\n",
    "                        \"role\": \"user\",\n",
    "                        \"content\": f\"Below is a question and partial solution, split into steps.\\n\\nQuestion: {question}\\n\\nProof: {format_splits(partial_split)}\\n\\nCreate a multiple-choice question for the next step. The wrong answers should make subtle, but reasonable mistakes. Brainstorm a few plausible mistakes someone might make first. Then give the multiple-choice responses. The correct next step is\\n<step>{steps[i]}</step>\"\n",
    "                    }\n",
    "                ])\n",
    "\n",
    "            try:\n",
    "                response = model.generate_content(chat)\n",
    "                choices = parse_multiple_choice_response(response.text)\n",
    "                mc_questions_steps.append({\n",
    "                    \"question\": question,\n",
    "                    \"partial_split\": partial_split,\n",
    "                    \"choices\": choices\n",
    "                })\n",
    "                i += 1\n",
    "                progress_bar.update(1)\n",
    "            except Exception as e:\n",
    "                print(e.__repr__())\n",
    "                print(response.text)\n",
    "                break\n",
    "        mc_questions[dataset].append(mc_questions_steps)\n"
   ]
  },
  {
   "cell_type": "code",
   "execution_count": 142,
   "id": "dc269b9bb414d7cc",
   "metadata": {
    "ExecuteTime": {
     "end_time": "2024-03-21T20:22:27.477574Z",
     "start_time": "2024-03-21T20:22:27.468760Z"
    },
    "collapsed": false
   },
   "outputs": [
    {
     "data": {
      "text/plain": [
       "[('A',\n",
       "  'The number $\\\\pi$ is between $3.14$ and $3.15$, so $-8\\\\pi$ is between $-8(3.15) = 25.2$ and $-8(3.14) = 25.12$.'),\n",
       " ('B',\n",
       "  'The number $\\\\pi$ is between $3$ and $4$, so $-8\\\\pi$ is between $-8(4) = 32$ and $-8(3) = 24$.'),\n",
       " ('C',\n",
       "  'The number $\\\\pi$ is approximately $3$, so $-8\\\\pi$ is approximately $-8(3) = 24$.'),\n",
       " ('D',\n",
       "  'Since $-8\\\\pi$ is negative, it is less than $10\\\\pi$. Therefore, there are no integers $n$ that satisfy the inequality.')]"
      ]
     },
     "execution_count": 142,
     "metadata": {},
     "output_type": "execute_result"
    }
   ],
   "source": [
    "re.findall(r'([A-Z])\\. <step>(.*?)</step>', \"\"\"\n",
    "A. <step>The number $\\pi$ is between $3.14$ and $3.15$, so $-8\\pi$ is between $-8(3.15) = 25.2$ and $-8(3.14) = 25.12$.</step>\n",
    "B. <step>The number $\\pi$ is between $3$ and $4$, so $-8\\pi$ is between $-8(4) = 32$ and $-8(3) = 24$.</step>\n",
    "C. <step>The number $\\pi$ is approximately $3$, so $-8\\pi$ is approximately $-8(3) = 24$.</step>\n",
    "D. <step>Since $-8\\pi$ is negative, it is less than $10\\pi$. Therefore, there are no integers $n$ that satisfy the inequality.</step>\n",
    "\"\"\", re.DOTALL)"
   ]
  },
  {
   "cell_type": "code",
   "execution_count": 99,
   "id": "a79274cee89cdadf",
   "metadata": {
    "ExecuteTime": {
     "end_time": "2024-03-21T07:22:23.448829Z",
     "start_time": "2024-03-21T07:22:23.368951Z"
    },
    "collapsed": false
   },
   "outputs": [
    {
     "name": "stdout",
     "output_type": "stream",
     "text": [
      "What is the minimum value of $z$ if $z=x^2+2y^2+6x-4y+22?$\n",
      "==================================================\n",
      "First, complete the square as follows: $$z=x^2+2y^2+6x-4y+22=\\left(x^2+6x\\right)+2\\left(y^2-2y\\right)+22.$$To complete the square, we need to add $\\left(\\dfrac{6}{2}\\right)^2=9$ after the $6x$ and $\\left(\\dfrac{2}{2}\\right)^2=1$ after the $-2y.$ So we have $$z+9+2(1)=\\left(x^2+6x+9\\right)+2\\left(y^2-2y+1\\right)+22.$$This gives $$z=\\left(x+3\\right)^2+2\\left(y-1\\right)^2+11.$$Now, since $\\left(x+3\\right)^2\\ge0$ and $\\left(y-1\\right)^2\\ge0,$ the minimum value is when both squared terms are equal to $0.$ So the minimum value is $$z=\\left(x+3\\right)^2+2\\left(y-1\\right)^2+11=0+2\\cdot0+11=\\boxed{11}.$$\n",
      "==================================================\n",
      "First, complete the square as follows: $$z=x^2+2y^2+6x-4y+22=\\left(x^2+6x\\right)+2\\left(y^2-2y\\right)+22.$$\n",
      "--------------------------------------------------\n",
      "To complete the square, we need to add $\\left(\\dfrac{6}{2}\\right)^2=9$ after the $6x$ and $\\left(\\dfrac{2}{2}\\right)^2=1$ after the $-2y.$ So we have $$z+9+2(1)=\\left(x^2+6x+9\\right)+2\\left(y^2-2y+1\\right)+22.$$\n",
      "--------------------------------------------------\n",
      "This gives $$z=\\left(x+3\\right)^2+2\\left(y-1\\right)^2+11.$$\n",
      "--------------------------------------------------\n",
      "Now, since $\\left(x+3\\right)^2\\ge0$ and $\\left(y-1\\right)^2\\ge0,$ the minimum value is when both squared terms are equal to $0.$\n",
      "--------------------------------------------------\n",
      "So the minimum value is $$z=\\left(x+3\\right)^2+2\\left(y-1\\right)^2+11=0+2\\cdot0+11=\\boxed{11}.$$\n",
      "--------------------------------------------------\n"
     ]
    }
   ],
   "source": [
    "i = 36\n",
    "print(datasets_subset['Algebra'][i]['question'])\n",
    "print('=' * 50)\n",
    "print(datasets_subset['Algebra'][i]['answer'])\n",
    "print('=' * 50)\n",
    "for step in splits['Algebra'][i]:\n",
    "    print(step)\n",
    "    print('-' * 50)"
   ]
  },
  {
   "cell_type": "code",
   "execution_count": null,
   "id": "f84a7327f44669b3",
   "metadata": {
    "collapsed": false
   },
   "outputs": [],
   "source": [
    "i = 1\n",
    "print(datasets_subset['Algebra'][i]['question'])\n",
    "print('=' * 50)\n",
    "print(datasets_subset['Algebra'][i]['answer'])"
   ]
  },
  {
   "cell_type": "code",
   "execution_count": 191,
   "id": "8649ab80bda21de8",
   "metadata": {
    "ExecuteTime": {
     "end_time": "2024-03-22T01:11:07.689451Z",
     "start_time": "2024-03-22T01:08:28.494520Z"
    },
    "collapsed": false
   },
   "outputs": [
    {
     "name": "stdout",
     "output_type": "stream",
     "text": [
      "INFO 03-21 18:08:30 llm_engine.py:79] Initializing an LLM engine with config: model='deepseek-ai/deepseek-math-7b-rl', tokenizer='deepseek-ai/deepseek-math-7b-rl', tokenizer_mode=auto, revision=None, tokenizer_revision=None, trust_remote_code=True, dtype=torch.bfloat16, max_seq_len=4096, download_dir=None, load_format=auto, tensor_parallel_size=1, disable_custom_all_reduce=False, quantization=None, enforce_eager=False, kv_cache_dtype=auto, device_config=cuda, seed=0)\n"
     ]
    },
    {
     "name": "stderr",
     "output_type": "stream",
     "text": [
      "Special tokens have been added in the vocabulary, make sure the associated word embeddings are fine-tuned or trained.\n"
     ]
    },
    {
     "name": "stdout",
     "output_type": "stream",
     "text": [
      "INFO 03-21 18:08:34 weight_utils.py:163] Using model weights format ['*.safetensors']\n"
     ]
    },
    {
     "data": {
      "application/vnd.jupyter.widget-view+json": {
       "model_id": "8e36d500fbd54e9d8bd1ead1c83da6de",
       "version_major": 2,
       "version_minor": 0
      },
      "text/plain": [
       "model-00002-of-000002.safetensors:   0%|          | 0.00/5.23G [00:00<?, ?B/s]"
      ]
     },
     "metadata": {},
     "output_type": "display_data"
    },
    {
     "data": {
      "application/vnd.jupyter.widget-view+json": {
       "model_id": "4957836ed7b641be93daf4788b81dd58",
       "version_major": 2,
       "version_minor": 0
      },
      "text/plain": [
       "model-00001-of-000002.safetensors:   0%|          | 0.00/8.59G [00:00<?, ?B/s]"
      ]
     },
     "metadata": {},
     "output_type": "display_data"
    },
    {
     "name": "stdout",
     "output_type": "stream",
     "text": [
      "INFO 03-21 18:10:58 llm_engine.py:337] # GPU blocks: 7793, # CPU blocks: 546\n",
      "INFO 03-21 18:11:00 model_runner.py:676] Capturing the model for CUDA graphs. This may lead to unexpected consequences if the model is not static. To run the model in eager mode, set 'enforce_eager=True' or use '--enforce-eager' in the CLI.\n",
      "INFO 03-21 18:11:00 model_runner.py:680] CUDA graphs can take additional 1~3 GiB memory per GPU. If you are running out of memory, consider decreasing `gpu_memory_utilization` or enforcing eager mode. You can also reduce the `max_num_seqs` as needed to decrease memory usage.\n",
      "INFO 03-21 18:11:07 model_runner.py:748] Graph capturing finished in 7 secs.\n"
     ]
    }
   ],
   "source": [
    "import os\n",
    "\n",
    "os.environ[\"CUDA_DEVICE_ORDER\"] = \"PCI_BUS_ID\"\n",
    "os.environ[\"CUDA_VISIBLE_DEVICES\"] = \"7\"\n",
    "\n",
    "from vllm import LLM, SamplingParams\n",
    "\n",
    "sampling_params = SamplingParams(temperature=0.8, top_p=0.95, max_tokens=512, logprobs=100)\n",
    "\n",
    "# model_name = \"EleutherAI/llemma_7b\"\n",
    "# model_name = \"llm-agents/tora-13b-v1.0\"\n",
    "model_name = \"deepseek-ai/deepseek-math-7b-instruct\"\n",
    "# pipeline = pipeline('text-generation', model=model_name, device=0, max_length=2048)\n",
    "llm = LLM(model=model_name, trust_remote_code=True)"
   ]
  },
  {
   "cell_type": "code",
   "execution_count": 192,
   "id": "54f09634e2809bbf",
   "metadata": {
    "ExecuteTime": {
     "end_time": "2024-03-22T01:11:07.713003Z",
     "start_time": "2024-03-22T01:11:07.706720Z"
    },
    "collapsed": false
   },
   "outputs": [
    {
     "data": {
      "text/plain": [
       "{'question': 'Find the largest value of $x$ that satisfies the equation $|x-5|=12$.',\n",
       " 'partial_split': [],\n",
       " 'choices': {'mistakes': 'Plausible mistakes someone might make:\\n\\n1. Forgetting to consider the absolute value and only solving for $x-5=12$.\\n2. Incorrectly splitting the absolute value into cases: $x-5=12$ and $x+5=-12$.\\n3. Solving for $x$ in the wrong order.\\n\\n',\n",
       "  'choices': [('A',\n",
       "    'We can split the expression $|x-5|=12$ into two separate cases: $x-5=12$ and $x-5=-12$'),\n",
       "   ('B',\n",
       "    'We can solve for $x$ directly by setting $|x-5|=12$ and solving for $x$.'),\n",
       "   ('C', 'We can rewrite the equation as $x-5=\\\\pm12$ and solve for $x$.'),\n",
       "   ('D',\n",
       "    'We can square both sides of the equation to get $x-5=144$ and solve for $x$.')],\n",
       "  'correct_answer': 'A'}}"
      ]
     },
     "execution_count": 192,
     "metadata": {},
     "output_type": "execute_result"
    }
   ],
   "source": [
    "mc_questions['Algebra'][0]"
   ]
  },
  {
   "cell_type": "code",
   "execution_count": 308,
   "id": "40dce6389fa1b09b",
   "metadata": {
    "ExecuteTime": {
     "end_time": "2024-03-22T02:10:45.218019Z",
     "start_time": "2024-03-22T02:10:45.178103Z"
    },
    "collapsed": false
   },
   "outputs": [
    {
     "name": "stdout",
     "output_type": "stream",
     "text": [
      "A. In the first case, solving for $x$ gives $x=12+5=17$\n",
      "B. In the first case, solving for $x$ gives $x=12-5=7$\n",
      "C. In the second case, solving for $x$ gives $x=-12+5=-7$\n",
      "D. In the second case, solving for $x$ gives $x=-12-5=-17$\n",
      "A\n",
      "==================================================\n",
      "Below is a question and a partial response. Pick the best continuation of the response.\n",
      "\n",
      "Find the largest value of $x$ that satisfies the equation $|x-5|=12$.\n",
      "\n",
      "<step>We can split the expression $|x-5|=12$ into two separate cases: $x-5=12$ and $x-5=-12$</step>\n",
      "\n",
      "What step best continues the proof?\n",
      "\n",
      "A. <step>In the first case, solving for $x$ gives $x=12+5=17$</step>\n",
      "B. <step>In the first case, solving for $x$ gives $x=12-5=7$</step>\n",
      "C. <step>In the second case, solving for $x$ gives $x=-12+5=-7$</step>\n",
      "D. <step>In the second case, solving for $x$ gives $x=-12-5=-17$</step>\n",
      "\n",
      "Reason about the next step and precede your final answer with 'The answer is: '\n",
      "A\n"
     ]
    }
   ],
   "source": [
    "def create_multiple_choice_question(question_data) -> tuple[str, str]:\n",
    "    question = question_data['question']\n",
    "    partial_proof = format_splits(question_data['partial_split'])\n",
    "    choices = question_data['choices']['choices']\n",
    "    letters = [c[0] for c in choices]\n",
    "    choices = [c[1] for c in choices]\n",
    "    correct_answer = question_data['choices']['correct_answer']\n",
    "\n",
    "    # shuffle choices\n",
    "    perm = np.random.permutation(len(choices))\n",
    "    shuffled_choices = [choices[i] for i in perm]\n",
    "    correct_answer_idx = [letters[i] for i in perm].index(correct_answer)\n",
    "    shuffled_correct_answer = letters[correct_answer_idx]\n",
    "\n",
    "    shuffled_choices = '\\n'.join(\n",
    "        [f\"{letters[i]}. <step>{shuffled_choices[i]}</step>\" for i in range(len(shuffled_choices))])\n",
    "\n",
    "    return f\"Below is a question and a partial response. Pick the best continuation of the response.\\n\\n{question}\\n\\n{partial_proof}\\n\\nWhat step best continues the proof?\\n\\n{shuffled_choices}\\n\\nReason about the next step and precede your final answer with 'The answer is: '\", shuffled_correct_answer\n",
    "\n",
    "\n",
    "i = 1\n",
    "# print(mc_questions['Algebra'][i]['question'])\n",
    "# print('=' * 50)\n",
    "print('\\n'.join([f\"{k}. {v}\" for k, v in mc_questions['Algebra'][i]['choices']['choices']]))\n",
    "print(mc_questions['Algebra'][i]['choices']['correct_answer'])\n",
    "print('=' * 50)\n",
    "gen_question = create_multiple_choice_question(mc_questions['Algebra'][i])\n",
    "print(gen_question[0])\n",
    "print(gen_question[1])"
   ]
  },
  {
   "cell_type": "code",
   "execution_count": 311,
   "id": "23777e17de14c219",
   "metadata": {
    "ExecuteTime": {
     "end_time": "2024-03-22T02:11:15.167567Z",
     "start_time": "2024-03-22T02:11:15.114105Z"
    },
    "collapsed": false
   },
   "outputs": [
    {
     "data": {
      "text/plain": [
       "0.5580736543909348"
      ]
     },
     "execution_count": 311,
     "metadata": {},
     "output_type": "execute_result"
    }
   ],
   "source": [
    "np.mean([p[0] == p[1] for p in predictions])"
   ]
  },
  {
   "cell_type": "code",
   "execution_count": 426,
   "id": "bb099320a17a6564",
   "metadata": {
    "ExecuteTime": {
     "end_time": "2024-03-23T03:40:50.889767Z",
     "start_time": "2024-03-23T03:40:50.866816Z"
    },
    "collapsed": false
   },
   "outputs": [],
   "source": [
    "def flatten_array(nested_array):\n",
    "    flatten = []\n",
    "\n",
    "    if isinstance(nested_array, list):\n",
    "        for sub in nested_array:\n",
    "            flatten.extend(flatten_array(sub))\n",
    "    else:\n",
    "        flatten.append(nested_array)\n",
    "\n",
    "    return flatten\n",
    "\n",
    "\n",
    "def _unflatten_array(flat_array, prototype):\n",
    "    unflatten = []\n",
    "    i = 0\n",
    "\n",
    "    if isinstance(prototype, list):\n",
    "        for sub in prototype:\n",
    "            sub_unflatten, j = _unflatten_array(flat_array[i:], sub)\n",
    "            i += j\n",
    "            unflatten.append(sub_unflatten)\n",
    "    else:\n",
    "        unflatten = flat_array[i]\n",
    "        i += 1\n",
    "\n",
    "    return unflatten, i\n",
    "\n",
    "\n",
    "def unflatten_array(flat_array, prototype):\n",
    "    unflatten, _ = _unflatten_array(flat_array, prototype)\n",
    "    return unflatten\n",
    "\n",
    "\n",
    "nested_array = [[1, 2, 3, [4, 5, 6]], [7, 8, 9], [[10, 11], 12, 13]]\n",
    "assert unflatten_array(flatten_array(nested_array), nested_array) == nested_array\n",
    "\n",
    "nested_array = []\n",
    "assert unflatten_array(flatten_array(nested_array), nested_array) == nested_array\n",
    "\n",
    "nested_array = [1, 2, 3]\n",
    "assert unflatten_array(flatten_array(nested_array), nested_array) == nested_array\n",
    "\n",
    "nested_array = [[1, 2, 3], [4, 5, 6], [7, [8, 9]]]\n",
    "assert unflatten_array(flatten_array(nested_array), nested_array) == nested_array\n",
    "\n",
    "nested_array = [1, [2, [3, 4], 5], 6]\n",
    "assert unflatten_array(flatten_array(nested_array), nested_array) == nested_array"
   ]
  },
  {
   "cell_type": "code",
   "execution_count": 431,
   "id": "90eaa76752eea6d7",
   "metadata": {
    "ExecuteTime": {
     "end_time": "2024-03-23T03:50:05.402270Z",
     "start_time": "2024-03-23T03:50:05.360422Z"
    },
    "collapsed": false
   },
   "outputs": [],
   "source": [
    "from typing import Callable\n",
    "\n",
    "\n",
    "def generate(inputs: list[str], model: Callable, filter: Callable, max_attempts: int | None = 10) -> list[str]:\n",
    "    \"\"\"\n",
    "    Generates outputs using the model callable. The outputs are then filtered using the filter function. The outputs that do not pass the filter are then re-generated until they pass the filter. The outputs are then returned.\n",
    "    :param inputs: The inputs to the model. Can be a list of strings or a nested list of strings. Output will be the same shape as the input.\n",
    "    :param model: The model callable. This should take a list of inputs and return a list of outputs.\n",
    "    :param filter: The filter function. This should take a single output and return a boolean indicating whether the output is good or not, and a filtered version of the output.\n",
    "    :param max_attempts: The maximum number of attempts to generate a valid output. If None, there is no limit.\n",
    "    :return: The filtered outputs. The shape of the output will be the same as the input.\n",
    "    \n",
    "    Example:\n",
    "    >>> from vllm import LLM, SamplingParams\n",
    "    >>> sampling_params = SamplingParams(temperature=0.8, top_p=0.95, max_tokens=512)\n",
    "    >>> llm = LLM(model=model_name, trust_remote_code=True)\n",
    "    >>> def vllm_generate(inputs):\n",
    "    ...     return [x.outputs[0].text for x in llm.generate(inputs, sampling_params)]\n",
    "    >>> def filter(response):\n",
    "    ...     try:\n",
    "    ...         prediction = re.search(r'The answer is: \\d', response)\n",
    "    ...         return True, prediction.group(0)\n",
    "    ...     except:\n",
    "    ...         return False, None\n",
    "    >>> questions = ['What is 2 + 2?', 'What is 3 + 3?']\n",
    "    >>> generate(questions, vllm_generate, filter)\n",
    "    ['4', '6']\n",
    "    \"\"\"\n",
    "    inputs_flat = flatten_array(inputs)\n",
    "    remaining_idxs = list(range(len(inputs_flat)))\n",
    "    outputs = [None] * len(inputs_flat)\n",
    "    attempts = 0\n",
    "\n",
    "    while len(remaining_idxs) > 0 and (max_attempts is None or attempts < max_attempts):\n",
    "        attempts += 1\n",
    "        new_remaining_idxs = []\n",
    "        new_outputs = model([inputs_flat[i] for i in remaining_idxs])\n",
    "\n",
    "        for i, output in zip(remaining_idxs, new_outputs):\n",
    "            good, filtered = filter(output)\n",
    "            if good:\n",
    "                outputs[i] = filtered\n",
    "            else:\n",
    "                new_remaining_idxs.append(i)\n",
    "\n",
    "        remaining_idxs = new_remaining_idxs\n",
    "    return unflatten_array(outputs, inputs)"
   ]
  },
  {
   "cell_type": "code",
   "execution_count": 436,
   "id": "4abfd86de0f466a6",
   "metadata": {
    "ExecuteTime": {
     "end_time": "2024-03-23T03:51:58.184896Z",
     "start_time": "2024-03-23T03:51:52.434089Z"
    },
    "collapsed": false
   },
   "outputs": [
    {
     "name": "stderr",
     "output_type": "stream",
     "text": [
      "\n",
      "\n",
      "Processed prompts:   0%|                                                      | 0/5 [00:00<?, ?it/s]\u001b[A\u001b[A\n",
      "\n",
      "Processed prompts:  20%|█████████▏                                    | 1/5 [00:00<00:03,  1.13it/s]\u001b[A\u001b[A\n",
      "\n",
      "Processed prompts:  60%|███████████████████████████▌                  | 3/5 [00:02<00:01,  1.49it/s]\u001b[A\u001b[A\n",
      "\n",
      "Processed prompts:  80%|████████████████████████████████████▊         | 4/5 [00:02<00:00,  2.07it/s]\u001b[A\u001b[A\n",
      "\n",
      "Processed prompts: 100%|██████████████████████████████████████████████| 5/5 [00:05<00:00,  1.14s/it]\u001b[A\u001b[A\n"
     ]
    },
    {
     "data": {
      "text/plain": [
       "[['4', '6', '2'], ['8', '1']]"
      ]
     },
     "execution_count": 436,
     "metadata": {},
     "output_type": "execute_result"
    }
   ],
   "source": [
    "# from vllm import LLM, SamplingParams\n",
    "# sampling_params = SamplingParams(temperature=0.8, top_p=0.95, max_tokens=512)\n",
    "# llm = LLM(model=model_name, trust_remote_code=True)\n",
    "\n",
    "def vllm_generate(inputs):\n",
    "    return [x.outputs[0].text for x in llm.generate(inputs, sampling_params)]\n",
    "\n",
    "\n",
    "def filter(response):\n",
    "    try:\n",
    "        return True, response[0]\n",
    "        # prediction = re.search(r'The answer is: \\d', response)\n",
    "        # return True, prediction.group(0)\n",
    "    except:\n",
    "        return False, None\n",
    "\n",
    "\n",
    "questions = [['2 + 2 = ', '3 + 3 = ', '1 + 1 = '], ['4 + 4 = ', '5 + 5 = ']]\n",
    "generate(questions, vllm_generate, filter)"
   ]
  },
  {
   "cell_type": "code",
   "execution_count": 352,
   "id": "30dbd2abde127240",
   "metadata": {
    "ExecuteTime": {
     "end_time": "2024-03-23T01:16:55.499860Z",
     "start_time": "2024-03-23T01:16:08.824373Z"
    },
    "collapsed": false
   },
   "outputs": [
    {
     "name": "stderr",
     "output_type": "stream",
     "text": [
      "Processed prompts: 100%|██████████████████████████████████████████| 407/407 [00:33<00:00, 12.00it/s]\n",
      "Processed prompts: 100%|████████████████████████████████████████████| 23/23 [00:07<00:00,  2.94it/s]\n",
      "Processed prompts: 100%|██████████████████████████████████████████████| 3/3 [00:04<00:00,  1.45s/it]\n"
     ]
    }
   ],
   "source": [
    "# test model on mc question generation\n",
    "questions = []\n",
    "answers = []\n",
    "for question in mc_questions['Algebra']:\n",
    "    question, answer = create_multiple_choice_question(question)\n",
    "    questions.append(question)\n",
    "    answers.append(answer)\n",
    "\n",
    "\n",
    "def get_prediction(response):\n",
    "    response = response.replace(\"'\", \"\")\n",
    "    response = response.replace('$', '')\n",
    "    response = response.replace('\\\\boxed{', '')\n",
    "    response = response.replace('}', '')\n",
    "    prediction = re.search(r'The answer is: ([A-Z])', response, re.IGNORECASE)\n",
    "    return prediction.group(1)\n",
    "\n",
    "\n",
    "def filter(response):\n",
    "    try:\n",
    "        prediction = get_prediction(response.outputs[0].text)\n",
    "        return True, prediction\n",
    "    except:\n",
    "        return False, None\n",
    "\n",
    "\n",
    "predictions = generate(questions, lambda x: llm.generate(x, sampling_params), filter)\n",
    "\n",
    "# responses = llm.generate(questions, sampling_params)\n",
    "# num_bad = 0\n",
    "# for i, response in enumerate(responses):\n",
    "#     try:\n",
    "#         predictions[i] = (get_prediction(response.outputs[0].text), answers[i])\n",
    "#     except Exception as e:\n",
    "#         num_bad += 1\n",
    "#         print(e.__repr__())\n",
    "\n",
    "# responses = llm.generate(questions, sampling_params)\n",
    "# for question in mc_questions['Algebra']:\n",
    "#     solution_found = False\n",
    "#     attempts = 0\n",
    "#     while not solution_found:\n",
    "#         try:\n",
    "#             question, answer = create_multiple_choice_question(question)\n",
    "#             response = llm.generate(question, sampling_params)\n",
    "#             response = response[0].outputs[0].text\n",
    "#             response = response.replace(\"'\", \"\")\n",
    "#             response = response.replace('$', '')\n",
    "#             response = response.replace('\\\\boxed{', '')\n",
    "#             response = response.replace('}', '')\n",
    "#             prediction = re.search(r'The answer is: ([A-Z])', response, re.IGNORECASE)\n",
    "#             predictions[i] = (prediction.group(1), answer)\n",
    "#             solution_found = True\n",
    "#         except Exception as e:\n",
    "#             print(e.__repr__() + f\"\\n{response[0].outputs[0].text}\")\n",
    "#             attempts += 1\n",
    "#             if attempts > 10:\n",
    "#                 print(\"Failed after 10 attempts.\")\n",
    "#                 break"
   ]
  },
  {
   "cell_type": "code",
   "execution_count": 362,
   "id": "f4c3ca6bc0aca80f",
   "metadata": {
    "ExecuteTime": {
     "end_time": "2024-03-23T01:18:13.374213Z",
     "start_time": "2024-03-23T01:18:13.330484Z"
    },
    "collapsed": false
   },
   "outputs": [
    {
     "name": "stdout",
     "output_type": "stream",
     "text": [
      "Below is a question and a partial response. Pick the best continuation of the response.\n",
      "\n",
      "Find the value of $x$ that satisfies $\\frac{\\sqrt{5x}}{\\sqrt{3(x-1)}}=2$. Express your answer in simplest fractional form.\n",
      "\n",
      "\n",
      "\n",
      "What step best continues the proof?\n",
      "\n",
      "A. <step>We begin by squaring the denominator, resulting in $\\frac{\\sqrt{5x}}{\\sqrt{3(x-1)}}=\\frac{5x}{3(x-1)}$.</step>\n",
      "B. <step>We begin by multiplying out the denominator, resulting in $\\frac{\\sqrt{5x}}{\\sqrt{3(x-1)}}=2\\sqrt{3(x-1)}$.</step>\n",
      "C. <step>We begin by multiplying out the denominator and then squaring both sides, resulting in $\\frac{\\sqrt{5x}}{\\sqrt{3(x-1)}}=2$.</step>\n",
      "D. <step>We begin by squaring both sides, resulting in $\\frac{\\sqrt{5x}}{\\sqrt{3(x-1)}}=4$.</step>\n",
      "\n",
      "Reason about the next step and precede your final answer with 'The answer is: '\n",
      "C\n",
      "==================================================\n",
      "B\n"
     ]
    }
   ],
   "source": [
    "i = 14\n",
    "print(questions[i])\n",
    "print(answers[i])\n",
    "print('=' * 50)\n",
    "print(predictions[i][0])"
   ]
  },
  {
   "cell_type": "code",
   "execution_count": 381,
   "id": "3913db5f9db520d",
   "metadata": {
    "ExecuteTime": {
     "end_time": "2024-03-23T03:13:49.264402Z",
     "start_time": "2024-03-23T03:13:49.261467Z"
    },
    "collapsed": false
   },
   "outputs": [],
   "source": [
    "class Datapoint(dict):\n",
    "    def __init__(self, *args, format: str | None = None, **kwargs):\n",
    "        super(Datapoint, self).__init__(*args, **kwargs)\n",
    "        self._format = format\n",
    "\n",
    "    def format(self):\n",
    "        if self._format is not None:\n",
    "            return eval(f'f\"\"\"{self._format}\"\"\"', self)\n",
    "        return None\n",
    "\n",
    "    def __getattr__(self, attr):\n",
    "        if attr in self:\n",
    "            return self[attr]\n",
    "        else:\n",
    "            raise AttributeError(f\"No such attribute: {attr}\")\n",
    "\n",
    "    def __setattr__(self, attr, value):\n",
    "        if attr == '_format':\n",
    "            self.__dict__['_format'] = value  # store _format as a property\n",
    "        else:\n",
    "            self[attr] = value\n",
    "\n",
    "    def __delattr__(self, attr):\n",
    "        if attr == '_format':\n",
    "            del self.__dict__['_format']  # delete the _format property\n",
    "        elif attr in self:\n",
    "            del self[attr]\n",
    "        else:\n",
    "            raise AttributeError(f\"No such attribute: {attr}\")"
   ]
  },
  {
   "cell_type": "code",
   "execution_count": 384,
   "id": "34a055997fd8aac9",
   "metadata": {
    "ExecuteTime": {
     "end_time": "2024-03-23T03:13:55.329378Z",
     "start_time": "2024-03-23T03:13:55.284035Z"
    },
    "collapsed": false
   },
   "outputs": [
    {
     "data": {
      "text/plain": [
       "'first thing: 1, second thing 2, 3'"
      ]
     },
     "execution_count": 384,
     "metadata": {},
     "output_type": "execute_result"
    }
   ],
   "source": [
    "d = Datapoint(a=1, b=2, format=\"first thing: {a}, second thing {b}, {a+b}\")\n",
    "d.format()"
   ]
  },
  {
   "cell_type": "code",
   "execution_count": 363,
   "id": "8bc5e4b6f7741a2f",
   "metadata": {
    "ExecuteTime": {
     "end_time": "2024-03-23T01:19:52.330043Z",
     "start_time": "2024-03-23T01:19:52.302104Z"
    },
    "collapsed": false
   },
   "outputs": [],
   "source": [
    "from grader import ExactMatchGrader, NextTokenAccuracyGrader\n",
    "from dataset import get_boxed_answer\n",
    "from latex_formater import latex_deformat\n",
    "\n",
    "\n",
    "def grade_predictions(outputs, data):\n",
    "    grader = ExactMatchGrader()\n",
    "\n",
    "    boxed_predictions = []\n",
    "    for o in outputs:\n",
    "        try:\n",
    "            boxed_predictions.append(latex_deformat(get_boxed_answer(o.outputs[0].text)))\n",
    "        except:\n",
    "            print(get_boxed_answer(o.outputs[0].text))\n",
    "\n",
    "    # boxed_predictions = [latex_deformat(get_boxed_answer(o.outputs[0].text)) for o in outputs]\n",
    "    boxed_answers = [latex_deformat(get_boxed_answer(d)) for d in data]\n",
    "    grades = grader.grade(boxed_predictions, boxed_answers)\n",
    "\n",
    "    return grades"
   ]
  },
  {
   "cell_type": "code",
   "execution_count": 332,
   "id": "c4bb969e065d0135",
   "metadata": {
    "ExecuteTime": {
     "end_time": "2024-03-22T02:33:47.067813Z",
     "start_time": "2024-03-22T02:33:47.047703Z"
    },
    "collapsed": false
   },
   "outputs": [
    {
     "data": {
      "text/plain": [
       "'Answer the following 4 questions:\\n\\n1. Let \\\\[f(x) = \\\\left\\\\{\\n\\\\begin{array}{cl} ax+3, &\\\\text{ if }x>2, \\\\\\\\\\nx-5 &\\\\text{ if } -2 \\\\le x \\\\le 2, \\\\\\\\\\n2x-b &\\\\text{ if } x <-2.\\n\\\\end{array}\\n\\\\right.\\\\]Find $a+b$ if the piecewise function is continuous (which means that its graph can be drawn without lifting your pencil from the paper).\\n\\nFor the piecewise function to be continuous, the cases must \"meet\" at $2$ and $-2$. For example, $ax+3$ and $x-5$ must be equal when $x=2$. This implies $a(2)+3=2-5$, which we solve to get $2a=-6 \\\\Rightarrow a=-3$. Similarly, $x-5$ and $2x-b$ must be equal when $x=-2$. Substituting, we get $-2-5=2(-2)-b$, which implies $b=3$. So $a+b=-3+3=\\\\boxed{0}$.\\n\\n\\n2. A rectangular band formation is a formation with $m$ band members in each of $r$ rows, where $m$ and $r$ are integers. A particular band has less than 100 band members. The director arranges them in a rectangular formation and finds that he has two members left over. If he increases the number of members in each row by 1 and reduces the number of rows by 2, there are exactly enough places in the new formation for each band member. What is the largest number of members the band could have?\\n\\nLet $x$ be the number of band members in each row for the original formation, when two are left over.  Then we can write two equations from the given information: $$rx+2=m$$ $$(r-2)(x+1)=m$$ Setting these equal, we find: $$rx+2=(r-2)(x+1)=rx-2x+r-2$$ $$2=-2x+r-2$$ $$4=r-2x$$ We know that the band has less than 100 members.  Based on the first equation, we must have $rx$ less than 98.  We can guess and check some values of $r$ and $x$ in the last equation.  If $r=18$, then $x=7$, and $rx=126$ which is too big.  If $r=16$, then $x=6$, and $rx=96$, which is less than 98.  Checking back in the second formation, we see that $(16-2)(6+1)=14\\\\cdot 7=98$ as it should.  This is the best we can do, so the largest number of members the band could have is $\\\\boxed{98}$.\\n\\n\\n3. What is the degree of the polynomial $(4 +5x^3 +100 +2\\\\pi x^4 + \\\\sqrt{10}x^4 +9)$?\\n\\nThis polynomial is not written in standard form.  However, we don\\'t need to write it in standard form, nor do we need to pay attention to the coefficients.  We just look for the exponents on $x$.  We have an $x^4$ term and no other term of higher degree, so $\\\\boxed{4}$ is the degree of the polynomial.\\n\\n\\n4. Find the largest value of $x$ that satisfies the equation $|x-5|=12$.'"
      ]
     },
     "execution_count": 332,
     "metadata": {},
     "output_type": "execute_result"
    }
   ],
   "source": [
    "questions_raw[0]"
   ]
  },
  {
   "cell_type": "code",
   "execution_count": 331,
   "id": "c24e2cdfb82631b9",
   "metadata": {
    "ExecuteTime": {
     "end_time": "2024-03-22T02:33:42.691432Z",
     "start_time": "2024-03-22T02:33:20.010602Z"
    },
    "collapsed": false
   },
   "outputs": [
    {
     "name": "stderr",
     "output_type": "stream",
     "text": [
      "Processed prompts: 100%|██████████████████████████████████████████| 100/100 [00:21<00:00,  4.63it/s]\n"
     ]
    }
   ],
   "source": [
    "# run through datasets_subset['Algebra'] and check answers for that\n",
    "from prompt import generate_nshot_prompts\n",
    "\n",
    "datasets_list = {k: list(v) for k, v in datasets.items()}\n",
    "# prepend datasets_subset with 3 examples from datasets\n",
    "datasets_subset_aug = {k: datasets_list[k][:3] + list(v) for k, v in datasets_subset.items()}\n",
    "\n",
    "datas = {k: generate_nshot_prompts(v, n=3) for k, v in datasets_subset_aug.items()}\n",
    "datas = datas['Algebra']\n",
    "answers_raw = []\n",
    "\n",
    "questions_raw = []\n",
    "for data in datas:\n",
    "    question = data['question']\n",
    "    answer = data['answer']\n",
    "    questions_raw.append(question)\n",
    "    answers_raw.append(answer)\n",
    "\n",
    "responses = llm.generate(questions_raw, sampling_params)\n",
    "grades = grade_predictions(responses, answers_raw)\n",
    "\n",
    "# for data in datas:\n",
    "#     question = data['question']\n",
    "#     answer = data['answer']\n",
    "#     response = llm.generate(question, sampling_params)\n",
    "#     prediction = response[0].outputs[0].text\n",
    "#     predictions.append(prediction)\n",
    "#     answers.append(answer)"
   ]
  },
  {
   "cell_type": "code",
   "execution_count": 323,
   "id": "1fdd62680df2f17d",
   "metadata": {
    "ExecuteTime": {
     "end_time": "2024-03-22T02:30:00.325186Z",
     "start_time": "2024-03-22T02:30:00.276708Z"
    },
    "collapsed": false
   },
   "outputs": [
    {
     "name": "stderr",
     "output_type": "stream",
     "text": [
      "/lfs/skampere1/0/kaif/conda/envs/TheoremSense/lib/python3.10/site-packages/numpy/core/fromnumeric.py:3504: RuntimeWarning: Mean of empty slice.\n",
      "  return _methods._mean(a, axis=axis, dtype=dtype,\n",
      "/lfs/skampere1/0/kaif/conda/envs/TheoremSense/lib/python3.10/site-packages/numpy/core/_methods.py:129: RuntimeWarning: invalid value encountered in scalar divide\n",
      "  ret = ret.dtype.type(ret / rcount)\n"
     ]
    }
   ],
   "source": [
    "splits = splits2['Algebra']\n",
    "cum_sum = 0\n",
    "avg_accs = []\n",
    "for steps in splits:\n",
    "    pred = predictions[cum_sum:cum_sum + len(steps)]\n",
    "    avg_acc = np.mean([p[0] == p[1] for p in pred if p is not None])\n",
    "    avg_accs.append(avg_acc)\n",
    "    cum_sum += len(steps)"
   ]
  },
  {
   "cell_type": "code",
   "execution_count": 346,
   "id": "2a99baa3850cb970",
   "metadata": {
    "ExecuteTime": {
     "end_time": "2024-03-22T02:36:50.408200Z",
     "start_time": "2024-03-22T02:36:50.295515Z"
    },
    "collapsed": false
   },
   "outputs": [
    {
     "data": {
      "image/png": "[encoded data removed]",
      "text/plain": [
       "<Figure size 640x480 with 1 Axes>"
      ]
     },
     "metadata": {},
     "output_type": "display_data"
    }
   ],
   "source": [
    "import matplotlib.pyplot as plt\n",
    "from sklearn.linear_model import LinearRegression\n",
    "\n",
    "plt.scatter(grades, avg_accs, alpha=0.5)\n",
    "# add best fit line\n",
    "linreg = LinearRegression()\n",
    "# filter out nan\n",
    "grades = np.array(grades)\n",
    "avg_accs = np.array(avg_accs)\n",
    "mask = ~np.isnan(grades) & ~np.isnan(avg_accs)\n",
    "grades = grades[mask]\n",
    "avg_accs = avg_accs[mask]\n",
    "X = np.array(grades).reshape(-1, 1)\n",
    "y = np.array(avg_accs).reshape(-1, 1)\n",
    "linreg.fit(X, y)\n",
    "x = np.linspace(0, 1, 100).reshape(-1, 1)\n",
    "y = linreg.predict(x)\n",
    "plt.plot(x, y, color='red')\n",
    "plt.xlabel(\"Grades\")\n",
    "plt.ylabel(\"Average Accuracy\")\n",
    "plt.title(\"Grades vs Average Accuracy\")\n",
    "plt.show()"
   ]
  },
  {
   "cell_type": "code",
   "execution_count": 347,
   "id": "ce516d2fb5a5ec91",
   "metadata": {
    "ExecuteTime": {
     "end_time": "2024-03-22T02:49:46.424087Z",
     "start_time": "2024-03-22T02:49:46.400511Z"
    },
    "collapsed": false
   },
   "outputs": [
    {
     "data": {
      "text/plain": [
       "PearsonRResult(statistic=-0.07179040620822831, pvalue=0.4940754004779896)"
      ]
     },
     "execution_count": 347,
     "metadata": {},
     "output_type": "execute_result"
    }
   ],
   "source": [
    "# model correlation\n",
    "from scipy.stats import pearsonr\n",
    "\n",
    "pearsonr(grades, avg_accs)"
   ]
  }
 ],
 "metadata": {
  "kernelspec": {
   "display_name": "Python 3",
   "language": "python",
   "name": "python3"
  },
  "language_info": {
   "codemirror_mode": {
    "name": "ipython",
    "version": 2
   },
   "file_extension": ".py",
   "mimetype": "text/x-python",
   "name": "python",
   "nbconvert_exporter": "python",
   "pygments_lexer": "ipython2",
   "version": "2.7.6"
  }
 },
 "nbformat": 4,
 "nbformat_minor": 5
}
