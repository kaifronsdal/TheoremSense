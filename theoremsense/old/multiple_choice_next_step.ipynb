{
 "cells": [
  {
   "cell_type": "code",
   "execution_count": 1,
   "id": "initial_id",
   "metadata": {
    "ExecuteTime": {
     "end_time": "2024-03-24T03:41:50.615619Z",
     "start_time": "2024-03-24T03:41:50.493063Z"
    },
    "collapsed": true
   },
   "outputs": [
    {
     "name": "stdout",
     "output_type": "stream",
     "text": [
      "/lfs/skampere1/0/kaif/conda/envs/TheoremSense/bin/python\r\n"
     ]
    }
   ],
   "source": [
    "!which python"
   ]
  },
  {
   "cell_type": "code",
   "execution_count": 5,
   "id": "1fb946f770b5951e",
   "metadata": {
    "ExecuteTime": {
     "end_time": "2024-03-24T04:18:56.990609Z",
     "start_time": "2024-03-24T04:18:56.972807Z"
    },
    "collapsed": false
   },
   "outputs": [],
   "source": [
    "import google.generativeai as genai\n",
    "import os\n",
    "from tqdm import tqdm\n",
    "\n",
    "genai.configure(api_key=os.environ[\"GOOGLE_AI_API_KEY\"])\n",
    "\n",
    "# Set up the model\n",
    "generation_config = {\n",
    "    \"temperature\": 0.9,\n",
    "    \"top_p\": 1,\n",
    "    \"max_output_tokens\": 2048,\n",
    "}\n",
    "\n",
    "safety_settings = [\n",
    "    {\n",
    "        \"category\": \"HARM_CATEGORY_HARASSMENT\",\n",
    "        \"threshold\": \"BLOCK_MEDIUM_AND_ABOVE\"\n",
    "    },\n",
    "    {\n",
    "        \"category\": \"HARM_CATEGORY_HATE_SPEECH\",\n",
    "        \"threshold\": \"BLOCK_MEDIUM_AND_ABOVE\"\n",
    "    },\n",
    "    {\n",
    "        \"category\": \"HARM_CATEGORY_SEXUALLY_EXPLICIT\",\n",
    "        \"threshold\": \"BLOCK_MEDIUM_AND_ABOVE\"\n",
    "    },\n",
    "    {\n",
    "        \"category\": \"HARM_CATEGORY_DANGEROUS_CONTENT\",\n",
    "        \"threshold\": \"BLOCK_MEDIUM_AND_ABOVE\"\n",
    "    },\n",
    "]\n",
    "\n",
    "model = genai.GenerativeModel(model_name=\"gemini-1.0-pro\",\n",
    "                              generation_config=generation_config,\n",
    "                              safety_settings=safety_settings)\n",
    "\n",
    "\n",
    "def openai_to_google(messages):\n",
    "    return [\n",
    "        {\n",
    "            \"role\": \"user\" if message['role'] == \"user\" else \"model\",\n",
    "            \"parts\": [message['content']]\n",
    "        }\n",
    "        for message in messages\n",
    "    ]\n",
    "\n",
    "\n",
    "def google_generate(inputs):\n",
    "    return [model.generate_content(openai_to_google(input)).text for input in tqdm(inputs)]"
   ]
  },
  {
   "cell_type": "code",
   "execution_count": 2,
   "id": "89ef6f48cb07de4e",
   "metadata": {
    "ExecuteTime": {
     "end_time": "2024-03-24T03:42:07.348097Z",
     "start_time": "2024-03-24T03:41:58.765481Z"
    },
    "collapsed": false
   },
   "outputs": [],
   "source": [
    "%%capture\n",
    "from dataset import load_datasets, BOXED_ANSWERS_DATASETS\n",
    "import numpy as np\n",
    "import json\n",
    "\n",
    "# load the name maps\n",
    "with open('name_maps.json', 'r') as f:\n",
    "    name_maps = json.load(f)\n",
    "    DATASET_MAP = name_maps['DATASET_MAP']\n",
    "    MODEL_MAP = name_maps['MODEL_MAP']\n",
    "\n",
    "datasets_raw = load_datasets(BOXED_ANSWERS_DATASETS)\n",
    "datasets = {\n",
    "    DATASET_MAP[dataset['name']]: dataset['data']['train']\n",
    "    for dataset in datasets_raw\n",
    "}\n",
    "\n",
    "np.random.seed(0)\n",
    "num_samples = 100\n",
    "datasets_subset = {k: np.random.choice(v, num_samples, replace=False) for k, v in datasets.items()}"
   ]
  },
  {
   "cell_type": "markdown",
   "id": "783d604719f0c23d",
   "metadata": {
    "collapsed": false
   },
   "source": [
    "## Split Proofs Into Steps"
   ]
  },
  {
   "cell_type": "code",
   "execution_count": 6,
   "id": "79ac156d3d6c057c",
   "metadata": {
    "ExecuteTime": {
     "end_time": "2024-03-24T04:34:00.266053Z",
     "start_time": "2024-03-24T04:34:00.243560Z"
    },
    "collapsed": false
   },
   "outputs": [],
   "source": [
    "import re\n",
    "from util import generate, filter_errors, save_output, Prompt\n",
    "\n",
    "split_proof_chat = Prompt([\n",
    "    {\n",
    "        \"role\": \"user\",\n",
    "        \"content\": \"PROOF: Let $p$ be the number of pie crusts, and let $f$ be the amount of flour per crust. Because the total amount of flour needs to remain constant, we can express the relationship between pie crusts as $p\\\\cdot f = c$, where $c$ is a constant value.Since we know that 30 pie crusts each use up $\\\\frac16$ cup of flour, $30\\\\left(\\\\frac16\\\\right)=c$ or $c=5$. When $p=20$, the equation becomes $20\\\\cdot f=5$, or $f=\\\\frac5{20}=\\\\boxed{\\\\frac14}$\",\n",
    "    },\n",
    "    {\n",
    "        \"role\": \"system\",\n",
    "        \"content\": \"SPLIT: <step>Let $p$ be the number of pie crusts, and let $f$ be the amount of flour per crust.</step>\\n<step>Because the total amount of flour needs to remain constant, we can express the relationship between pie crusts as $p\\cdot f = c$, where $c$ is a constant value.</step>\\n<step>Since we know that 30 pie crusts each use up $\\\\frac16$ cup of flour, $30\\left(\\\\frac16\\\\right)=c$ or $c=5$.</step>\\n<step>When $p=20$, the equation becomes $20\\cdot f=5$.</step>\\n<step>So solving for $f$, we get $f=\\\\frac5{20}=\\\\boxed{\\\\frac14}$.</step>\",\n",
    "    },\n",
    "    {\n",
    "        \"role\": \"user\",\n",
    "        \"content\": \"PROOF: We begin by multiplying out the denominator and then  squaring both sides \\\\begin{align*}\\\\frac{\\\\sqrt{5x}}{\\\\sqrt{3(x-1)}}&=2\\\\\\\\(\\\\sqrt{5x})^2 &=\\\\left(2\\\\sqrt{3(x-1)}\\\\right)^2\\\\\\\\5x &= 12(x-1)\\\\\\\\12& =7x\\\\\\\\x&=\\\\boxed{\\\\frac{12}{7}}.\\\\\\\\\\\\end{align*}Checking, we see that this value of $x$ satisfies the original equation, so it is not an extraneous solution.\",\n",
    "    },\n",
    "    {\n",
    "        \"role\": \"system\",\n",
    "        \"content\": \"SPLIT: <step>We begin by multiplying out the denominator and then squaring both sides, resulting in $\\\\frac{\\sqrt{5x}}{\\sqrt{3(x-1)}}=2$.</step>\\n<step>The equation simplifies to $(\\sqrt{5x})^2 =\\left(2\\sqrt{3(x-1)}\\\\right)^2$.</step>\\n<step>Which further simplifies to $5x = 12(x-1)$.</step>\\n<step>From which we get $12 = 7x$.</step>\\n<step>Solving for $x$ gives us $x=\\\\boxed{\\\\frac{12}{7}}$.</step>\\n<step>Checking, we see that this value of $x$ satisfies the original equation, so it is not an extraneous solution.</step>\",\n",
    "    },\n",
    "    {\n",
    "        \"role\": \"user\",\n",
    "        \"content\": \"PROOF: There is a point of intersection for each $x$ such that $f(x^2)=f(x^4)$. Since $f$ is invertible, this equation is satisfied only if $x^2=x^4$, so we simply count solutions to that equation. We can rearrange the equation $x^2=x^4$ as follows: \\\\begin{align*}0 &= x^4-x^2 \\\\\\\\0 &= x^2(x^2-1) \\\\\\\\0 &= x^2(x+1)(x-1)\\\\end{align*}The last factorization shows that the solutions are $x=-1,0,1$. Therefore, the graphs of $y=f(x^2)$ and $y=f(x^4)$ must intersect at exactly $\\\\boxed{3}$ points.\",\n",
    "    },\n",
    "    {\n",
    "        \"role\": \"system\",\n",
    "        \"content\": \"SPLIT: <step>There is a point of intersection for each $x$ such that $f(x^2)=f(x^4)$.</step>\\n<step>Since $f$ is invertible, this equation is satisfied only if $x^2=x^4$, so we simply count solutions to that equation.</step>\\n<step>We can rearrange the equation $x^2=x^4$ as follows: $0 = x^4-x^2$.</step>\\n<step>Factoring out $x^2$, we get $0 = x^2(x^2-1)$.</step>\\n<step>Which leads to $0 = x^2(x+1)(x-1)$, showing that the solutions are $x=-1,0,1$.</step>\\n<step>Therefore, the graphs of $y=f(x^2)$ and $y=f(x^4)$ must intersect at exactly $\\\\boxed{3}$ points.</step>\",\n",
    "    },\n",
    "    {\n",
    "        \"role\": \"user\",\n",
    "        \"content\": \"PROOF: Let $c$ equal the cost of a bouquet of 39 roses (in dollars). Since we know that the price of a bouquet is directly proportional to the number of roses it contains, we can set up the following proportion\\n \\\\begin{align*}\\n\\\\frac{c}{39}&=\\\\frac{20}{12}\\\\\\\\\\n\\\\Rightarrow \\\\qquad c&=\\\\left(\\\\frac{20}{12}\\\\right)(39)\\\\\\\\\\n\\\\Rightarrow \\\\qquad c&=\\\\boxed{65}\\n\\\\end{align*}\"\n",
    "    },\n",
    "    {\n",
    "        \"role\": \"system\",\n",
    "        \"content\": \"SPLIT: <step>Let $c$ equal the cost of a bouquet of 39 roses (in dollars).</step>\\n<step>Since we know that the price of a bouquet is directly proportional to the number of roses it contains, we can set up the proportion $\\\\frac{c}{39}&=\\\\frac{20}{12}$.</step>\\n<step>Solving for $c$ yields $c=\\\\left(\\\\frac{20}{12}\\\\right)(39)$ or $c=\\\\boxed{65}$</step>\",\n",
    "    },\n",
    "])\n",
    "\n",
    "\n",
    "@filter_errors\n",
    "def split_proof(proof):\n",
    "    steps = re.findall(r'<step>(.*?)</step>', proof, re.DOTALL)\n",
    "    # validate that the proof was split correctly\n",
    "    # assumes number of steps is at least 2\n",
    "    if len(steps) < 2:\n",
    "        raise ValueError(f\"Not enough steps in proof found.\\n{proof}\")\n",
    "    # make sure there is nothing before or after the steps\n",
    "    if not proof.endswith(\"</step>\"):\n",
    "        raise ValueError(f\"Proof does not end with a step.\\n{proof}\")\n",
    "    return steps\n",
    "\n",
    "\n",
    "questions = []\n",
    "for name, dataset in datasets_subset.items():\n",
    "    for question in dataset:\n",
    "        proof = question['answer']\n",
    "        questions.append(split_proof_chat + [{\"role\": \"user\", \"content\": proof}])\n",
    "\n",
    "splits = generate(questions, google_generate, split_proof, max_attempts=30)"
   ]
  }
 ],
 "metadata": {
  "kernelspec": {
   "display_name": "Python 3",
   "language": "python",
   "name": "python3"
  },
  "language_info": {
   "codemirror_mode": {
    "name": "ipython",
    "version": 2
   },
   "file_extension": ".py",
   "mimetype": "text/x-python",
   "name": "python",
   "nbconvert_exporter": "python",
   "pygments_lexer": "ipython2",
   "version": "2.7.6"
  }
 },
 "nbformat": 4,
 "nbformat_minor": 5
}
