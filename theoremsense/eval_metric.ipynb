{
 "cells": [
  {
   "cell_type": "code",
   "execution_count": 37,
   "id": "initial_id",
   "metadata": {
    "ExecuteTime": {
     "end_time": "2024-05-17T00:14:45.113099Z",
     "start_time": "2024-05-17T00:14:45.083492Z"
    },
    "collapsed": true
   },
   "outputs": [],
   "source": [
    "import os\n",
    "\n",
    "os.environ[\"CUDA_DEVICE_ORDER\"] = \"PCI_BUS_ID\"\n",
    "os.environ[\"CUDA_VISIBLE_DEVICES\"] = \"0,1,2,3\"\n",
    "\n",
    "from pathlib import Path\n",
    "import json\n",
    "from utils import load_arguments, get_boxed_answer\n",
    "from latex_formater import get_final_answer, process_docs, process_results, is_equiv\n",
    "# from model_generate import load_datasets, prompt_generator, load_model\n",
    "# from blocks import Batch, Block\n",
    "import itertools\n",
    "import pandas as pd\n",
    "\n",
    "root_dir = Path('~/model_evals_ampere8/').expanduser()\n",
    "\n",
    "# load the name maps\n",
    "with open('name_maps.json', 'r') as f:\n",
    "    name_maps = json.load(f)\n",
    "    DATASET_MAP = name_maps['DATASET_MAP']\n",
    "    MODEL_MAP = name_maps['MODEL_MAP']"
   ]
  },
  {
   "cell_type": "code",
   "execution_count": 38,
   "id": "2362eb16c73c8850",
   "metadata": {
    "ExecuteTime": {
     "end_time": "2024-05-17T00:14:48.938419Z",
     "start_time": "2024-05-17T00:14:48.909852Z"
    },
    "collapsed": false
   },
   "outputs": [
    {
     "data": {
      "text/plain": [
       "{'tfa': 0.8633093237876892,\n",
       " 'tfce': 0.4637448489665985,\n",
       " 'perpelexity': 1.5900172241410808,\n",
       " 'sumCE': 64.46053314208984,\n",
       " 'bpc': 0.2861442815296975,\n",
       " 'total_num_tokens': 847,\n",
       " 'prompt_num_tokens': 708,\n",
       " 'solution_num_tokens': 139,\n",
       " 'total_num_chars': 2273,\n",
       " 'prompt_num_chars': 1948,\n",
       " 'solution_num_chars': 325}"
      ]
     },
     "execution_count": 38,
     "metadata": {},
     "output_type": "execute_result"
    }
   ],
   "source": [
    "with open(root_dir / 'Algebra_train/Deepseek-67b/teacher_forcing/output.json', 'r') as f:\n",
    "    predictions = json.load(f)\n",
    "\n",
    "predictions[1]"
   ]
  },
  {
   "cell_type": "code",
   "execution_count": 39,
   "id": "4580da4305abc03b",
   "metadata": {
    "ExecuteTime": {
     "end_time": "2024-05-17T00:14:54.272102Z",
     "start_time": "2024-05-17T00:14:54.219670Z"
    },
    "collapsed": false
   },
   "outputs": [],
   "source": [
    "def load_predictions(path):\n",
    "    if not (path / 'output.json').exists():\n",
    "        return []\n",
    "    with open(path / 'output.json', 'r') as f:\n",
    "        return json.load(f)\n",
    "\n",
    "\n",
    "predictions = pd.DataFrame([\n",
    "    {\n",
    "        'dataset': dataset.name,\n",
    "        'model': model.name,\n",
    "        'method': method.name,\n",
    "        'prediction': prediction,\n",
    "        'i': i,\n",
    "        'generation_args': load_arguments(method / 'args.json')\n",
    "    }\n",
    "    for dataset in root_dir.iterdir()\n",
    "    for model in dataset.iterdir()\n",
    "    for method in model.iterdir()\n",
    "    for i, prediction in enumerate(load_predictions(method))\n",
    "])\n",
    "args = predictions.iloc[0]['generation_args']"
   ]
  },
  {
   "cell_type": "code",
   "execution_count": 40,
   "id": "c95fc8217a3cef11",
   "metadata": {
    "ExecuteTime": {
     "end_time": "2024-05-17T00:14:57.408369Z",
     "start_time": "2024-05-17T00:14:57.152559Z"
    },
    "collapsed": false
   },
   "outputs": [
    {
     "data": {
      "text/html": [
       "<div>\n",
       "<style scoped>\n",
       "    .dataframe tbody tr th:only-of-type {\n",
       "        vertical-align: middle;\n",
       "    }\n",
       "\n",
       "    .dataframe tbody tr th {\n",
       "        vertical-align: top;\n",
       "    }\n",
       "\n",
       "    .dataframe thead th {\n",
       "        text-align: right;\n",
       "    }\n",
       "</style>\n",
       "<table border=\"1\" class=\"dataframe\">\n",
       "  <thead>\n",
       "    <tr style=\"text-align: right;\">\n",
       "      <th></th>\n",
       "      <th>dataset</th>\n",
       "      <th>model</th>\n",
       "      <th>method</th>\n",
       "      <th>prediction</th>\n",
       "      <th>i</th>\n",
       "      <th>generation_args</th>\n",
       "    </tr>\n",
       "  </thead>\n",
       "  <tbody>\n",
       "    <tr>\n",
       "      <th>0</th>\n",
       "      <td>Number_Theory_train</td>\n",
       "      <td>Mixtral-8x22b-Instruct-v0.1</td>\n",
       "      <td>teacher_forcing</td>\n",
       "      <td>{'tfa': 0.7894737124443054, 'tfce': 0.74296134...</td>\n",
       "      <td>0</td>\n",
       "      <td>Namespace(debug=False, seed=None, model='mistr...</td>\n",
       "    </tr>\n",
       "    <tr>\n",
       "      <th>1</th>\n",
       "      <td>Number_Theory_train</td>\n",
       "      <td>Mixtral-8x22b-Instruct-v0.1</td>\n",
       "      <td>teacher_forcing</td>\n",
       "      <td>{'tfa': 0.7287735939025879, 'tfce': 0.88184529...</td>\n",
       "      <td>1</td>\n",
       "      <td>Namespace(debug=False, seed=None, model='mistr...</td>\n",
       "    </tr>\n",
       "    <tr>\n",
       "      <th>2</th>\n",
       "      <td>Number_Theory_train</td>\n",
       "      <td>Mixtral-8x22b-Instruct-v0.1</td>\n",
       "      <td>teacher_forcing</td>\n",
       "      <td>{'tfa': 0.7555555701255798, 'tfce': 0.77704483...</td>\n",
       "      <td>2</td>\n",
       "      <td>Namespace(debug=False, seed=None, model='mistr...</td>\n",
       "    </tr>\n",
       "    <tr>\n",
       "      <th>3</th>\n",
       "      <td>Number_Theory_train</td>\n",
       "      <td>Mixtral-8x22b-Instruct-v0.1</td>\n",
       "      <td>teacher_forcing</td>\n",
       "      <td>{'tfa': 0.7969924807548523, 'tfce': 0.64349699...</td>\n",
       "      <td>3</td>\n",
       "      <td>Namespace(debug=False, seed=None, model='mistr...</td>\n",
       "    </tr>\n",
       "    <tr>\n",
       "      <th>4</th>\n",
       "      <td>Number_Theory_train</td>\n",
       "      <td>Mixtral-8x22b-Instruct-v0.1</td>\n",
       "      <td>teacher_forcing</td>\n",
       "      <td>{'tfa': 0.6966292262077332, 'tfce': 1.18482685...</td>\n",
       "      <td>4</td>\n",
       "      <td>Namespace(debug=False, seed=None, model='mistr...</td>\n",
       "    </tr>\n",
       "    <tr>\n",
       "      <th>5</th>\n",
       "      <td>Number_Theory_train</td>\n",
       "      <td>Mixtral-8x22b-Instruct-v0.1</td>\n",
       "      <td>teacher_forcing</td>\n",
       "      <td>{'tfa': 0.7894737124443054, 'tfce': 0.74296134...</td>\n",
       "      <td>5</td>\n",
       "      <td>Namespace(debug=False, seed=None, model='mistr...</td>\n",
       "    </tr>\n",
       "    <tr>\n",
       "      <th>6</th>\n",
       "      <td>Number_Theory_train</td>\n",
       "      <td>Mixtral-8x22b-Instruct-v0.1</td>\n",
       "      <td>teacher_forcing</td>\n",
       "      <td>{'tfa': 0.7287735939025879, 'tfce': 0.88184529...</td>\n",
       "      <td>6</td>\n",
       "      <td>Namespace(debug=False, seed=None, model='mistr...</td>\n",
       "    </tr>\n",
       "    <tr>\n",
       "      <th>7</th>\n",
       "      <td>Number_Theory_train</td>\n",
       "      <td>Mixtral-8x22b-Instruct-v0.1</td>\n",
       "      <td>teacher_forcing</td>\n",
       "      <td>{'tfa': 0.7555555701255798, 'tfce': 0.77704483...</td>\n",
       "      <td>7</td>\n",
       "      <td>Namespace(debug=False, seed=None, model='mistr...</td>\n",
       "    </tr>\n",
       "    <tr>\n",
       "      <th>8</th>\n",
       "      <td>Number_Theory_train</td>\n",
       "      <td>Mixtral-8x22b-Instruct-v0.1</td>\n",
       "      <td>teacher_forcing</td>\n",
       "      <td>{'tfa': 0.7969924807548523, 'tfce': 0.64349699...</td>\n",
       "      <td>8</td>\n",
       "      <td>Namespace(debug=False, seed=None, model='mistr...</td>\n",
       "    </tr>\n",
       "    <tr>\n",
       "      <th>9</th>\n",
       "      <td>Number_Theory_train</td>\n",
       "      <td>Mixtral-8x22b-Instruct-v0.1</td>\n",
       "      <td>teacher_forcing</td>\n",
       "      <td>{'tfa': 0.6966292262077332, 'tfce': 1.18482685...</td>\n",
       "      <td>9</td>\n",
       "      <td>Namespace(debug=False, seed=None, model='mistr...</td>\n",
       "    </tr>\n",
       "  </tbody>\n",
       "</table>\n",
       "</div>"
      ],
      "text/plain": [
       "               dataset                        model           method  \\\n",
       "0  Number_Theory_train  Mixtral-8x22b-Instruct-v0.1  teacher_forcing   \n",
       "1  Number_Theory_train  Mixtral-8x22b-Instruct-v0.1  teacher_forcing   \n",
       "2  Number_Theory_train  Mixtral-8x22b-Instruct-v0.1  teacher_forcing   \n",
       "3  Number_Theory_train  Mixtral-8x22b-Instruct-v0.1  teacher_forcing   \n",
       "4  Number_Theory_train  Mixtral-8x22b-Instruct-v0.1  teacher_forcing   \n",
       "5  Number_Theory_train  Mixtral-8x22b-Instruct-v0.1  teacher_forcing   \n",
       "6  Number_Theory_train  Mixtral-8x22b-Instruct-v0.1  teacher_forcing   \n",
       "7  Number_Theory_train  Mixtral-8x22b-Instruct-v0.1  teacher_forcing   \n",
       "8  Number_Theory_train  Mixtral-8x22b-Instruct-v0.1  teacher_forcing   \n",
       "9  Number_Theory_train  Mixtral-8x22b-Instruct-v0.1  teacher_forcing   \n",
       "\n",
       "                                          prediction  i  \\\n",
       "0  {'tfa': 0.7894737124443054, 'tfce': 0.74296134...  0   \n",
       "1  {'tfa': 0.7287735939025879, 'tfce': 0.88184529...  1   \n",
       "2  {'tfa': 0.7555555701255798, 'tfce': 0.77704483...  2   \n",
       "3  {'tfa': 0.7969924807548523, 'tfce': 0.64349699...  3   \n",
       "4  {'tfa': 0.6966292262077332, 'tfce': 1.18482685...  4   \n",
       "5  {'tfa': 0.7894737124443054, 'tfce': 0.74296134...  5   \n",
       "6  {'tfa': 0.7287735939025879, 'tfce': 0.88184529...  6   \n",
       "7  {'tfa': 0.7555555701255798, 'tfce': 0.77704483...  7   \n",
       "8  {'tfa': 0.7969924807548523, 'tfce': 0.64349699...  8   \n",
       "9  {'tfa': 0.6966292262077332, 'tfce': 1.18482685...  9   \n",
       "\n",
       "                                     generation_args  \n",
       "0  Namespace(debug=False, seed=None, model='mistr...  \n",
       "1  Namespace(debug=False, seed=None, model='mistr...  \n",
       "2  Namespace(debug=False, seed=None, model='mistr...  \n",
       "3  Namespace(debug=False, seed=None, model='mistr...  \n",
       "4  Namespace(debug=False, seed=None, model='mistr...  \n",
       "5  Namespace(debug=False, seed=None, model='mistr...  \n",
       "6  Namespace(debug=False, seed=None, model='mistr...  \n",
       "7  Namespace(debug=False, seed=None, model='mistr...  \n",
       "8  Namespace(debug=False, seed=None, model='mistr...  \n",
       "9  Namespace(debug=False, seed=None, model='mistr...  "
      ]
     },
     "execution_count": 40,
     "metadata": {},
     "output_type": "execute_result"
    }
   ],
   "source": [
    "predictions.head(n=10)"
   ]
  },
  {
   "cell_type": "code",
   "execution_count": 3,
   "id": "b7a90658e8783a4",
   "metadata": {
    "ExecuteTime": {
     "end_time": "2024-04-25T22:20:57.351638Z",
     "start_time": "2024-04-25T22:20:57.343830Z"
    },
    "collapsed": false
   },
   "outputs": [],
   "source": [
    "# args.model = 'mistralai/Mistral-7B-Instruct-v0.2'\n",
    "# args.use_chat = True\n",
    "# args.model = 'mistralai/Mixtral-8x7B-Instruct-v0.1'\n",
    "# args.use_chat = True\n",
    "# args.model = 'tiiuae/falcon-7b'  # Don't use?\n",
    "# args.use_chat = False\n",
    "# args.model = 'meta-llama/Llama-2-7b-chat--hf'\n",
    "# args.use_chat = True\n",
    "# args.model = 'meta-llama/Llama-2-13b-chat-hf'\n",
    "# args.use_chat = True\n",
    "# args.model = 'meta-llama/Llama-2-70b-chat-hf'\n",
    "# args.use_chat = True\n",
    "# args.model = 'meta-llama/Meta-Llama-3-8B-Instruct'\n",
    "# args.use_chat = True\n",
    "# args.model = 'meta-llama/Meta-Llama-3-70B-Instruct'\n",
    "# args.use_chat = True\n",
    "# args.model = 'deepseek-ai/deepseek-math-7b-instruct'\n",
    "# args.use_chat = True\n",
    "# args.model = 'deepseek-ai/deepseek-llm-67b-chat'\n",
    "# args.use_chat = True"
   ]
  },
  {
   "cell_type": "code",
   "execution_count": 41,
   "id": "1a0563f7dd7bcd2a",
   "metadata": {
    "ExecuteTime": {
     "end_time": "2024-05-17T00:15:11.158032Z",
     "start_time": "2024-05-17T00:15:05.391525Z"
    },
    "collapsed": false
   },
   "outputs": [],
   "source": [
    "%%capture\n",
    "DATASET_CONFIGS = {\n",
    "    'EleutherAI/hendrycks_math': {\n",
    "        'subsets': ['algebra', 'counting_and_probability', 'geometry', 'intermediate_algebra',\n",
    "                    'number_theory', 'prealgebra', 'precalculus'],\n",
    "        'aliases': ['hendrycks_math', 'math', 'hendrycks'],\n",
    "    }\n",
    "}\n",
    "\n",
    "DATASET_ALIASES = {alias: dataset_name\n",
    "                   for dataset_name, config in DATASET_CONFIGS.items()\n",
    "                   for alias in config['aliases']}\n",
    "DATASET_ALIASES.update({dataset_name: dataset_name for dataset_name in DATASET_CONFIGS})\n",
    "import datasets as hf_datasets\n",
    "\n",
    "\n",
    "def load_datasets(args):\n",
    "    datasets = {}\n",
    "    for dataset_name in args.dataset.split(','):\n",
    "        dataset_name = dataset_name.strip()\n",
    "        assert dataset_name in DATASET_ALIASES, f'Unknown dataset {dataset_name}'\n",
    "        dataset_name = DATASET_ALIASES[dataset_name]\n",
    "\n",
    "        for subset in DATASET_CONFIGS[dataset_name]['subsets']:\n",
    "            try:\n",
    "                dataset = hf_datasets.load_dataset(dataset_name, subset)[args.split]\n",
    "            except ValueError as e:  # @TODO: get right exception type\n",
    "                print(e)\n",
    "                print(f'Error while loading {dataset_name}:{subset}. Redownloading...')\n",
    "                dataset = hf_datasets.load_dataset(dataset_name, subset, download_mode='force_redownload',\n",
    "                                                   verification_mode='no_checks')[args.split]\n",
    "            datasets[f'{dataset_name}:{subset}'] = dataset\n",
    "\n",
    "    return datasets\n",
    "\n",
    "\n",
    "datasets = load_datasets(args)\n",
    "datasets = pd.DataFrame([\n",
    "    {\n",
    "        'dataset': f'{DATASET_MAP[dataset_name]}_{args.split}',\n",
    "        'i': i,\n",
    "        **datapoint\n",
    "    }\n",
    "    for dataset_name, dataset in datasets.items()\n",
    "    for i, datapoint in enumerate(process_docs(dataset))\n",
    "])\n",
    "\n",
    "\n",
    "# def groupby(datasets, key):\n",
    "#     return {k: list(g) for k, g in itertools.groupby(datasets, key=lambda x: x[key])}"
   ]
  },
  {
   "cell_type": "code",
   "execution_count": 42,
   "id": "cf6c9873f78c0bb",
   "metadata": {
    "ExecuteTime": {
     "end_time": "2024-05-17T00:15:13.905102Z",
     "start_time": "2024-05-17T00:15:13.816162Z"
    },
    "collapsed": false
   },
   "outputs": [],
   "source": [
    "# merge predictions and datasets on ['dataset', 'i']\n",
    "results = datasets.merge(predictions, on=['dataset', 'i'])\n",
    "\n",
    "save_path = Path('~/GitHub/gold-ai-olympiad/data/MATH/Predictions/TF').expanduser()\n",
    "save_path.mkdir(exist_ok=True, parents=True)\n",
    "import json\n",
    "\n",
    "results_copy = results.copy()\n",
    "results_copy['generation_args'] = results_copy['generation_args'].apply(lambda x: x.__dict__)\n",
    "\n",
    "# save each dataset in a different file\n",
    "for dataset_name, dataset in results_copy.groupby('dataset'):\n",
    "    with open(save_path / f'{dataset_name}.json', 'w') as f:\n",
    "        json.dump(dataset.to_dict('records'), f)"
   ]
  },
  {
   "cell_type": "code",
   "execution_count": 33,
   "id": "71311d634e859f10",
   "metadata": {
    "ExecuteTime": {
     "end_time": "2024-05-17T00:08:39.173517Z",
     "start_time": "2024-05-17T00:08:39.126650Z"
    },
    "collapsed": false
   },
   "outputs": [],
   "source": [
    "# load the results and combine them back into a single dataframe\n",
    "results = pd.concat([\n",
    "    pd.read_json(save_path / f)\n",
    "    for f in save_path.iterdir()\n",
    "    if f.suffix == '.json'\n",
    "])"
   ]
  },
  {
   "cell_type": "code",
   "execution_count": 34,
   "id": "24987a27c44b3dd4",
   "metadata": {
    "ExecuteTime": {
     "end_time": "2024-05-17T00:08:41.868550Z",
     "start_time": "2024-05-17T00:08:41.859169Z"
    },
    "collapsed": false
   },
   "outputs": [
    {
     "ename": "TypeError",
     "evalue": "unhashable type: 'dict'",
     "output_type": "error",
     "traceback": [
      "\u001b[0;31m---------------------------------------------------------------------------\u001b[0m",
      "\u001b[0;31mTypeError\u001b[0m                                 Traceback (most recent call last)",
      "Cell \u001b[0;32mIn[34], line 1\u001b[0m\n\u001b[0;32m----> 1\u001b[0m \u001b[38;5;28;43mset\u001b[39;49m\u001b[43m(\u001b[49m\u001b[43mpredictions\u001b[49m\u001b[43m[\u001b[49m\u001b[38;5;124;43m'\u001b[39;49m\u001b[38;5;124;43mprediction\u001b[39;49m\u001b[38;5;124;43m'\u001b[39;49m\u001b[43m]\u001b[49m\u001b[43m)\u001b[49m \u001b[38;5;241m==\u001b[39m \u001b[38;5;28mset\u001b[39m(results[\u001b[38;5;124m'\u001b[39m\u001b[38;5;124mprediction\u001b[39m\u001b[38;5;124m'\u001b[39m])\n",
      "\u001b[0;31mTypeError\u001b[0m: unhashable type: 'dict'"
     ]
    }
   ],
   "source": [
    "set(predictions['prediction']) == set(results['prediction'])"
   ]
  },
  {
   "cell_type": "code",
   "execution_count": 18,
   "id": "8faf247f26f3eef7",
   "metadata": {
    "ExecuteTime": {
     "end_time": "2024-04-29T17:25:37.256949Z",
     "start_time": "2024-04-29T17:25:36.981079Z"
    },
    "collapsed": false
   },
   "outputs": [
    {
     "data": {
      "text/plain": [
       "[{'role': 'user',\n",
       "  'content': 'If 25,197,624 hot dogs are packaged in sets of 4, how many will be left over?\\nPlease reason step by step, and put your final answer within \\\\boxed{}.'},\n",
       " {'role': 'assistant',\n",
       "  'content': 'We look for the remainder when $25,197,624$ is divided by $4$. We could manually divide to see that $4$ divides evenly into $25,197,624$ for a remainder of $0$, but the quicker way is to know the divisibility rule for $4$. If the last two digits of the number form a multiple of $4$, then the number itself is divisible by $4$.  In this case, $24$ is a multiple of $4$, so $25,197,624$ is also a multiple of $4$. That means $\\\\boxed{0}$ hot dogs will be left over.'},\n",
       " {'role': 'user',\n",
       "  'content': 'How many three-digit perfect cubes are divisible by $9?$\\nPlease reason step by step, and put your final answer within \\\\boxed{}.'},\n",
       " {'role': 'assistant',\n",
       "  'content': 'A cube is divisible by $9$ if the number being cubed is divisible by $\\\\sqrt[3]{9}=3^{\\\\frac{2}{3}}.$ Since a perfect cube is the cube of an integer, we need the number being cubed to be a multiple of $3,$ so the cube is of the form $(3n)^3=27n^3$. Since $\\\\frac{999}{27}=37,$ the cubes we need are $27$ times a cube less than or equal to $37,$ of which there are three. However, $27\\\\cdot1^3=27,$ only has two digits, leaving $\\\\boxed{2}$ such three-digit cubes.'},\n",
       " {'role': 'user',\n",
       "  'content': 'What is the base $2$ representation of $84_{10}$?\\nPlease reason step by step, and put your final answer within \\\\boxed{}.'},\n",
       " {'role': 'assistant',\n",
       "  'content': 'We first find that the largest power of $2$ that is less than $84$ is $2^6 = 64$. Our next step is to find the largest power of $2$ that is less than $84 - 64 = 20$ which is $2^4=16$. This leaves us left with $20 - 16 = 4$, but $4 = 2 ^2$, so we have $$84 = 1 \\\\cdot 2^6 + 0 \\\\cdot 2^5 + 1 \\\\cdot 2^4 + 0 \\\\cdot 2^3 + 1 \\\\cdot 2^2 + 0 \\\\cdot 2^1 + 0 \\\\cdot 2^0.$$Thus, our base $2$ representation of $84_{10}$ is $\\\\boxed{1010100_2}$.'},\n",
       " {'role': 'user',\n",
       "  'content': 'How many distinct positive factors does 32 have?\\nPlease reason step by step, and put your final answer within \\\\boxed{}.'},\n",
       " {'role': 'assistant',\n",
       "  'content': 'Since 32 is a power of 2, its only factors are the powers of 2 less than or equal to it.  These are 1, 2, 4, 8, 16, and 32, so there are $\\\\boxed{6}$ positive factors of 32.'},\n",
       " {'role': 'user',\n",
       "  'content': 'If $AAA_4$ can be expressed as $33_b$, where $A$ is a digit in base 4 and $b$ is a base greater than 5, what is the smallest possible sum $A+b$?\\nPlease reason step by step, and put your final answer within \\\\boxed{}.'}]"
      ]
     },
     "execution_count": 18,
     "metadata": {},
     "output_type": "execute_result"
    }
   ],
   "source": [
    "# get the prompts\n",
    "dataset_name = 'Number_Theory_train'\n",
    "prompt_gen = prompt_generator(args)\n",
    "prompts = prompt_gen(Batch(datasets.query('dataset == @dataset_name').to_dict('records')))\n",
    "prompts[0]"
   ]
  },
  {
   "cell_type": "code",
   "execution_count": 97,
   "id": "ec5c627bd692711d",
   "metadata": {
    "ExecuteTime": {
     "end_time": "2024-04-27T22:01:57.180415Z",
     "start_time": "2024-04-27T22:01:57.152378Z"
    },
    "collapsed": false
   },
   "outputs": [
    {
     "data": {
      "text/plain": [
       "'Compute\\n\\\\[\\\\begin{pmatrix} 0 & c & -b \\\\\\\\ -c & 0 & a \\\\\\\\ b & -a & 0 \\\\end{pmatrix} \\\\begin{pmatrix} a^2 & ab & ac \\\\\\\\ ab & b^2 & bc \\\\\\\\ ac & bc & c^2 \\\\end{pmatrix}.\\\\]'"
      ]
     },
     "execution_count": 97,
     "metadata": {},
     "output_type": "execute_result"
    }
   ],
   "source": [
    "ex = datasets.iloc[7005]\n",
    "dataset_name = ex['dataset']\n",
    "i = ex['i']\n",
    "ex['problem']"
   ]
  },
  {
   "cell_type": "code",
   "execution_count": 25,
   "id": "bf84a58d3b601c43",
   "metadata": {
    "ExecuteTime": {
     "end_time": "2024-04-29T18:45:28.803255Z",
     "start_time": "2024-04-29T18:45:28.782747Z"
    },
    "collapsed": false
   },
   "outputs": [
    {
     "data": {
      "text/plain": [
       "Namespace(debug=False, seed=None, model='mistralai/Mistral-7B-Instruct-v0.2', backend='vllm', tensor_parallel_size=1, dataset='math', subset=None, split='train', batch_size=8, use_chat=True, output='/lfs/skampere1/0/kaif/model_evals', override=True, temperature=0.8, top_p=0.95, max_tokens=2048, num_shots=4, method='autoregressive')"
      ]
     },
     "execution_count": 25,
     "metadata": {},
     "output_type": "execute_result"
    }
   ],
   "source": [
    "predictions.query('model == \"Mistral-7b-Instruct-v0.2\"').iloc[10]['generation_args']"
   ]
  },
  {
   "cell_type": "code",
   "execution_count": 99,
   "id": "3ea8c9de936297f7",
   "metadata": {
    "ExecuteTime": {
     "end_time": "2024-04-27T22:02:14.739464Z",
     "start_time": "2024-04-27T22:02:14.665245Z"
    },
    "collapsed": false
   },
   "outputs": [
    {
     "data": {
      "text/plain": [
       "(7500, 75000)"
      ]
     },
     "execution_count": 99,
     "metadata": {},
     "output_type": "execute_result"
    }
   ],
   "source": [
    "len(datasets), len(predictions)"
   ]
  },
  {
   "cell_type": "code",
   "execution_count": 8,
   "id": "4bdd7876a03e2ffa",
   "metadata": {
    "ExecuteTime": {
     "end_time": "2024-04-27T20:22:51.880709Z",
     "start_time": "2024-04-27T20:22:51.867349Z"
    },
    "collapsed": false
   },
   "outputs": [
    {
     "name": "stdout",
     "output_type": "stream",
     "text": [
      "[{'role': 'user', 'content': 'Marcus has two numbers, $a$ and $b$.  When he divides $a$ by 45 he gets a remainder of 37.  When he divides $b$ by 30 he gets a remainder of $9$.  What remainder does he get when he divides $a+b$ by 15?\\nPlease reason step by step, and put your final answer within \\\\boxed{}.'}, {'role': 'assistant', 'content': 'Marcus has two equations: \\\\[a=45n+37\\\\]and \\\\[b=30m+9.\\\\]When he adds these he gets \\\\[a+b=45n+30m+37+9=15(3n+2m)+46=15(3n+2m+3)+1.\\\\]The remainder when $a+b$ is divided by 15 is $\\\\boxed{1}$.'}, {'role': 'user', 'content': 'If $AAA_4$ can be expressed as $33_b$, where $A$ is a digit in base 4 and $b$ is a base greater than 5, what is the smallest possible sum $A+b$?\\nPlease reason step by step, and put your final answer within \\\\boxed{}.'}, {'role': 'assistant', 'content': 'We can rewrite $AAA_4$ and $33_b$ to get \\\\begin{align*}\\n16A+4A+A&=3b+3\\\\quad\\\\Rightarrow\\\\\\\\\\n21A&=3b+3.\\n\\\\end{align*}The smallest possible value for $A$ is 1, which gives us $21=3b+3$ and $b=6$. So the smallest sum $A+b=\\\\boxed{7}$. While there are other values for $A$ and $b$ that work, increasing $A$ will increase $b$, resulting in a larger sum.'}, {'role': 'user', 'content': 'What day of the week will it be 40 days from Tuesday?\\nPlease reason step by step, and put your final answer within \\\\boxed{}.'}, {'role': 'assistant', 'content': 'When you divide 40 days in a week by 7 days, you get a remainder of 5.  Five days from Tuesday is $\\\\boxed{\\\\text{Sunday}}$.'}, {'role': 'user', 'content': 'What is the modular inverse of $11$, modulo $1000$?\\n\\nExpress your answer as an integer from $0$ to $999$, inclusive.\\nPlease reason step by step, and put your final answer within \\\\boxed{}.'}, {'role': 'assistant', 'content': 'We know that the modular inverse exists because $11$ and $1000$ are relatively prime. Notice that $1000 = 10^3$ and that $11 = 10 + 1$. Since $11 \\\\cdot 11^{-1} \\\\equiv 1 \\\\pmod{1000}$, it follows that $(10+1) \\\\cdot 11^{-1} = 10^3k + 1$ for some integer $k$. We recognize the potential sum of cubes factorization: if $k=1$, then $$10^3 + 1 = 1001 = 11 \\\\cdot (10^2 - 10 + 1) = 11 \\\\cdot 91.$$Thus, $11^{-1} \\\\equiv \\\\boxed{91} \\\\pmod{1000}$.'}, {'role': 'user', 'content': 'What is the base-ten number represented by the base-eight number 31?\\nPlease reason step by step, and put your final answer within \\\\boxed{}.'}]\n",
      "================================================================================\n",
      " The base-eight number 31 means $3 \\cdot 8^1 + 1 \\cdot 8^0 = 24 + 1 = 25$. So the base-ten number represented by the base-eight number 31 is 25. The answer is $\\boxed{25}$.\n"
     ]
    }
   ],
   "source": [
    "i = 4\n",
    "print(prompts[i])\n",
    "print('=' * 80)\n",
    "print(predictions.loc[(dataset_name, 'Deepseek-7b-RL', 'autoregressive')].predictions[i])"
   ]
  },
  {
   "cell_type": "code",
   "execution_count": 8,
   "id": "a2b2222bd66bedc9",
   "metadata": {
    "ExecuteTime": {
     "end_time": "2024-04-29T19:09:21.138533Z",
     "start_time": "2024-04-29T19:09:21.121645Z"
    },
    "collapsed": false
   },
   "outputs": [],
   "source": [
    "class Metric():\n",
    "    def __init__(self, datasets):\n",
    "        super().__init__()\n",
    "        self.datasets = datasets\n",
    "\n",
    "    def process(self, predictions):\n",
    "        pass\n",
    "\n",
    "    def __call__(self, predictions):\n",
    "        return self.process(predictions)"
   ]
  },
  {
   "cell_type": "code",
   "execution_count": 14,
   "id": "e6c081d58036e89",
   "metadata": {
    "ExecuteTime": {
     "end_time": "2024-04-29T23:31:09.680247Z",
     "start_time": "2024-04-29T23:31:09.676095Z"
    },
    "collapsed": false
   },
   "outputs": [],
   "source": [
    "# def get_answer(solution: str):\n",
    "#     return latex_deformat(get_boxed_answer(str(solution)))\n",
    "\n",
    "\n",
    "class BoxedMatch(Metric):\n",
    "    def process(self, predictions):\n",
    "        predictions['boxed'] = predictions['prediction'].apply(get_final_answer)\n",
    "        results = self.datasets.merge(predictions, on=['dataset', 'i'], suffixes=('_true', '_pred'))\n",
    "        results['match'] = results['boxed_true'] == results['boxed_pred']\n",
    "\n",
    "        # very slow, probably don't use\n",
    "        # results['match'] = results.apply(lambda x: is_equiv(x['boxed_true'], x['boxed_pred']), axis=1)\n",
    "\n",
    "        # set first columns to be ['dataset', 'i', 'model', 'method', 'boxed_true', 'boxed_pred', 'match', ...]\n",
    "        cols = ['dataset', 'i', 'model', 'method', 'boxed_true', 'boxed_pred', 'match']\n",
    "        cols.extend([col for col in results.columns if col not in cols])\n",
    "        return results[cols]"
   ]
  },
  {
   "cell_type": "code",
   "execution_count": 18,
   "id": "103edd04be73d2a6",
   "metadata": {
    "ExecuteTime": {
     "end_time": "2024-04-29T23:31:34.247618Z",
     "start_time": "2024-04-29T23:31:34.245375Z"
    },
    "collapsed": false
   },
   "outputs": [],
   "source": [
    "def apply_metric(predictions, metric, datasets):\n",
    "    m = metric(datasets)\n",
    "    results = m(predictions)\n",
    "    return results"
   ]
  },
  {
   "cell_type": "code",
   "execution_count": 17,
   "id": "3c8f84b41a0d260e",
   "metadata": {
    "ExecuteTime": {
     "end_time": "2024-04-29T23:31:34.245542Z",
     "start_time": "2024-04-29T23:31:28.538339Z"
    },
    "collapsed": false
   },
   "outputs": [
    {
     "data": {
      "image/png": "[encoded data removed]",
      "text/plain": [
       "<Figure size 640x480 with 1 Axes>"
      ]
     },
     "metadata": {},
     "output_type": "display_data"
    }
   ],
   "source": [
    "boxed_match = apply_metric(predictions, BoxedMatch, datasets)\n",
    "boxed_accuracy = boxed_match.groupby(['model', 'method'])['match'].mean().reset_index().plot(kind='bar', x='model',\n",
    "                                                                                             y='match')"
   ]
  },
  {
   "cell_type": "code",
   "execution_count": 13,
   "id": "894dc9656bfa43d6",
   "metadata": {
    "ExecuteTime": {
     "end_time": "2024-04-29T23:30:49.130749Z",
     "start_time": "2024-04-29T23:30:48.079859Z"
    },
    "collapsed": false
   },
   "outputs": [
    {
     "data": {
      "text/plain": [
       "<Axes: xlabel='model'>"
      ]
     },
     "execution_count": 13,
     "metadata": {},
     "output_type": "execute_result"
    },
    {
     "data": {
      "image/png": "[encoded data removed]",
      "text/plain": [
       "<Figure size 640x480 with 1 Axes>"
      ]
     },
     "metadata": {},
     "output_type": "display_data"
    }
   ],
   "source": [
    "boxed_match.groupby(['model', 'method'])['match'].mean().reset_index().plot(kind='bar', x='model', y='match')"
   ]
  },
  {
   "cell_type": "code",
   "execution_count": 22,
   "id": "39800248146f4cc4",
   "metadata": {
    "ExecuteTime": {
     "end_time": "2024-04-29T17:27:38.738192Z",
     "start_time": "2024-04-29T17:27:37.568695Z"
    },
    "collapsed": false
   },
   "outputs": [
    {
     "data": {
      "image/png": "[encoded data removed]",
      "text/plain": [
       "<Figure size 640x480 with 1 Axes>"
      ]
     },
     "metadata": {},
     "output_type": "display_data"
    }
   ],
   "source": [
    "boxed_match = apply_metric(predictions, BoxedMatch, datasets)\n",
    "boxed_accuracy = boxed_match.groupby(['model', 'method'])['match'].mean().reset_index().plot(kind='bar', x='model',\n",
    "                                                                                             y='match')"
   ]
  },
  {
   "cell_type": "code",
   "execution_count": 176,
   "id": "eb6d703071ad0f5d",
   "metadata": {
    "ExecuteTime": {
     "end_time": "2024-04-27T23:14:42.390883Z",
     "start_time": "2024-04-27T23:14:41.636290Z"
    },
    "collapsed": false
   },
   "outputs": [
    {
     "ename": "ValueError",
     "evalue": "Number of rows must be a positive integer, not 0",
     "output_type": "error",
     "traceback": [
      "\u001b[0;31m---------------------------------------------------------------------------\u001b[0m",
      "\u001b[0;31mValueError\u001b[0m                                Traceback (most recent call last)",
      "Cell \u001b[0;32mIn[176], line 6\u001b[0m\n\u001b[1;32m      2\u001b[0m \u001b[38;5;28;01mimport\u001b[39;00m \u001b[38;5;21;01mmatplotlib\u001b[39;00m\u001b[38;5;21;01m.\u001b[39;00m\u001b[38;5;21;01mpyplot\u001b[39;00m \u001b[38;5;28;01mas\u001b[39;00m \u001b[38;5;21;01mplt\u001b[39;00m\n\u001b[1;32m      5\u001b[0m \u001b[38;5;66;03m# plot each dataset on a separate subplot\u001b[39;00m\n\u001b[0;32m----> 6\u001b[0m g \u001b[38;5;241m=\u001b[39m \u001b[43msns\u001b[49m\u001b[38;5;241;43m.\u001b[39;49m\u001b[43mrelplot\u001b[49m\u001b[43m(\u001b[49m\n\u001b[1;32m      7\u001b[0m \u001b[43m    \u001b[49m\u001b[43mdata\u001b[49m\u001b[38;5;241;43m=\u001b[39;49m\u001b[43mboxed_accuracy\u001b[49m\u001b[43m,\u001b[49m\n\u001b[1;32m      8\u001b[0m \u001b[43m    \u001b[49m\u001b[43mx\u001b[49m\u001b[38;5;241;43m=\u001b[39;49m\u001b[38;5;124;43m'\u001b[39;49m\u001b[38;5;124;43mmodel\u001b[39;49m\u001b[38;5;124;43m'\u001b[39;49m\u001b[43m,\u001b[49m\n\u001b[1;32m      9\u001b[0m \u001b[43m    \u001b[49m\u001b[43my\u001b[49m\u001b[38;5;241;43m=\u001b[39;49m\u001b[38;5;124;43m'\u001b[39;49m\u001b[38;5;124;43mmatch\u001b[39;49m\u001b[38;5;124;43m'\u001b[39;49m\u001b[43m,\u001b[49m\n\u001b[1;32m     10\u001b[0m \u001b[43m    \u001b[49m\u001b[43mhue\u001b[49m\u001b[38;5;241;43m=\u001b[39;49m\u001b[38;5;124;43m'\u001b[39;49m\u001b[38;5;124;43mmodel\u001b[39;49m\u001b[38;5;124;43m'\u001b[39;49m\u001b[43m,\u001b[49m\n\u001b[1;32m     11\u001b[0m \u001b[43m    \u001b[49m\u001b[38;5;66;43;03m# col='dataset',\u001b[39;49;00m\n\u001b[1;32m     12\u001b[0m \u001b[43m    \u001b[49m\u001b[38;5;66;43;03m# kind='bar',\u001b[39;49;00m\n\u001b[1;32m     13\u001b[0m \u001b[43m    \u001b[49m\u001b[43mcol_wrap\u001b[49m\u001b[38;5;241;43m=\u001b[39;49m\u001b[38;5;241;43m3\u001b[39;49m\u001b[43m,\u001b[49m\n\u001b[1;32m     14\u001b[0m \u001b[43m)\u001b[49m\n",
      "File \u001b[0;32m~/conda/envs/TheoremSense/lib/python3.10/site-packages/seaborn/relational.py:946\u001b[0m, in \u001b[0;36mrelplot\u001b[0;34m(data, x, y, hue, size, style, units, row, col, col_wrap, row_order, col_order, palette, hue_order, hue_norm, sizes, size_order, size_norm, markers, dashes, style_order, legend, kind, height, aspect, facet_kws, **kwargs)\u001b[0m\n\u001b[1;32m    944\u001b[0m \u001b[38;5;66;03m# Set up the FacetGrid object\u001b[39;00m\n\u001b[1;32m    945\u001b[0m facet_kws \u001b[38;5;241m=\u001b[39m {} \u001b[38;5;28;01mif\u001b[39;00m facet_kws \u001b[38;5;129;01mis\u001b[39;00m \u001b[38;5;28;01mNone\u001b[39;00m \u001b[38;5;28;01melse\u001b[39;00m facet_kws\u001b[38;5;241m.\u001b[39mcopy()\n\u001b[0;32m--> 946\u001b[0m g \u001b[38;5;241m=\u001b[39m \u001b[43mFacetGrid\u001b[49m\u001b[43m(\u001b[49m\n\u001b[1;32m    947\u001b[0m \u001b[43m    \u001b[49m\u001b[43mdata\u001b[49m\u001b[38;5;241;43m=\u001b[39;49m\u001b[43mfull_data\u001b[49m\u001b[38;5;241;43m.\u001b[39;49m\u001b[43mdropna\u001b[49m\u001b[43m(\u001b[49m\u001b[43maxis\u001b[49m\u001b[38;5;241;43m=\u001b[39;49m\u001b[38;5;241;43m1\u001b[39;49m\u001b[43m,\u001b[49m\u001b[43m \u001b[49m\u001b[43mhow\u001b[49m\u001b[38;5;241;43m=\u001b[39;49m\u001b[38;5;124;43m\"\u001b[39;49m\u001b[38;5;124;43mall\u001b[39;49m\u001b[38;5;124;43m\"\u001b[39;49m\u001b[43m)\u001b[49m\u001b[43m,\u001b[49m\n\u001b[1;32m    948\u001b[0m \u001b[43m    \u001b[49m\u001b[38;5;241;43m*\u001b[39;49m\u001b[38;5;241;43m*\u001b[39;49m\u001b[43mgrid_kws\u001b[49m\u001b[43m,\u001b[49m\n\u001b[1;32m    949\u001b[0m \u001b[43m    \u001b[49m\u001b[43mcol_wrap\u001b[49m\u001b[38;5;241;43m=\u001b[39;49m\u001b[43mcol_wrap\u001b[49m\u001b[43m,\u001b[49m\u001b[43m \u001b[49m\u001b[43mrow_order\u001b[49m\u001b[38;5;241;43m=\u001b[39;49m\u001b[43mrow_order\u001b[49m\u001b[43m,\u001b[49m\u001b[43m \u001b[49m\u001b[43mcol_order\u001b[49m\u001b[38;5;241;43m=\u001b[39;49m\u001b[43mcol_order\u001b[49m\u001b[43m,\u001b[49m\n\u001b[1;32m    950\u001b[0m \u001b[43m    \u001b[49m\u001b[43mheight\u001b[49m\u001b[38;5;241;43m=\u001b[39;49m\u001b[43mheight\u001b[49m\u001b[43m,\u001b[49m\u001b[43m \u001b[49m\u001b[43maspect\u001b[49m\u001b[38;5;241;43m=\u001b[39;49m\u001b[43maspect\u001b[49m\u001b[43m,\u001b[49m\u001b[43m \u001b[49m\u001b[43mdropna\u001b[49m\u001b[38;5;241;43m=\u001b[39;49m\u001b[38;5;28;43;01mFalse\u001b[39;49;00m\u001b[43m,\u001b[49m\n\u001b[1;32m    951\u001b[0m \u001b[43m    \u001b[49m\u001b[38;5;241;43m*\u001b[39;49m\u001b[38;5;241;43m*\u001b[39;49m\u001b[43mfacet_kws\u001b[49m\n\u001b[1;32m    952\u001b[0m \u001b[43m\u001b[49m\u001b[43m)\u001b[49m\n\u001b[1;32m    954\u001b[0m \u001b[38;5;66;03m# Draw the plot\u001b[39;00m\n\u001b[1;32m    955\u001b[0m g\u001b[38;5;241m.\u001b[39mmap_dataframe(func, \u001b[38;5;241m*\u001b[39m\u001b[38;5;241m*\u001b[39mplot_kws)\n",
      "File \u001b[0;32m~/conda/envs/TheoremSense/lib/python3.10/site-packages/seaborn/axisgrid.py:476\u001b[0m, in \u001b[0;36mFacetGrid.__init__\u001b[0;34m(self, data, row, col, hue, col_wrap, sharex, sharey, height, aspect, palette, row_order, col_order, hue_order, hue_kws, dropna, legend_out, despine, margin_titles, xlim, ylim, subplot_kws, gridspec_kws)\u001b[0m\n\u001b[1;32m    474\u001b[0m n_axes \u001b[38;5;241m=\u001b[39m \u001b[38;5;28mlen\u001b[39m(col_names)\n\u001b[1;32m    475\u001b[0m axes \u001b[38;5;241m=\u001b[39m np\u001b[38;5;241m.\u001b[39mempty(n_axes, \u001b[38;5;28mobject\u001b[39m)\n\u001b[0;32m--> 476\u001b[0m axes[\u001b[38;5;241m0\u001b[39m] \u001b[38;5;241m=\u001b[39m \u001b[43mfig\u001b[49m\u001b[38;5;241;43m.\u001b[39;49m\u001b[43madd_subplot\u001b[49m\u001b[43m(\u001b[49m\u001b[43mnrow\u001b[49m\u001b[43m,\u001b[49m\u001b[43m \u001b[49m\u001b[43mncol\u001b[49m\u001b[43m,\u001b[49m\u001b[43m \u001b[49m\u001b[38;5;241;43m1\u001b[39;49m\u001b[43m,\u001b[49m\u001b[43m \u001b[49m\u001b[38;5;241;43m*\u001b[39;49m\u001b[38;5;241;43m*\u001b[39;49m\u001b[43msubplot_kws\u001b[49m\u001b[43m)\u001b[49m\n\u001b[1;32m    477\u001b[0m \u001b[38;5;28;01mif\u001b[39;00m sharex:\n\u001b[1;32m    478\u001b[0m     subplot_kws[\u001b[38;5;124m\"\u001b[39m\u001b[38;5;124msharex\u001b[39m\u001b[38;5;124m\"\u001b[39m] \u001b[38;5;241m=\u001b[39m axes[\u001b[38;5;241m0\u001b[39m]\n",
      "File \u001b[0;32m~/conda/envs/TheoremSense/lib/python3.10/site-packages/matplotlib/figure.py:782\u001b[0m, in \u001b[0;36mFigureBase.add_subplot\u001b[0;34m(self, *args, **kwargs)\u001b[0m\n\u001b[1;32m    780\u001b[0m         args \u001b[38;5;241m=\u001b[39m \u001b[38;5;28mtuple\u001b[39m(\u001b[38;5;28mmap\u001b[39m(\u001b[38;5;28mint\u001b[39m, \u001b[38;5;28mstr\u001b[39m(args[\u001b[38;5;241m0\u001b[39m])))\n\u001b[1;32m    781\u001b[0m     projection_class, pkw \u001b[38;5;241m=\u001b[39m \u001b[38;5;28mself\u001b[39m\u001b[38;5;241m.\u001b[39m_process_projection_requirements(\u001b[38;5;241m*\u001b[39m\u001b[38;5;241m*\u001b[39mkwargs)\n\u001b[0;32m--> 782\u001b[0m     ax \u001b[38;5;241m=\u001b[39m \u001b[43mprojection_class\u001b[49m\u001b[43m(\u001b[49m\u001b[38;5;28;43mself\u001b[39;49m\u001b[43m,\u001b[49m\u001b[43m \u001b[49m\u001b[38;5;241;43m*\u001b[39;49m\u001b[43margs\u001b[49m\u001b[43m,\u001b[49m\u001b[43m \u001b[49m\u001b[38;5;241;43m*\u001b[39;49m\u001b[38;5;241;43m*\u001b[39;49m\u001b[43mpkw\u001b[49m\u001b[43m)\u001b[49m\n\u001b[1;32m    783\u001b[0m     key \u001b[38;5;241m=\u001b[39m (projection_class, pkw)\n\u001b[1;32m    784\u001b[0m \u001b[38;5;28;01mreturn\u001b[39;00m \u001b[38;5;28mself\u001b[39m\u001b[38;5;241m.\u001b[39m_add_axes_internal(ax, key)\n",
      "File \u001b[0;32m~/conda/envs/TheoremSense/lib/python3.10/site-packages/matplotlib/axes/_base.py:639\u001b[0m, in \u001b[0;36m_AxesBase.__init__\u001b[0;34m(self, fig, facecolor, frameon, sharex, sharey, label, xscale, yscale, box_aspect, *args, **kwargs)\u001b[0m\n\u001b[1;32m    637\u001b[0m \u001b[38;5;28;01melse\u001b[39;00m:\n\u001b[1;32m    638\u001b[0m     \u001b[38;5;28mself\u001b[39m\u001b[38;5;241m.\u001b[39m_position \u001b[38;5;241m=\u001b[39m \u001b[38;5;28mself\u001b[39m\u001b[38;5;241m.\u001b[39m_originalPosition \u001b[38;5;241m=\u001b[39m mtransforms\u001b[38;5;241m.\u001b[39mBbox\u001b[38;5;241m.\u001b[39munit()\n\u001b[0;32m--> 639\u001b[0m     subplotspec \u001b[38;5;241m=\u001b[39m \u001b[43mSubplotSpec\u001b[49m\u001b[38;5;241;43m.\u001b[39;49m\u001b[43m_from_subplot_args\u001b[49m\u001b[43m(\u001b[49m\u001b[43mfig\u001b[49m\u001b[43m,\u001b[49m\u001b[43m \u001b[49m\u001b[43margs\u001b[49m\u001b[43m)\u001b[49m\n\u001b[1;32m    640\u001b[0m \u001b[38;5;28;01mif\u001b[39;00m \u001b[38;5;28mself\u001b[39m\u001b[38;5;241m.\u001b[39m_position\u001b[38;5;241m.\u001b[39mwidth \u001b[38;5;241m<\u001b[39m \u001b[38;5;241m0\u001b[39m \u001b[38;5;129;01mor\u001b[39;00m \u001b[38;5;28mself\u001b[39m\u001b[38;5;241m.\u001b[39m_position\u001b[38;5;241m.\u001b[39mheight \u001b[38;5;241m<\u001b[39m \u001b[38;5;241m0\u001b[39m:\n\u001b[1;32m    641\u001b[0m     \u001b[38;5;28;01mraise\u001b[39;00m \u001b[38;5;167;01mValueError\u001b[39;00m(\u001b[38;5;124m'\u001b[39m\u001b[38;5;124mWidth and height specified must be non-negative\u001b[39m\u001b[38;5;124m'\u001b[39m)\n",
      "File \u001b[0;32m~/conda/envs/TheoremSense/lib/python3.10/site-packages/matplotlib/gridspec.py:588\u001b[0m, in \u001b[0;36mSubplotSpec._from_subplot_args\u001b[0;34m(figure, args)\u001b[0m\n\u001b[1;32m    585\u001b[0m \u001b[38;5;28;01melse\u001b[39;00m:\n\u001b[1;32m    586\u001b[0m     \u001b[38;5;28;01mraise\u001b[39;00m _api\u001b[38;5;241m.\u001b[39mnargs_error(\u001b[38;5;124m\"\u001b[39m\u001b[38;5;124msubplot\u001b[39m\u001b[38;5;124m\"\u001b[39m, takes\u001b[38;5;241m=\u001b[39m\u001b[38;5;124m\"\u001b[39m\u001b[38;5;124m1 or 3\u001b[39m\u001b[38;5;124m\"\u001b[39m, given\u001b[38;5;241m=\u001b[39m\u001b[38;5;28mlen\u001b[39m(args))\n\u001b[0;32m--> 588\u001b[0m gs \u001b[38;5;241m=\u001b[39m \u001b[43mGridSpec\u001b[49m\u001b[38;5;241;43m.\u001b[39;49m\u001b[43m_check_gridspec_exists\u001b[49m\u001b[43m(\u001b[49m\u001b[43mfigure\u001b[49m\u001b[43m,\u001b[49m\u001b[43m \u001b[49m\u001b[43mrows\u001b[49m\u001b[43m,\u001b[49m\u001b[43m \u001b[49m\u001b[43mcols\u001b[49m\u001b[43m)\u001b[49m\n\u001b[1;32m    589\u001b[0m \u001b[38;5;28;01mif\u001b[39;00m gs \u001b[38;5;129;01mis\u001b[39;00m \u001b[38;5;28;01mNone\u001b[39;00m:\n\u001b[1;32m    590\u001b[0m     gs \u001b[38;5;241m=\u001b[39m GridSpec(rows, cols, figure\u001b[38;5;241m=\u001b[39mfigure)\n",
      "File \u001b[0;32m~/conda/envs/TheoremSense/lib/python3.10/site-packages/matplotlib/gridspec.py:225\u001b[0m, in \u001b[0;36mGridSpecBase._check_gridspec_exists\u001b[0;34m(figure, nrows, ncols)\u001b[0m\n\u001b[1;32m    223\u001b[0m             \u001b[38;5;28;01mreturn\u001b[39;00m gs\n\u001b[1;32m    224\u001b[0m \u001b[38;5;66;03m# else gridspec not found:\u001b[39;00m\n\u001b[0;32m--> 225\u001b[0m \u001b[38;5;28;01mreturn\u001b[39;00m \u001b[43mGridSpec\u001b[49m\u001b[43m(\u001b[49m\u001b[43mnrows\u001b[49m\u001b[43m,\u001b[49m\u001b[43m \u001b[49m\u001b[43mncols\u001b[49m\u001b[43m,\u001b[49m\u001b[43m \u001b[49m\u001b[43mfigure\u001b[49m\u001b[38;5;241;43m=\u001b[39;49m\u001b[43mfigure\u001b[49m\u001b[43m)\u001b[49m\n",
      "File \u001b[0;32m~/conda/envs/TheoremSense/lib/python3.10/site-packages/matplotlib/gridspec.py:378\u001b[0m, in \u001b[0;36mGridSpec.__init__\u001b[0;34m(self, nrows, ncols, figure, left, bottom, right, top, wspace, hspace, width_ratios, height_ratios)\u001b[0m\n\u001b[1;32m    375\u001b[0m \u001b[38;5;28mself\u001b[39m\u001b[38;5;241m.\u001b[39mhspace \u001b[38;5;241m=\u001b[39m hspace\n\u001b[1;32m    376\u001b[0m \u001b[38;5;28mself\u001b[39m\u001b[38;5;241m.\u001b[39mfigure \u001b[38;5;241m=\u001b[39m figure\n\u001b[0;32m--> 378\u001b[0m \u001b[38;5;28;43msuper\u001b[39;49m\u001b[43m(\u001b[49m\u001b[43m)\u001b[49m\u001b[38;5;241;43m.\u001b[39;49m\u001b[38;5;21;43m__init__\u001b[39;49m\u001b[43m(\u001b[49m\u001b[43mnrows\u001b[49m\u001b[43m,\u001b[49m\u001b[43m \u001b[49m\u001b[43mncols\u001b[49m\u001b[43m,\u001b[49m\n\u001b[1;32m    379\u001b[0m \u001b[43m                 \u001b[49m\u001b[43mwidth_ratios\u001b[49m\u001b[38;5;241;43m=\u001b[39;49m\u001b[43mwidth_ratios\u001b[49m\u001b[43m,\u001b[49m\n\u001b[1;32m    380\u001b[0m \u001b[43m                 \u001b[49m\u001b[43mheight_ratios\u001b[49m\u001b[38;5;241;43m=\u001b[39;49m\u001b[43mheight_ratios\u001b[49m\u001b[43m)\u001b[49m\n",
      "File \u001b[0;32m~/conda/envs/TheoremSense/lib/python3.10/site-packages/matplotlib/gridspec.py:48\u001b[0m, in \u001b[0;36mGridSpecBase.__init__\u001b[0;34m(self, nrows, ncols, height_ratios, width_ratios)\u001b[0m\n\u001b[1;32m     33\u001b[0m \u001b[38;5;250m\u001b[39m\u001b[38;5;124;03m\"\"\"\u001b[39;00m\n\u001b[1;32m     34\u001b[0m \u001b[38;5;124;03mParameters\u001b[39;00m\n\u001b[1;32m     35\u001b[0m \u001b[38;5;124;03m----------\u001b[39;00m\n\u001b[0;32m   (...)\u001b[0m\n\u001b[1;32m     45\u001b[0m \u001b[38;5;124;03m    If not given, all rows will have the same height.\u001b[39;00m\n\u001b[1;32m     46\u001b[0m \u001b[38;5;124;03m\"\"\"\u001b[39;00m\n\u001b[1;32m     47\u001b[0m \u001b[38;5;28;01mif\u001b[39;00m \u001b[38;5;129;01mnot\u001b[39;00m \u001b[38;5;28misinstance\u001b[39m(nrows, Integral) \u001b[38;5;129;01mor\u001b[39;00m nrows \u001b[38;5;241m<\u001b[39m\u001b[38;5;241m=\u001b[39m \u001b[38;5;241m0\u001b[39m:\n\u001b[0;32m---> 48\u001b[0m     \u001b[38;5;28;01mraise\u001b[39;00m \u001b[38;5;167;01mValueError\u001b[39;00m(\n\u001b[1;32m     49\u001b[0m         \u001b[38;5;124mf\u001b[39m\u001b[38;5;124m\"\u001b[39m\u001b[38;5;124mNumber of rows must be a positive integer, not \u001b[39m\u001b[38;5;132;01m{\u001b[39;00mnrows\u001b[38;5;132;01m!r}\u001b[39;00m\u001b[38;5;124m\"\u001b[39m)\n\u001b[1;32m     50\u001b[0m \u001b[38;5;28;01mif\u001b[39;00m \u001b[38;5;129;01mnot\u001b[39;00m \u001b[38;5;28misinstance\u001b[39m(ncols, Integral) \u001b[38;5;129;01mor\u001b[39;00m ncols \u001b[38;5;241m<\u001b[39m\u001b[38;5;241m=\u001b[39m \u001b[38;5;241m0\u001b[39m:\n\u001b[1;32m     51\u001b[0m     \u001b[38;5;28;01mraise\u001b[39;00m \u001b[38;5;167;01mValueError\u001b[39;00m(\n\u001b[1;32m     52\u001b[0m         \u001b[38;5;124mf\u001b[39m\u001b[38;5;124m\"\u001b[39m\u001b[38;5;124mNumber of columns must be a positive integer, not \u001b[39m\u001b[38;5;132;01m{\u001b[39;00mncols\u001b[38;5;132;01m!r}\u001b[39;00m\u001b[38;5;124m\"\u001b[39m)\n",
      "\u001b[0;31mValueError\u001b[0m: Number of rows must be a positive integer, not 0"
     ]
    },
    {
     "data": {
      "text/plain": [
       "<Figure size 1500x0 with 0 Axes>"
      ]
     },
     "metadata": {},
     "output_type": "display_data"
    }
   ],
   "source": [
    "import seaborn as sns\n",
    "import matplotlib.pyplot as plt\n",
    "\n",
    "# plot each dataset on a separate subplot\n",
    "g = sns.relplot(\n",
    "    data=boxed_accuracy,\n",
    "    x='model',\n",
    "    y='match',\n",
    "    hue='model',\n",
    "    col='dataset',\n",
    "    # kind='bar',\n",
    "    col_wrap=3,\n",
    ")"
   ]
  },
  {
   "cell_type": "code",
   "execution_count": 20,
   "id": "e2b53c115279e25",
   "metadata": {
    "ExecuteTime": {
     "end_time": "2024-04-25T22:34:21.273420Z",
     "start_time": "2024-04-25T22:34:21.266035Z"
    },
    "collapsed": false
   },
   "outputs": [
    {
     "name": "stdout",
     "output_type": "stream",
     "text": [
      "Question:\n",
      "[{'role': 'user', 'content': 'Let $A$ be the set of all numbers which can be represented as the sum of three consecutive positive integers. What is the greatest common divisor of all numbers in $A$?\\nPlease reason step by step, and put your final answer within \\\\boxed{}.'}, {'role': 'assistant', 'content': 'Each member in the set is of the form $(x-1)+x+(x+1)=3x$. Since $x$ can be any positive integer, the greatest common divisor of all these members is $\\\\boxed{3}$.'}, {'role': 'user', 'content': 'How many integers between 100 and 300 have both 11 and 8 as factors?\\nPlease reason step by step, and put your final answer within \\\\boxed{}.'}, {'role': 'assistant', 'content': 'The only numbers that have 11 and 8 as a factor are multiples of 88.  If we list the first few multiples of 88: $$88,176,264,352,...$$ we can see that there are exactly $\\\\boxed{2}$ between 100 and 300.'}, {'role': 'user', 'content': 'Express .$\\\\overline{28}$ as a common fraction.\\nPlease reason step by step, and put your final answer within \\\\boxed{}.'}, {'role': 'assistant', 'content': 'If $x=.\\\\overline{28}$, then $100x=28.\\\\overline{28}$. Notice that we can eliminate the repeating decimal by subtracting $.\\\\overline{28}$ from $28.\\\\overline{28}$. We have $100x-x=99x=28$, so $x=\\\\frac{28}{99}$. The repeating decimal can be expressed as the fraction $\\\\boxed{\\\\frac{28}{99}}$.'}, {'role': 'user', 'content': 'We know the following to be true:\\n\\n$\\\\bullet$ 1.  $Z$ and $K$ are integers with $500 < Z < 1000$ and $K > 1;$\\n\\n$\\\\bullet$ 2.  $Z$ = $K \\\\times K^2.$\\n\\nWhat is the value of $K$ for which $Z$ is a perfect square?\\nPlease reason step by step, and put your final answer within \\\\boxed{}.'}, {'role': 'assistant', 'content': 'From the second fact, we know that $Z=K^3.$ $Z$ is a perfect square if $K^3$ is a perfect square, so $Z$ is the sixth power of some integer. Since $500<Z<1000,$ the only value of $Z$ that works is $Z=3^6=729.$ Thus, $K=\\\\sqrt[3]{729}=\\\\boxed{9}.$'}, {'role': 'user', 'content': 'How many factors of 8000 are perfect squares?\\nPlease reason step by step, and put your final answer within \\\\boxed{}.'}, {'role': 'assistant', 'content': 'Any factor of $8000=2^6\\\\cdot5^3$ is in the form $2^a\\\\cdot5^b$ for $0\\\\le a\\\\le6$ and $0\\\\le b\\\\le3$. To count the number of perfect square factors, we must count the factors of $2^6\\\\cdot5^3$ that have $a=0$, $2$, $4$ or $6$ and $b=0$ or $2$. This gives $4\\\\cdot2=\\\\boxed{8}$ perfect square factors.'}, {'role': 'user', 'content': 'How many $3$-digit squares are palindromes?\\nPlease reason step by step, and put your final answer within \\\\boxed{}.'}]\n",
      "Answer:\n",
      "A palindrome is a number that remains the same when its digits are reversed. So the palindromes we're interested in are of the form $abcabc$, where $a$, $b$, and $c$ are digits. Then $abcabc=a(1001001)$. We're looking for the squares of $3$-digit numbers, so we need $100\\le a\\le999$.\n",
      "\n",
      "Since $1001001=7\\cdot11\\cdot13\\cdot1001$, the only squares that are multiples of $1001001$ are multiples of $7^2\\cdot11^2\\cdot13^2=2197\\cdot121\\cdot169$. \n",
      "\n",
      "Notice that the square of a number of the form $10a+b$ is $(10a+b)^2=100a^2+20ab+b^2=10(10a^2+2ab)+b^2$. Thus, the square of a $3$-digit number is of the form $10x+y$, where $x$ is a multiple of $9$ and $y$ is a $2$-digit number which is a multiple of $49$.\n",
      "\n",
      "We need $x$ to be a multiple of $169$, so $x$ must be of the form $169m$, where $m$ is a positive integer. Then the square is $10(1690m^2+338m)+y$. \n",
      "\n",
      "Notice that the $1001$st multiple of $169$ is $169+1001\\cdot169=16497$, which is not a perfect square. So the smallest perfect square that is a multiple of $169$ is $(169)^2$.\n",
      "\n",
      "Thus, the smallest $3$-digit palindrome square is $(100)^2=10000$, which is not a palindrome square, and the largest $3$-digit palindrome square is $(999)^2=998001$. \n",
      "\n",
      "So we need to find all the squares of the form $10x+y$ in the interval $10000\\le10x+y\\le998001$.\n",
      "\n",
      "Notice that $10000=10(1000)+0$, $10101=10(1010)+1$, $10204=10(1020)+4$, and so on. Thus, the squares we're interested in are of the form $10(10m^2+2m+n)+n^2$.\n",
      "\n",
      "Thus, we need to find the number of positive integers $m$ and $n$ for which $1000\\le10m^2+2m+n\\le998$ and $n^2\\le998$.\n",
      "\n",
      "Notice that the smallest value of $10m^2+2m$ is $10(1)^2+2(1)=12$. Since $1000-12=988$, we need $n\\le\\sqrt{988}<31.4$. Thus, $n$ must be one of $1,2,3,\\ldots,30$.\n",
      "\n",
      "Then we need to find the number of positive integers $m$ for which $10m^2+2m+n\\le998$ for each $n$.\n",
      "\n",
      "Notice that $10m^2+2m+n=10(m+\\frac{1}{10})^2+(n-\\frac{1}{5})$. Since $m$ is a positive integer, $m+\\frac{1}{10}\\ge\\frac{11}{10}$. Thus, we need $$10(m+\\frac{1}{10})^2\\le998-n+\\frac{1}{5}$$ for each $n$.\n",
      "\n",
      "Then we need $m\\le\\sqrt{\\frac{998-n+\\frac{1}{5}}{10}}-\\frac{1}{10}$ for each $n$.\n",
      "\n",
      "Notice that $\\sqrt{\\frac{998-n+\\frac{1}{5}}{10}}-\\frac{1}{10}$ is decreasing in $n$, so we can find the maximum $m$ by finding the largest $n$ for which $m$ is an integer.\n",
      "\n",
      "Thus, we need to find the largest $n$ for which $\\lfloor\\sqrt{\\frac{998-n+\\frac{1}{5}}{10}}-\\frac{1}{10}\\rfloor\\ge1$.\n",
      "\n",
      "Notice that $\\sqrt{\\frac{998-n+\\frac{1}{5}}{10}}-\\frac{1}{10}$ is approximately $9.9367$ for $n=1$, $9.8811$ for $n=2$, $9.8255$ for $n=3$, and so on. Thus, the largest $n$ is $n=1$.\n",
      "\n",
      "Then we need $\\lfloor\\sqrt{\\frac{998-1+\\frac{1}{5}}{10}}-\\frac{1}{10}\\rfloor\\ge1$, so we need $\\lfloor\\sqrt{\\frac{999.2}{10}}-\\frac{1}{10}\\rfloor\\ge1$.\n",
      "\n",
      "Notice that $\\sqrt{\\frac{999.2}{10}}-\\frac{1}{10}\\approx9.9449$, so the largest $n$ is $n=1$.\n",
      "\n",
      "Then we need $10m^2+2m+1\\le998$, so we need $10m^2+2m-997\\le0$.\n",
      "\n",
      "Notice that the discriminant of $10m^2+2m-997$ is $100+3988=4088=2^3\\cdot507$. Thus, there are $3+\\frac{507-1}{4}=128$ integers $m$ that satisfy $10m^2+2m-997\\le0$.\n",
      "\n",
      "Thus, there are $30$ numbers of the form $10x+n^2$ in the interval $1000\\le10x+n^2\\le998$ for $n=1,2,3,\\ldots,30$.\n",
      "\n",
      "Thus, the number of $3$-digit palindrome squares is $\\boxed{30}$.\n"
     ]
    }
   ],
   "source": [
    "i = 5\n",
    "print('Question:')\n",
    "print(prompts[i])\n",
    "print('Answer:')\n",
    "print(outputs[i])"
   ]
  }
 ],
 "metadata": {
  "kernelspec": {
   "display_name": "Python 3",
   "language": "python",
   "name": "python3"
  },
  "language_info": {
   "codemirror_mode": {
    "name": "ipython",
    "version": 2
   },
   "file_extension": ".py",
   "mimetype": "text/x-python",
   "name": "python",
   "nbconvert_exporter": "python",
   "pygments_lexer": "ipython2",
   "version": "2.7.6"
  }
 },
 "nbformat": 4,
 "nbformat_minor": 5
}
