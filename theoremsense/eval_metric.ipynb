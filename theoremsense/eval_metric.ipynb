{
 "cells": [
  {
   "cell_type": "code",
   "execution_count": 1,
   "id": "initial_id",
   "metadata": {
    "ExecuteTime": {
     "end_time": "2024-04-27T21:23:28.061566Z",
     "start_time": "2024-04-27T21:23:25.070965Z"
    },
    "collapsed": true
   },
   "outputs": [],
   "source": [
    "import os\n",
    "\n",
    "os.environ[\"CUDA_DEVICE_ORDER\"] = \"PCI_BUS_ID\"\n",
    "os.environ[\"CUDA_VISIBLE_DEVICES\"] = \"0,1,2,3\"\n",
    "\n",
    "from pathlib import Path\n",
    "import json\n",
    "from utils import load_arguments, get_boxed_answer\n",
    "from latex_formater import latex_deformat\n",
    "from model_generate import load_datasets, prompt_generator, load_model\n",
    "from blocks import Batch, Block\n",
    "import pandas as pd\n",
    "\n",
    "root_dir = Path('~/model_evals').expanduser()\n",
    "\n",
    "# load the name maps\n",
    "with open('name_maps.json', 'r') as f:\n",
    "    name_maps = json.load(f)\n",
    "    DATASET_MAP = name_maps['DATASET_MAP']\n",
    "    MODEL_MAP = name_maps['MODEL_MAP']"
   ]
  },
  {
   "cell_type": "code",
   "execution_count": 15,
   "id": "4580da4305abc03b",
   "metadata": {
    "ExecuteTime": {
     "end_time": "2024-04-27T21:29:20.595425Z",
     "start_time": "2024-04-27T21:29:20.422354Z"
    },
    "collapsed": false
   },
   "outputs": [],
   "source": [
    "def load_predictions(path):\n",
    "    with open(path / 'output.json', 'r') as f:\n",
    "        return json.load(f)\n",
    "\n",
    "\n",
    "predictions = [\n",
    "    {\n",
    "        'dataset': dataset.name,\n",
    "        'model': model.name,\n",
    "        'method': method.name,\n",
    "        'predictions': load_predictions(method),\n",
    "        'generation_args': load_arguments(method / 'args.json').__dict__\n",
    "    }\n",
    "    for dataset in root_dir.iterdir()\n",
    "    for model in dataset.iterdir()\n",
    "    for method in model.iterdir()\n",
    "]\n",
    "args = predictions[0]['generation_args']\n",
    "# load using pandas instead\n",
    "# predictions = pd.DataFrame(\n",
    "#     [\n",
    "#         {\n",
    "#             'dataset': dataset.name,\n",
    "#             'model': model.name,\n",
    "#             'method': method.name,\n",
    "#             'predictions': load_predictions(method),\n",
    "#             'args': load_arguments(method / 'args.json')\n",
    "#         }\n",
    "#         for dataset in root_dir.iterdir()\n",
    "#         for model in dataset.iterdir()\n",
    "#         for method in model.iterdir()\n",
    "#     ]\n",
    "# )\n",
    "\n",
    "# predictions.set_index(['dataset', 'model', 'method'], inplace=True)\n",
    "# args = predictions.iloc[0].args"
   ]
  },
  {
   "cell_type": "code",
   "execution_count": 16,
   "id": "d3224f3b36ef084c",
   "metadata": {
    "ExecuteTime": {
     "end_time": "2024-04-27T21:29:23.954923Z",
     "start_time": "2024-04-27T21:29:23.753578Z"
    },
    "collapsed": false
   },
   "outputs": [],
   "source": [
    "save_path = Path('~/GitHub/gold-ai-olympiad/data/MATH/Predictions/predictions.json').expanduser()\n",
    "import json\n",
    "with open(save_path, 'w') as f:\n",
    "    json.dump(predictions, f, indent=4)"
   ]
  },
  {
   "cell_type": "code",
   "execution_count": 3,
   "id": "b7a90658e8783a4",
   "metadata": {
    "ExecuteTime": {
     "end_time": "2024-04-25T22:20:57.351638Z",
     "start_time": "2024-04-25T22:20:57.343830Z"
    },
    "collapsed": false
   },
   "outputs": [],
   "source": [
    "# args.model = 'mistralai/Mistral-7B-Instruct-v0.2'\n",
    "# args.use_chat = True\n",
    "# args.model = 'mistralai/Mixtral-8x7B-Instruct-v0.1'\n",
    "# args.use_chat = True\n",
    "# args.model = 'tiiuae/falcon-7b'  # Don't use?\n",
    "# args.use_chat = False\n",
    "# args.model = 'meta-llama/Llama-2-7b-chat--hf'\n",
    "# args.use_chat = True\n",
    "# args.model = 'meta-llama/Llama-2-13b-chat-hf'\n",
    "# args.use_chat = True\n",
    "# args.model = 'meta-llama/Llama-2-70b-chat-hf'\n",
    "# args.use_chat = True\n",
    "# args.model = 'meta-llama/Meta-Llama-3-8B-Instruct'\n",
    "# args.use_chat = True\n",
    "# args.model = 'meta-llama/Meta-Llama-3-70B-Instruct'\n",
    "# args.use_chat = True\n",
    "# args.model = 'deepseek-ai/deepseek-math-7b-instruct'\n",
    "# args.use_chat = True\n",
    "# args.model = 'deepseek-ai/deepseek-llm-67b-chat'\n",
    "# args.use_chat = True"
   ]
  },
  {
   "cell_type": "code",
   "execution_count": 3,
   "id": "1a0563f7dd7bcd2a",
   "metadata": {
    "ExecuteTime": {
     "end_time": "2024-04-27T20:20:01.967260Z",
     "start_time": "2024-04-27T20:19:57.494422Z"
    },
    "collapsed": false
   },
   "outputs": [],
   "source": [
    "%%capture\n",
    "datasets = load_datasets(args)\n",
    "datasets = {f'{DATASET_MAP[dataset_name]}_{args.split}': dataset for dataset_name, dataset in datasets.items()}"
   ]
  },
  {
   "cell_type": "code",
   "execution_count": 7,
   "id": "8faf247f26f3eef7",
   "metadata": {
    "ExecuteTime": {
     "end_time": "2024-04-27T20:22:50.197326Z",
     "start_time": "2024-04-27T20:22:49.903686Z"
    },
    "collapsed": false
   },
   "outputs": [],
   "source": [
    "# get the prompts\n",
    "dataset_name = 'Number_Theory_train'\n",
    "prompt_gen = prompt_generator(args)\n",
    "prompts = prompt_gen(Batch(datasets[dataset_name]))"
   ]
  },
  {
   "cell_type": "code",
   "execution_count": 18,
   "id": "ec5c627bd692711d",
   "metadata": {
    "ExecuteTime": {
     "end_time": "2024-04-27T21:02:21.463518Z",
     "start_time": "2024-04-27T21:02:21.449540Z"
    },
    "collapsed": false
   },
   "outputs": [
    {
     "data": {
      "text/plain": [
       "{'problem': 'If $AAA_4$ can be expressed as $33_b$, where $A$ is a digit in base 4 and $b$ is a base greater than 5, what is the smallest possible sum $A+b$?',\n",
       " 'level': 'Level 4',\n",
       " 'type': 'Number Theory',\n",
       " 'solution': 'We can rewrite $AAA_4$ and $33_b$ to get \\\\begin{align*}\\n16A+4A+A&=3b+3\\\\quad\\\\Rightarrow\\\\\\\\\\n21A&=3b+3.\\n\\\\end{align*}The smallest possible value for $A$ is 1, which gives us $21=3b+3$ and $b=6$. So the smallest sum $A+b=\\\\boxed{7}$. While there are other values for $A$ and $b$ that work, increasing $A$ will increase $b$, resulting in a larger sum.'}"
      ]
     },
     "execution_count": 18,
     "metadata": {},
     "output_type": "execute_result"
    }
   ],
   "source": [
    "datasets[dataset_name][0]"
   ]
  },
  {
   "cell_type": "code",
   "execution_count": 8,
   "id": "4bdd7876a03e2ffa",
   "metadata": {
    "ExecuteTime": {
     "end_time": "2024-04-27T20:22:51.880709Z",
     "start_time": "2024-04-27T20:22:51.867349Z"
    },
    "collapsed": false
   },
   "outputs": [
    {
     "name": "stdout",
     "output_type": "stream",
     "text": [
      "[{'role': 'user', 'content': 'Marcus has two numbers, $a$ and $b$.  When he divides $a$ by 45 he gets a remainder of 37.  When he divides $b$ by 30 he gets a remainder of $9$.  What remainder does he get when he divides $a+b$ by 15?\\nPlease reason step by step, and put your final answer within \\\\boxed{}.'}, {'role': 'assistant', 'content': 'Marcus has two equations: \\\\[a=45n+37\\\\]and \\\\[b=30m+9.\\\\]When he adds these he gets \\\\[a+b=45n+30m+37+9=15(3n+2m)+46=15(3n+2m+3)+1.\\\\]The remainder when $a+b$ is divided by 15 is $\\\\boxed{1}$.'}, {'role': 'user', 'content': 'If $AAA_4$ can be expressed as $33_b$, where $A$ is a digit in base 4 and $b$ is a base greater than 5, what is the smallest possible sum $A+b$?\\nPlease reason step by step, and put your final answer within \\\\boxed{}.'}, {'role': 'assistant', 'content': 'We can rewrite $AAA_4$ and $33_b$ to get \\\\begin{align*}\\n16A+4A+A&=3b+3\\\\quad\\\\Rightarrow\\\\\\\\\\n21A&=3b+3.\\n\\\\end{align*}The smallest possible value for $A$ is 1, which gives us $21=3b+3$ and $b=6$. So the smallest sum $A+b=\\\\boxed{7}$. While there are other values for $A$ and $b$ that work, increasing $A$ will increase $b$, resulting in a larger sum.'}, {'role': 'user', 'content': 'What day of the week will it be 40 days from Tuesday?\\nPlease reason step by step, and put your final answer within \\\\boxed{}.'}, {'role': 'assistant', 'content': 'When you divide 40 days in a week by 7 days, you get a remainder of 5.  Five days from Tuesday is $\\\\boxed{\\\\text{Sunday}}$.'}, {'role': 'user', 'content': 'What is the modular inverse of $11$, modulo $1000$?\\n\\nExpress your answer as an integer from $0$ to $999$, inclusive.\\nPlease reason step by step, and put your final answer within \\\\boxed{}.'}, {'role': 'assistant', 'content': 'We know that the modular inverse exists because $11$ and $1000$ are relatively prime. Notice that $1000 = 10^3$ and that $11 = 10 + 1$. Since $11 \\\\cdot 11^{-1} \\\\equiv 1 \\\\pmod{1000}$, it follows that $(10+1) \\\\cdot 11^{-1} = 10^3k + 1$ for some integer $k$. We recognize the potential sum of cubes factorization: if $k=1$, then $$10^3 + 1 = 1001 = 11 \\\\cdot (10^2 - 10 + 1) = 11 \\\\cdot 91.$$Thus, $11^{-1} \\\\equiv \\\\boxed{91} \\\\pmod{1000}$.'}, {'role': 'user', 'content': 'What is the base-ten number represented by the base-eight number 31?\\nPlease reason step by step, and put your final answer within \\\\boxed{}.'}]\n",
      "================================================================================\n",
      " The base-eight number 31 means $3 \\cdot 8^1 + 1 \\cdot 8^0 = 24 + 1 = 25$. So the base-ten number represented by the base-eight number 31 is 25. The answer is $\\boxed{25}$.\n"
     ]
    }
   ],
   "source": [
    "i = 4\n",
    "print(prompts[i])\n",
    "print('=' * 80)\n",
    "print(predictions.loc[(dataset_name, 'Deepseek-7b-RL', 'autoregressive')].predictions[i])"
   ]
  },
  {
   "cell_type": "code",
   "execution_count": 20,
   "id": "a2b2222bd66bedc9",
   "metadata": {
    "ExecuteTime": {
     "end_time": "2024-04-27T21:04:00.608807Z",
     "start_time": "2024-04-27T21:04:00.594243Z"
    },
    "collapsed": false
   },
   "outputs": [],
   "source": [
    "class Metric(Block):\n",
    "    def __init__(self, dataset):\n",
    "        super().__init__()\n",
    "        self.dataset = dataset\n",
    "\n",
    "    def process(self, predictions):\n",
    "        pass"
   ]
  },
  {
   "cell_type": "code",
   "execution_count": 37,
   "id": "e6c081d58036e89",
   "metadata": {
    "ExecuteTime": {
     "end_time": "2024-04-27T21:14:53.181037Z",
     "start_time": "2024-04-27T21:14:53.162684Z"
    },
    "collapsed": false
   },
   "outputs": [],
   "source": [
    "def get_answer(solution: str):\n",
    "    return latex_deformat(get_boxed_answer(solution))\n",
    "\n",
    "\n",
    "class BoxedMatch(Metric):\n",
    "    def __init__(self, dataset):\n",
    "        super().__init__(dataset)\n",
    "\n",
    "    def process(self, predictions):\n",
    "        boxed_match = []\n",
    "        for data, prediction in tqdm(zip(self.dataset, predictions)):\n",
    "            pred_answer = get_answer(prediction)\n",
    "            true_answer = get_answer(data['solution'])\n",
    "            boxed_match.append(pred_answer == true_answer)\n",
    "        return boxed_match"
   ]
  },
  {
   "cell_type": "code",
   "execution_count": 35,
   "id": "103edd04be73d2a6",
   "metadata": {
    "ExecuteTime": {
     "end_time": "2024-04-27T21:14:13.403992Z",
     "start_time": "2024-04-27T21:14:13.399922Z"
    },
    "collapsed": false
   },
   "outputs": [],
   "source": [
    "def apply_metric(predictions, metric, datasets):\n",
    "    metric_name = metric.__name__\n",
    "\n",
    "    def compute_metric(x):\n",
    "        dataset_name = x.name[0]\n",
    "        print(x.name)\n",
    "        return metric(datasets[dataset_name])(Batch(x.predictions))\n",
    "    \n",
    "    predictions[metric_name] = predictions.apply(compute_metric, axis=1)"
   ]
  },
  {
   "cell_type": "code",
   "execution_count": null,
   "id": "39800248146f4cc4",
   "metadata": {
    "collapsed": false
   },
   "outputs": [],
   "source": [
    "from tqdm.auto import tqdm\n",
    "\n",
    "apply_metric(predictions, BoxedMatch, datasets)"
   ]
  },
  {
   "cell_type": "code",
   "execution_count": 20,
   "id": "e2b53c115279e25",
   "metadata": {
    "ExecuteTime": {
     "end_time": "2024-04-25T22:34:21.273420Z",
     "start_time": "2024-04-25T22:34:21.266035Z"
    },
    "collapsed": false
   },
   "outputs": [
    {
     "name": "stdout",
     "output_type": "stream",
     "text": [
      "Question:\n",
      "[{'role': 'user', 'content': 'Let $A$ be the set of all numbers which can be represented as the sum of three consecutive positive integers. What is the greatest common divisor of all numbers in $A$?\\nPlease reason step by step, and put your final answer within \\\\boxed{}.'}, {'role': 'assistant', 'content': 'Each member in the set is of the form $(x-1)+x+(x+1)=3x$. Since $x$ can be any positive integer, the greatest common divisor of all these members is $\\\\boxed{3}$.'}, {'role': 'user', 'content': 'How many integers between 100 and 300 have both 11 and 8 as factors?\\nPlease reason step by step, and put your final answer within \\\\boxed{}.'}, {'role': 'assistant', 'content': 'The only numbers that have 11 and 8 as a factor are multiples of 88.  If we list the first few multiples of 88: $$88,176,264,352,...$$ we can see that there are exactly $\\\\boxed{2}$ between 100 and 300.'}, {'role': 'user', 'content': 'Express .$\\\\overline{28}$ as a common fraction.\\nPlease reason step by step, and put your final answer within \\\\boxed{}.'}, {'role': 'assistant', 'content': 'If $x=.\\\\overline{28}$, then $100x=28.\\\\overline{28}$. Notice that we can eliminate the repeating decimal by subtracting $.\\\\overline{28}$ from $28.\\\\overline{28}$. We have $100x-x=99x=28$, so $x=\\\\frac{28}{99}$. The repeating decimal can be expressed as the fraction $\\\\boxed{\\\\frac{28}{99}}$.'}, {'role': 'user', 'content': 'We know the following to be true:\\n\\n$\\\\bullet$ 1.  $Z$ and $K$ are integers with $500 < Z < 1000$ and $K > 1;$\\n\\n$\\\\bullet$ 2.  $Z$ = $K \\\\times K^2.$\\n\\nWhat is the value of $K$ for which $Z$ is a perfect square?\\nPlease reason step by step, and put your final answer within \\\\boxed{}.'}, {'role': 'assistant', 'content': 'From the second fact, we know that $Z=K^3.$ $Z$ is a perfect square if $K^3$ is a perfect square, so $Z$ is the sixth power of some integer. Since $500<Z<1000,$ the only value of $Z$ that works is $Z=3^6=729.$ Thus, $K=\\\\sqrt[3]{729}=\\\\boxed{9}.$'}, {'role': 'user', 'content': 'How many factors of 8000 are perfect squares?\\nPlease reason step by step, and put your final answer within \\\\boxed{}.'}, {'role': 'assistant', 'content': 'Any factor of $8000=2^6\\\\cdot5^3$ is in the form $2^a\\\\cdot5^b$ for $0\\\\le a\\\\le6$ and $0\\\\le b\\\\le3$. To count the number of perfect square factors, we must count the factors of $2^6\\\\cdot5^3$ that have $a=0$, $2$, $4$ or $6$ and $b=0$ or $2$. This gives $4\\\\cdot2=\\\\boxed{8}$ perfect square factors.'}, {'role': 'user', 'content': 'How many $3$-digit squares are palindromes?\\nPlease reason step by step, and put your final answer within \\\\boxed{}.'}]\n",
      "Answer:\n",
      "A palindrome is a number that remains the same when its digits are reversed. So the palindromes we're interested in are of the form $abcabc$, where $a$, $b$, and $c$ are digits. Then $abcabc=a(1001001)$. We're looking for the squares of $3$-digit numbers, so we need $100\\le a\\le999$.\n",
      "\n",
      "Since $1001001=7\\cdot11\\cdot13\\cdot1001$, the only squares that are multiples of $1001001$ are multiples of $7^2\\cdot11^2\\cdot13^2=2197\\cdot121\\cdot169$. \n",
      "\n",
      "Notice that the square of a number of the form $10a+b$ is $(10a+b)^2=100a^2+20ab+b^2=10(10a^2+2ab)+b^2$. Thus, the square of a $3$-digit number is of the form $10x+y$, where $x$ is a multiple of $9$ and $y$ is a $2$-digit number which is a multiple of $49$.\n",
      "\n",
      "We need $x$ to be a multiple of $169$, so $x$ must be of the form $169m$, where $m$ is a positive integer. Then the square is $10(1690m^2+338m)+y$. \n",
      "\n",
      "Notice that the $1001$st multiple of $169$ is $169+1001\\cdot169=16497$, which is not a perfect square. So the smallest perfect square that is a multiple of $169$ is $(169)^2$.\n",
      "\n",
      "Thus, the smallest $3$-digit palindrome square is $(100)^2=10000$, which is not a palindrome square, and the largest $3$-digit palindrome square is $(999)^2=998001$. \n",
      "\n",
      "So we need to find all the squares of the form $10x+y$ in the interval $10000\\le10x+y\\le998001$.\n",
      "\n",
      "Notice that $10000=10(1000)+0$, $10101=10(1010)+1$, $10204=10(1020)+4$, and so on. Thus, the squares we're interested in are of the form $10(10m^2+2m+n)+n^2$.\n",
      "\n",
      "Thus, we need to find the number of positive integers $m$ and $n$ for which $1000\\le10m^2+2m+n\\le998$ and $n^2\\le998$.\n",
      "\n",
      "Notice that the smallest value of $10m^2+2m$ is $10(1)^2+2(1)=12$. Since $1000-12=988$, we need $n\\le\\sqrt{988}<31.4$. Thus, $n$ must be one of $1,2,3,\\ldots,30$.\n",
      "\n",
      "Then we need to find the number of positive integers $m$ for which $10m^2+2m+n\\le998$ for each $n$.\n",
      "\n",
      "Notice that $10m^2+2m+n=10(m+\\frac{1}{10})^2+(n-\\frac{1}{5})$. Since $m$ is a positive integer, $m+\\frac{1}{10}\\ge\\frac{11}{10}$. Thus, we need $$10(m+\\frac{1}{10})^2\\le998-n+\\frac{1}{5}$$ for each $n$.\n",
      "\n",
      "Then we need $m\\le\\sqrt{\\frac{998-n+\\frac{1}{5}}{10}}-\\frac{1}{10}$ for each $n$.\n",
      "\n",
      "Notice that $\\sqrt{\\frac{998-n+\\frac{1}{5}}{10}}-\\frac{1}{10}$ is decreasing in $n$, so we can find the maximum $m$ by finding the largest $n$ for which $m$ is an integer.\n",
      "\n",
      "Thus, we need to find the largest $n$ for which $\\lfloor\\sqrt{\\frac{998-n+\\frac{1}{5}}{10}}-\\frac{1}{10}\\rfloor\\ge1$.\n",
      "\n",
      "Notice that $\\sqrt{\\frac{998-n+\\frac{1}{5}}{10}}-\\frac{1}{10}$ is approximately $9.9367$ for $n=1$, $9.8811$ for $n=2$, $9.8255$ for $n=3$, and so on. Thus, the largest $n$ is $n=1$.\n",
      "\n",
      "Then we need $\\lfloor\\sqrt{\\frac{998-1+\\frac{1}{5}}{10}}-\\frac{1}{10}\\rfloor\\ge1$, so we need $\\lfloor\\sqrt{\\frac{999.2}{10}}-\\frac{1}{10}\\rfloor\\ge1$.\n",
      "\n",
      "Notice that $\\sqrt{\\frac{999.2}{10}}-\\frac{1}{10}\\approx9.9449$, so the largest $n$ is $n=1$.\n",
      "\n",
      "Then we need $10m^2+2m+1\\le998$, so we need $10m^2+2m-997\\le0$.\n",
      "\n",
      "Notice that the discriminant of $10m^2+2m-997$ is $100+3988=4088=2^3\\cdot507$. Thus, there are $3+\\frac{507-1}{4}=128$ integers $m$ that satisfy $10m^2+2m-997\\le0$.\n",
      "\n",
      "Thus, there are $30$ numbers of the form $10x+n^2$ in the interval $1000\\le10x+n^2\\le998$ for $n=1,2,3,\\ldots,30$.\n",
      "\n",
      "Thus, the number of $3$-digit palindrome squares is $\\boxed{30}$.\n"
     ]
    }
   ],
   "source": [
    "i = 5\n",
    "print('Question:')\n",
    "print(prompts[i])\n",
    "print('Answer:')\n",
    "print(outputs[i])"
   ]
  }
 ],
 "metadata": {
  "kernelspec": {
   "display_name": "Python 3",
   "language": "python",
   "name": "python3"
  },
  "language_info": {
   "codemirror_mode": {
    "name": "ipython",
    "version": 2
   },
   "file_extension": ".py",
   "mimetype": "text/x-python",
   "name": "python",
   "nbconvert_exporter": "python",
   "pygments_lexer": "ipython2",
   "version": "2.7.6"
  }
 },
 "nbformat": 4,
 "nbformat_minor": 5
}
